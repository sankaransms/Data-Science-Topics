{
  "nbformat": 4,
  "nbformat_minor": 0,
  "metadata": {
    "colab": {
      "provenance": [],
      "collapsed_sections": [
        "2uopVu5ff2At",
        "7UJUaRScfmrc",
        "4xwEdanNfpbG",
        "1ACoBviHlk9H",
        "dvIRp0vBh8yB",
        "QOW2P7AEiAu5",
        "Zr4Tynz0iDfC",
        "Ee75xz-3mxDE",
        "llGIT8w4nAyF",
        "D-hHUVaeHh38",
        "_VoQY9XaHnhR",
        "C1Nlo0TyIoP_",
        "ZinqAx7dqa6y",
        "3ATfSf0NKE7-",
        "MxhnIb2GKRE3",
        "bLViaObaKvTY",
        "rS-Nm96ivn9n",
        "tlOlsGJaw4Zs",
        "odODXEi2xDIM",
        "8AHlnDb_hss6",
        "xWdHukTk0TCp",
        "uI9aL3t3LXXs",
        "ZD1knoXPLgWC",
        "EixxIuxlNy84",
        "e72qW4y4Ps8m",
        "6vWf7bR_TZf1",
        "5FvH1aCmUYgC",
        "pprTiyWw03qJ",
        "jrMdikCVr6yt",
        "HPz50CKFsUfU",
        "kOM8gMW0zj0E",
        "YsvDjmv1DwTo",
        "JvyMIvaQeIZB",
        "ueaSx6Dsd55t",
        "_PZMuTtGLfLH",
        "KLd_-5Qinbf-",
        "-Cs29aA3njSd",
        "v3su-QhLnqda",
        "vdJolstTWCNa",
        "ABh0lNlHaKS8",
        "MKj4TPjSavga",
        "OWCUyAgTflEK",
        "cvxoLk_5mb3f",
        "7p7gMiGGX5tJ"
      ],
      "toc_visible": true
    },
    "kernelspec": {
      "name": "python3",
      "display_name": "Python 3"
    },
    "language_info": {
      "name": "python"
    }
  },
  "cells": [
    {
      "cell_type": "markdown",
      "source": [
        "# **Numpy Cheat Sheet📃**"
      ],
      "metadata": {
        "id": "5VZyVGLvBON-"
      }
    },
    {
      "cell_type": "markdown",
      "source": [
        "<img src=\"https://cdn.hashnode.com/res/hashnode/image/upload/v1619688294043/sJpLtCHcE.png?w=1600&h=840&fit=crop&crop=entropy&auto=compress,format&format=webp\">"
      ],
      "metadata": {
        "id": "ujO21dOGCJ-j"
      }
    },
    {
      "cell_type": "markdown",
      "source": [
        "# <font color=\"red\">**1) Import**</font>"
      ],
      "metadata": {
        "id": "2uopVu5ff2At"
      }
    },
    {
      "cell_type": "code",
      "execution_count": null,
      "metadata": {
        "id": "YYmRupJ9dqMo"
      },
      "outputs": [],
      "source": [
        "import numpy as np"
      ]
    },
    {
      "cell_type": "markdown",
      "source": [
        "# <font color=\"red\">**2) Why numpy**</font>\n",
        "\n",
        "- Supports **element wise operations and Vectorization**\n"
      ],
      "metadata": {
        "id": "7UJUaRScfmrc"
      }
    },
    {
      "cell_type": "code",
      "source": [
        "# In list -> Multiply by 2 doubls the list:\n",
        "[1,2,3] * 2"
      ],
      "metadata": {
        "colab": {
          "base_uri": "https://localhost:8080/"
        },
        "id": "KhNp3eD7J6kx",
        "outputId": "f8f31978-247a-4463-8da6-ece8ac217f89"
      },
      "execution_count": null,
      "outputs": [
        {
          "output_type": "execute_result",
          "data": {
            "text/plain": [
              "[1, 2, 3, 1, 2, 3]"
            ]
          },
          "metadata": {},
          "execution_count": 471
        }
      ]
    },
    {
      "cell_type": "code",
      "source": [
        "# Initializating array using python list\n",
        "arr = np.array([1,2,3,4,5])\n",
        "arr"
      ],
      "metadata": {
        "colab": {
          "base_uri": "https://localhost:8080/"
        },
        "id": "RVFrQKrheIeK",
        "outputId": "6e0dc274-df95-4ce6-b9bb-76e5765ebf83"
      },
      "execution_count": null,
      "outputs": [
        {
          "output_type": "execute_result",
          "data": {
            "text/plain": [
              "array([1, 2, 3, 4, 5])"
            ]
          },
          "metadata": {},
          "execution_count": 472
        }
      ]
    },
    {
      "cell_type": "code",
      "source": [
        "# In numpy array ->  Multiplies 2 with all the element in the numpy array\n",
        "arr * 2"
      ],
      "metadata": {
        "colab": {
          "base_uri": "https://localhost:8080/"
        },
        "id": "uHLakAvueR3F",
        "outputId": "a7f4c9e8-1db9-4fc1-f639-f3336a395d14"
      },
      "execution_count": null,
      "outputs": [
        {
          "output_type": "execute_result",
          "data": {
            "text/plain": [
              "array([ 2,  4,  6,  8, 10])"
            ]
          },
          "metadata": {},
          "execution_count": 473
        }
      ]
    },
    {
      "cell_type": "code",
      "source": [
        "range(1000000)"
      ],
      "metadata": {
        "colab": {
          "base_uri": "https://localhost:8080/"
        },
        "id": "vO40aKXxBRXL",
        "outputId": "1c82febd-8765-4c14-9559-4fdba84e2615"
      },
      "execution_count": null,
      "outputs": [
        {
          "output_type": "execute_result",
          "data": {
            "text/plain": [
              "range(0, 1000000)"
            ]
          },
          "metadata": {},
          "execution_count": 474
        }
      ]
    },
    {
      "cell_type": "code",
      "source": [
        "# In list -> Element wise operation is done using \"List Comprehension\"\n",
        "l = range(1000000)\n",
        "%timeit [elem**2 for elem in l]"
      ],
      "metadata": {
        "colab": {
          "base_uri": "https://localhost:8080/"
        },
        "id": "YTLnrs5Iearf",
        "outputId": "6d59ea9a-1f74-4945-d454-c5543ecce911"
      },
      "execution_count": null,
      "outputs": [
        {
          "output_type": "stream",
          "name": "stdout",
          "text": [
            "359 ms ± 22.6 ms per loop (mean ± std. dev. of 7 runs, 1 loop each)\n"
          ]
        }
      ]
    },
    {
      "cell_type": "markdown",
      "source": [
        "**OBSERVATION:**\n",
        "\n",
        "- Python list takes 500 milli sec for squaring elements."
      ],
      "metadata": {
        "id": "dtqkd309LlW_"
      }
    },
    {
      "cell_type": "code",
      "source": [
        "# In Numpy array -> Element wise operation is performed directly\n",
        "# Faster execution speed:\n",
        "l = np.array(range(1000000))\n",
        "%timeit (l**2)"
      ],
      "metadata": {
        "colab": {
          "base_uri": "https://localhost:8080/"
        },
        "id": "LmNkjpcGfA8t",
        "outputId": "cbc1c8fe-f8cd-4448-e678-553d46fd0054"
      },
      "execution_count": null,
      "outputs": [
        {
          "output_type": "stream",
          "name": "stdout",
          "text": [
            "948 µs ± 126 µs per loop (mean ± std. dev. of 7 runs, 1000 loops each)\n"
          ]
        }
      ]
    },
    {
      "cell_type": "markdown",
      "source": [
        "**OBSERVATION:**\n",
        "\n",
        "- Numpy array takes 850 micro sec for squaring elements.\n",
        "- Numpy internally uses C arrays"
      ],
      "metadata": {
        "id": "xBI1F1C0LwwH"
      }
    },
    {
      "cell_type": "markdown",
      "source": [
        "# <font color=\"red\">**3) Initialization Array**</font>"
      ],
      "metadata": {
        "id": "4xwEdanNfpbG"
      }
    },
    {
      "cell_type": "code",
      "source": [
        "# Initializating array using python list\n",
        "arr1 = np.array([4,11,53,2,9])\n",
        "type(arr1)"
      ],
      "metadata": {
        "colab": {
          "base_uri": "https://localhost:8080/"
        },
        "id": "JIEttTpvfNOq",
        "outputId": "13854f40-7d17-43b1-e5d0-f816f2e2851a"
      },
      "execution_count": null,
      "outputs": [
        {
          "output_type": "execute_result",
          "data": {
            "text/plain": [
              "numpy.ndarray"
            ]
          },
          "metadata": {},
          "execution_count": 477
        }
      ]
    },
    {
      "cell_type": "code",
      "source": [
        "# Creating 2D array of float datatype\n",
        "arr2 = np.array([[2,7,11],[4,8,2]], dtype = \"float\")\n",
        "arr2"
      ],
      "metadata": {
        "colab": {
          "base_uri": "https://localhost:8080/"
        },
        "id": "6Stvj5p9gSMo",
        "outputId": "1a76ecef-3358-40be-fad9-c50c1328a664"
      },
      "execution_count": null,
      "outputs": [
        {
          "output_type": "execute_result",
          "data": {
            "text/plain": [
              "array([[ 2.,  7., 11.],\n",
              "       [ 4.,  8.,  2.]])"
            ]
          },
          "metadata": {},
          "execution_count": 478
        }
      ]
    },
    {
      "cell_type": "code",
      "source": [
        "# Changing the datatype\n",
        "arr3 = arr2.astype(\"int\")\n",
        "arr3"
      ],
      "metadata": {
        "colab": {
          "base_uri": "https://localhost:8080/"
        },
        "id": "QKINVrbwhoki",
        "outputId": "b23086e8-eef0-4ecc-beab-4f0cd9bc7b70"
      },
      "execution_count": null,
      "outputs": [
        {
          "output_type": "execute_result",
          "data": {
            "text/plain": [
              "array([[ 2,  7, 11],\n",
              "       [ 4,  8,  2]])"
            ]
          },
          "metadata": {},
          "execution_count": 479
        }
      ]
    },
    {
      "cell_type": "code",
      "source": [
        "# Np array is similar to python range:\n",
        "arr3 = np.arange(5)\n",
        "arr3"
      ],
      "metadata": {
        "colab": {
          "base_uri": "https://localhost:8080/"
        },
        "id": "ShRn3jZGiQDl",
        "outputId": "1711e41b-f16d-4990-b1b0-598e1a41fe40"
      },
      "execution_count": null,
      "outputs": [
        {
          "output_type": "execute_result",
          "data": {
            "text/plain": [
              "array([0, 1, 2, 3, 4])"
            ]
          },
          "metadata": {},
          "execution_count": 480
        }
      ]
    },
    {
      "cell_type": "code",
      "source": [
        "# Initializating array using \"Stop\"\n",
        "arr3 = np.arange(stop = 5)\n",
        "arr3"
      ],
      "metadata": {
        "colab": {
          "base_uri": "https://localhost:8080/"
        },
        "id": "Ol6ePOH6ivcP",
        "outputId": "28ae2270-b1de-4ae1-f631-324626199db7"
      },
      "execution_count": null,
      "outputs": [
        {
          "output_type": "execute_result",
          "data": {
            "text/plain": [
              "array([0, 1, 2, 3, 4])"
            ]
          },
          "metadata": {},
          "execution_count": 481
        }
      ]
    },
    {
      "cell_type": "code",
      "source": [
        "# Initializating array using \"start, stop, step\"\n",
        "arr4 = np.arange(start = 2, stop = 10, step = 1.5)\n",
        "arr4"
      ],
      "metadata": {
        "colab": {
          "base_uri": "https://localhost:8080/"
        },
        "id": "BtJgPLstiyn5",
        "outputId": "185dab22-54ad-4e8e-ae44-733389ae2e9c"
      },
      "execution_count": null,
      "outputs": [
        {
          "output_type": "execute_result",
          "data": {
            "text/plain": [
              "array([2. , 3.5, 5. , 6.5, 8. , 9.5])"
            ]
          },
          "metadata": {},
          "execution_count": 482
        }
      ]
    },
    {
      "cell_type": "code",
      "source": [
        "# Evenly spaced numbers over specified intervals:\n",
        "np.linspace(start = 0, stop = 100, num = 5) # 0 to 100 is divided into 5 equal parts"
      ],
      "metadata": {
        "colab": {
          "base_uri": "https://localhost:8080/"
        },
        "id": "bE6R-9ShjCgo",
        "outputId": "96e5654e-d71f-4c04-8def-07a9972f7f45"
      },
      "execution_count": null,
      "outputs": [
        {
          "output_type": "execute_result",
          "data": {
            "text/plain": [
              "array([  0.,  25.,  50.,  75., 100.])"
            ]
          },
          "metadata": {},
          "execution_count": 483
        }
      ]
    },
    {
      "cell_type": "code",
      "source": [
        "np.linspace(0,10,5)"
      ],
      "metadata": {
        "colab": {
          "base_uri": "https://localhost:8080/"
        },
        "id": "1DvEz4rLjjaJ",
        "outputId": "03aef218-0493-4c93-f6e2-5305adba378a"
      },
      "execution_count": null,
      "outputs": [
        {
          "output_type": "execute_result",
          "data": {
            "text/plain": [
              "array([ 0. ,  2.5,  5. ,  7.5, 10. ])"
            ]
          },
          "metadata": {},
          "execution_count": 484
        }
      ]
    },
    {
      "cell_type": "code",
      "source": [
        "# Create 1D arry with all elemant as 0's\n",
        "zero_arr = np.zeros(3)\n",
        "zero_arr"
      ],
      "metadata": {
        "colab": {
          "base_uri": "https://localhost:8080/"
        },
        "id": "gg-oHdFZkDq0",
        "outputId": "ca6f9731-cca5-478a-b0cc-90bd0f159ed4"
      },
      "execution_count": null,
      "outputs": [
        {
          "output_type": "execute_result",
          "data": {
            "text/plain": [
              "array([0., 0., 0.])"
            ]
          },
          "metadata": {},
          "execution_count": 485
        }
      ]
    },
    {
      "cell_type": "code",
      "source": [
        "# Create 2D arry with all elemant as 0's of given rows and cols\n",
        "zero_arr_2d = np.zeros((2,3))\n",
        "zero_arr_2d"
      ],
      "metadata": {
        "colab": {
          "base_uri": "https://localhost:8080/"
        },
        "id": "LXN6JJfHkX9Y",
        "outputId": "98221c66-143c-43f4-bc9d-19e6bb9c2283"
      },
      "execution_count": null,
      "outputs": [
        {
          "output_type": "execute_result",
          "data": {
            "text/plain": [
              "array([[0., 0., 0.],\n",
              "       [0., 0., 0.]])"
            ]
          },
          "metadata": {},
          "execution_count": 486
        }
      ]
    },
    {
      "cell_type": "code",
      "source": [
        "# Create 1D arry with all elemant as 1's\n",
        "np.ones(4)"
      ],
      "metadata": {
        "colab": {
          "base_uri": "https://localhost:8080/"
        },
        "id": "wkx3q7jPksTZ",
        "outputId": "dbef6d77-994d-4255-fe6b-16b2d02fb99f"
      },
      "execution_count": null,
      "outputs": [
        {
          "output_type": "execute_result",
          "data": {
            "text/plain": [
              "array([1., 1., 1., 1.])"
            ]
          },
          "metadata": {},
          "execution_count": 487
        }
      ]
    },
    {
      "cell_type": "code",
      "source": [
        "# Create 2D arry with all elemant as 1's\n",
        "np.ones((4,5))"
      ],
      "metadata": {
        "colab": {
          "base_uri": "https://localhost:8080/"
        },
        "id": "l-Y0KCv2k0rX",
        "outputId": "b0c99284-7bf5-411e-d331-2fe75b43796a"
      },
      "execution_count": null,
      "outputs": [
        {
          "output_type": "execute_result",
          "data": {
            "text/plain": [
              "array([[1., 1., 1., 1., 1.],\n",
              "       [1., 1., 1., 1., 1.],\n",
              "       [1., 1., 1., 1., 1.],\n",
              "       [1., 1., 1., 1., 1.]])"
            ]
          },
          "metadata": {},
          "execution_count": 488
        }
      ]
    },
    {
      "cell_type": "code",
      "source": [
        "# Create 2D arry with random elemants of given rows and cols\n",
        "np.random.rand(4,3)"
      ],
      "metadata": {
        "colab": {
          "base_uri": "https://localhost:8080/"
        },
        "id": "SfMBC9q1k5KX",
        "outputId": "787c2ea9-943d-44e7-afbd-f6a80004eefa"
      },
      "execution_count": null,
      "outputs": [
        {
          "output_type": "execute_result",
          "data": {
            "text/plain": [
              "array([[0.79986896, 0.55477455, 0.25373279],\n",
              "       [0.08110269, 0.26156465, 0.0218557 ],\n",
              "       [0.5741761 , 0.2088845 , 0.87883258],\n",
              "       [0.12360433, 0.59388677, 0.97895681]])"
            ]
          },
          "metadata": {},
          "execution_count": 489
        }
      ]
    },
    {
      "cell_type": "markdown",
      "source": [
        "# <font color=\"red\">**4) Property of Array**</font>"
      ],
      "metadata": {
        "id": "1ACoBviHlk9H"
      }
    },
    {
      "cell_type": "markdown",
      "source": [
        "## <font color=\"orange\">**4.1) For 1D**</font>"
      ],
      "metadata": {
        "id": "dvIRp0vBh8yB"
      }
    },
    {
      "cell_type": "code",
      "source": [
        "'''\n",
        "np.array([])\n",
        "'''"
      ],
      "metadata": {
        "colab": {
          "base_uri": "https://localhost:8080/"
        },
        "id": "a9SCA8SrDp_Y",
        "outputId": "0ac36c72-0196-4491-efa2-99f91eb85b38"
      },
      "execution_count": null,
      "outputs": [
        {
          "output_type": "execute_result",
          "data": {
            "text/plain": [
              "'\\nnp.array([])\\n'"
            ],
            "application/vnd.google.colaboratory.intrinsic+json": {
              "type": "string"
            }
          },
          "metadata": {},
          "execution_count": 490
        }
      ]
    },
    {
      "cell_type": "code",
      "source": [
        "# Initializating 1D array using python list\n",
        "arr1 = np.array([4,11,53,2,9])\n",
        "arr1"
      ],
      "metadata": {
        "colab": {
          "base_uri": "https://localhost:8080/"
        },
        "id": "4YFW6Y6JlOFt",
        "outputId": "5a53a8da-ac39-45fe-9b69-16a8683913f1"
      },
      "execution_count": null,
      "outputs": [
        {
          "output_type": "execute_result",
          "data": {
            "text/plain": [
              "array([ 4, 11, 53,  2,  9])"
            ]
          },
          "metadata": {},
          "execution_count": 491
        }
      ]
    },
    {
      "cell_type": "code",
      "source": [
        "# Datatype of array:\n",
        "arr1.dtype"
      ],
      "metadata": {
        "colab": {
          "base_uri": "https://localhost:8080/"
        },
        "id": "Q6nnAiDiRWKr",
        "outputId": "52e458ef-3151-4aeb-d47d-fb7a604b9c76"
      },
      "execution_count": null,
      "outputs": [
        {
          "output_type": "execute_result",
          "data": {
            "text/plain": [
              "dtype('int64')"
            ]
          },
          "metadata": {},
          "execution_count": 492
        }
      ]
    },
    {
      "cell_type": "code",
      "source": [
        "# No of dimensions of the array\n",
        "arr1.ndim"
      ],
      "metadata": {
        "colab": {
          "base_uri": "https://localhost:8080/"
        },
        "id": "B8fwu4Ogl5Xx",
        "outputId": "2da6a5e4-1f2d-4712-98fe-778df626aec1"
      },
      "execution_count": null,
      "outputs": [
        {
          "output_type": "execute_result",
          "data": {
            "text/plain": [
              "1"
            ]
          },
          "metadata": {},
          "execution_count": 493
        }
      ]
    },
    {
      "cell_type": "code",
      "source": [
        "# Shape of an array\n",
        "arr1.shape"
      ],
      "metadata": {
        "colab": {
          "base_uri": "https://localhost:8080/"
        },
        "id": "2R6ZSSi_mIvU",
        "outputId": "1964fc50-e314-4612-84a8-b05c71863130"
      },
      "execution_count": null,
      "outputs": [
        {
          "output_type": "execute_result",
          "data": {
            "text/plain": [
              "(5,)"
            ]
          },
          "metadata": {},
          "execution_count": 494
        }
      ]
    },
    {
      "cell_type": "markdown",
      "source": [
        "## <font color=\"orange\">**4.2) For 2D**</font>"
      ],
      "metadata": {
        "id": "QOW2P7AEiAu5"
      }
    },
    {
      "cell_type": "code",
      "source": [
        "'''\n",
        "np.array([[],[]])\n",
        "'''"
      ],
      "metadata": {
        "colab": {
          "base_uri": "https://localhost:8080/"
        },
        "id": "EBweb564DfLP",
        "outputId": "caac57a0-bc04-46b1-933e-6ae1fbdad19e"
      },
      "execution_count": null,
      "outputs": [
        {
          "output_type": "execute_result",
          "data": {
            "text/plain": [
              "'\\nnp.array([[],[]])\\n'"
            ],
            "application/vnd.google.colaboratory.intrinsic+json": {
              "type": "string"
            }
          },
          "metadata": {},
          "execution_count": 495
        }
      ]
    },
    {
      "cell_type": "code",
      "source": [
        "# Initializating 2D array using python list of lists\n",
        "arr2 = np.array([[2,7,11],[4,8,2]])\n",
        "arr2"
      ],
      "metadata": {
        "colab": {
          "base_uri": "https://localhost:8080/"
        },
        "id": "agD35JhUmKbr",
        "outputId": "c3e14282-45aa-4062-c685-28165cf35245"
      },
      "execution_count": null,
      "outputs": [
        {
          "output_type": "execute_result",
          "data": {
            "text/plain": [
              "array([[ 2,  7, 11],\n",
              "       [ 4,  8,  2]])"
            ]
          },
          "metadata": {},
          "execution_count": 496
        }
      ]
    },
    {
      "cell_type": "code",
      "source": [
        "# Datatype of array:\n",
        "arr2.dtype"
      ],
      "metadata": {
        "colab": {
          "base_uri": "https://localhost:8080/"
        },
        "id": "tB2U_wPDmfai",
        "outputId": "5957dfc1-ab8c-4da1-f17a-d239138174a0"
      },
      "execution_count": null,
      "outputs": [
        {
          "output_type": "execute_result",
          "data": {
            "text/plain": [
              "dtype('int64')"
            ]
          },
          "metadata": {},
          "execution_count": 497
        }
      ]
    },
    {
      "cell_type": "code",
      "source": [
        "# No of dimensions of the array\n",
        "arr2.ndim"
      ],
      "metadata": {
        "colab": {
          "base_uri": "https://localhost:8080/"
        },
        "id": "TCcN6LQ-mmdH",
        "outputId": "fc41cd31-ae1f-4865-f4ee-9179d18bb59c"
      },
      "execution_count": null,
      "outputs": [
        {
          "output_type": "execute_result",
          "data": {
            "text/plain": [
              "2"
            ]
          },
          "metadata": {},
          "execution_count": 498
        }
      ]
    },
    {
      "cell_type": "code",
      "source": [
        "# Shape of an array\n",
        "arr2.shape"
      ],
      "metadata": {
        "colab": {
          "base_uri": "https://localhost:8080/"
        },
        "id": "LXabJ1Qzmpzs",
        "outputId": "0d1aa182-d11b-4dd3-966b-19f3ab68bde5"
      },
      "execution_count": null,
      "outputs": [
        {
          "output_type": "execute_result",
          "data": {
            "text/plain": [
              "(2, 3)"
            ]
          },
          "metadata": {},
          "execution_count": 499
        }
      ]
    },
    {
      "cell_type": "markdown",
      "source": [
        "## <font color=\"orange\">**4.3) For 3D**</font>"
      ],
      "metadata": {
        "id": "Zr4Tynz0iDfC"
      }
    },
    {
      "cell_type": "code",
      "source": [
        "'''\n",
        "np.array([[[]]])\n",
        "'''"
      ],
      "metadata": {
        "colab": {
          "base_uri": "https://localhost:8080/"
        },
        "id": "x6l2YhIZD7lO",
        "outputId": "f68b2ffd-0e8b-4961-a940-fb09b23a7670"
      },
      "execution_count": null,
      "outputs": [
        {
          "output_type": "execute_result",
          "data": {
            "text/plain": [
              "'\\nnp.array([[[]]])\\n'"
            ],
            "application/vnd.google.colaboratory.intrinsic+json": {
              "type": "string"
            }
          },
          "metadata": {},
          "execution_count": 500
        }
      ]
    },
    {
      "cell_type": "code",
      "source": [
        "# Initializating 3D array using python list of list of lists\n",
        "array3d1 = np.array([[[1,2],[5,6],[4,5]],[[7,4],[5,6],[5,4]],[[1,2],[5,6],[6,2]]])\n",
        "array3d1"
      ],
      "metadata": {
        "colab": {
          "base_uri": "https://localhost:8080/"
        },
        "id": "LFJqhench7Kp",
        "outputId": "98ed4ed8-e70b-4e64-eedf-8232cee79739"
      },
      "execution_count": null,
      "outputs": [
        {
          "output_type": "execute_result",
          "data": {
            "text/plain": [
              "array([[[1, 2],\n",
              "        [5, 6],\n",
              "        [4, 5]],\n",
              "\n",
              "       [[7, 4],\n",
              "        [5, 6],\n",
              "        [5, 4]],\n",
              "\n",
              "       [[1, 2],\n",
              "        [5, 6],\n",
              "        [6, 2]]])"
            ]
          },
          "metadata": {},
          "execution_count": 501
        }
      ]
    },
    {
      "cell_type": "code",
      "source": [
        "# Datatype of array:\n",
        "array3d1.dtype"
      ],
      "metadata": {
        "colab": {
          "base_uri": "https://localhost:8080/"
        },
        "id": "lhbag3oBSzoK",
        "outputId": "47b6663b-7d44-42ac-a6ca-3fcec2dc2187"
      },
      "execution_count": null,
      "outputs": [
        {
          "output_type": "execute_result",
          "data": {
            "text/plain": [
              "dtype('int64')"
            ]
          },
          "metadata": {},
          "execution_count": 502
        }
      ]
    },
    {
      "cell_type": "code",
      "source": [
        "# No of dimensions of the array\n",
        "array3d1.ndim"
      ],
      "metadata": {
        "colab": {
          "base_uri": "https://localhost:8080/"
        },
        "id": "Rm6wKEwniWuJ",
        "outputId": "e809294d-a4fb-417c-ddf2-720971fe7122"
      },
      "execution_count": null,
      "outputs": [
        {
          "output_type": "execute_result",
          "data": {
            "text/plain": [
              "3"
            ]
          },
          "metadata": {},
          "execution_count": 503
        }
      ]
    },
    {
      "cell_type": "code",
      "source": [
        "# Shape of an array\n",
        "array3d1.shape"
      ],
      "metadata": {
        "colab": {
          "base_uri": "https://localhost:8080/"
        },
        "id": "e1KG_WaMiG0a",
        "outputId": "dfb35bae-d349-4a56-f9d3-dc57316ea353"
      },
      "execution_count": null,
      "outputs": [
        {
          "output_type": "execute_result",
          "data": {
            "text/plain": [
              "(3, 3, 2)"
            ]
          },
          "metadata": {},
          "execution_count": 504
        }
      ]
    },
    {
      "cell_type": "code",
      "source": [
        "# Initializating 3D array using python list of list of lists\n",
        "array3d2 = np.array([[[1,2],[5,6],[4,5]],[[7,4],[5,6],[5,4]]])\n",
        "array3d2"
      ],
      "metadata": {
        "colab": {
          "base_uri": "https://localhost:8080/"
        },
        "id": "FVMzM_5FiQhZ",
        "outputId": "4bfe433c-046f-4f02-cb4c-d65b5b28ddd4"
      },
      "execution_count": null,
      "outputs": [
        {
          "output_type": "execute_result",
          "data": {
            "text/plain": [
              "array([[[1, 2],\n",
              "        [5, 6],\n",
              "        [4, 5]],\n",
              "\n",
              "       [[7, 4],\n",
              "        [5, 6],\n",
              "        [5, 4]]])"
            ]
          },
          "metadata": {},
          "execution_count": 505
        }
      ]
    },
    {
      "cell_type": "code",
      "source": [
        "# No of dimensions of the array\n",
        "array3d2.ndim"
      ],
      "metadata": {
        "colab": {
          "base_uri": "https://localhost:8080/"
        },
        "id": "tSKzqQvuiZmS",
        "outputId": "4ce3b079-6cd9-441d-c49b-98d60d60e89f"
      },
      "execution_count": null,
      "outputs": [
        {
          "output_type": "execute_result",
          "data": {
            "text/plain": [
              "3"
            ]
          },
          "metadata": {},
          "execution_count": 506
        }
      ]
    },
    {
      "cell_type": "code",
      "source": [
        "# Shape of an array\n",
        "array3d2.shape"
      ],
      "metadata": {
        "colab": {
          "base_uri": "https://localhost:8080/"
        },
        "id": "QTUdcRZIiTVZ",
        "outputId": "efa5db78-f4a2-410b-f4e0-264d506a9762"
      },
      "execution_count": null,
      "outputs": [
        {
          "output_type": "execute_result",
          "data": {
            "text/plain": [
              "(2, 3, 2)"
            ]
          },
          "metadata": {},
          "execution_count": 507
        }
      ]
    },
    {
      "cell_type": "code",
      "source": [
        "# Understanding the shape:\n",
        "'''\n",
        "(How many sets, In each set(no. of rows), In each set(no. of columns))\n",
        "'''"
      ],
      "metadata": {
        "id": "87LQ3eKDifVZ",
        "colab": {
          "base_uri": "https://localhost:8080/"
        },
        "outputId": "76410296-26d9-4e1e-b963-35ac722d4de0"
      },
      "execution_count": null,
      "outputs": [
        {
          "output_type": "execute_result",
          "data": {
            "text/plain": [
              "'\\n(How many sets, In each set(no. of rows), In each set(no. of columns))\\n'"
            ],
            "application/vnd.google.colaboratory.intrinsic+json": {
              "type": "string"
            }
          },
          "metadata": {},
          "execution_count": 508
        }
      ]
    },
    {
      "cell_type": "code",
      "source": [
        "# Initializating 3D array using python list of list of lists\n",
        "array3d3 = np.array([[[ 0, 1, 2],[ 3, 4, 5],[ 6, 7, 8]],[[ 9, 10, 11],[12, 13, 14],[15, 16, 17]]])\n",
        "array3d3"
      ],
      "metadata": {
        "colab": {
          "base_uri": "https://localhost:8080/"
        },
        "id": "CO5EX3DIimY5",
        "outputId": "95250e19-9ceb-4fc9-c8f9-13be6e8e9dcf"
      },
      "execution_count": null,
      "outputs": [
        {
          "output_type": "execute_result",
          "data": {
            "text/plain": [
              "array([[[ 0,  1,  2],\n",
              "        [ 3,  4,  5],\n",
              "        [ 6,  7,  8]],\n",
              "\n",
              "       [[ 9, 10, 11],\n",
              "        [12, 13, 14],\n",
              "        [15, 16, 17]]])"
            ]
          },
          "metadata": {},
          "execution_count": 509
        }
      ]
    },
    {
      "cell_type": "code",
      "source": [
        "# Shape of an array\n",
        "array3d3.shape"
      ],
      "metadata": {
        "colab": {
          "base_uri": "https://localhost:8080/"
        },
        "id": "qnE8qcnGitJh",
        "outputId": "bc4aa34b-8563-41f2-8dd6-89acf4e78cfc"
      },
      "execution_count": null,
      "outputs": [
        {
          "output_type": "execute_result",
          "data": {
            "text/plain": [
              "(2, 3, 3)"
            ]
          },
          "metadata": {},
          "execution_count": 510
        }
      ]
    },
    {
      "cell_type": "markdown",
      "source": [
        "# <font color=\"red\">**5) Accessing Elements**</font>"
      ],
      "metadata": {
        "id": "Ee75xz-3mxDE"
      }
    },
    {
      "cell_type": "markdown",
      "source": [
        "## <font color=\"orange\">**5.1) Acessing single element(Indexing)**</font>"
      ],
      "metadata": {
        "id": "llGIT8w4nAyF"
      }
    },
    {
      "cell_type": "markdown",
      "source": [
        "### <font color=\"morange\">**5.1.1) For 1D**</font>"
      ],
      "metadata": {
        "id": "D-hHUVaeHh38"
      }
    },
    {
      "cell_type": "code",
      "source": [
        "# For 1D:\n",
        "arr1"
      ],
      "metadata": {
        "colab": {
          "base_uri": "https://localhost:8080/"
        },
        "id": "UNm2FBUYojXz",
        "outputId": "055d9523-b654-4b6b-d3a4-923dd27bb08e"
      },
      "execution_count": null,
      "outputs": [
        {
          "output_type": "execute_result",
          "data": {
            "text/plain": [
              "array([ 4, 11, 53,  2,  9])"
            ]
          },
          "metadata": {},
          "execution_count": 511
        }
      ]
    },
    {
      "cell_type": "code",
      "source": [
        "# Accessing element present at that index, Index starts from 0\n",
        "arr1[0]"
      ],
      "metadata": {
        "colab": {
          "base_uri": "https://localhost:8080/"
        },
        "id": "jsFX7VKWnIMq",
        "outputId": "35c371a7-6395-418f-8204-b2a749b507e7"
      },
      "execution_count": null,
      "outputs": [
        {
          "output_type": "execute_result",
          "data": {
            "text/plain": [
              "4"
            ]
          },
          "metadata": {},
          "execution_count": 512
        }
      ]
    },
    {
      "cell_type": "code",
      "source": [
        "arr1[2]"
      ],
      "metadata": {
        "colab": {
          "base_uri": "https://localhost:8080/"
        },
        "id": "ovMS52ayni92",
        "outputId": "221b7c82-ddd1-4b11-9226-1f4b65fb7a2f"
      },
      "execution_count": null,
      "outputs": [
        {
          "output_type": "execute_result",
          "data": {
            "text/plain": [
              "53"
            ]
          },
          "metadata": {},
          "execution_count": 513
        }
      ]
    },
    {
      "cell_type": "code",
      "source": [
        "arr1[-1]"
      ],
      "metadata": {
        "colab": {
          "base_uri": "https://localhost:8080/"
        },
        "id": "xWLw0ZlkoeBT",
        "outputId": "ee084d16-e0b1-44df-e728-c89ce385b5c6"
      },
      "execution_count": null,
      "outputs": [
        {
          "output_type": "execute_result",
          "data": {
            "text/plain": [
              "9"
            ]
          },
          "metadata": {},
          "execution_count": 514
        }
      ]
    },
    {
      "cell_type": "markdown",
      "source": [
        "### <font color=\"morange\">**5.1.2) For 2D**</font>"
      ],
      "metadata": {
        "id": "_VoQY9XaHnhR"
      }
    },
    {
      "cell_type": "code",
      "source": [
        "# For 2D:\n",
        "arr2"
      ],
      "metadata": {
        "colab": {
          "base_uri": "https://localhost:8080/"
        },
        "id": "-YHXEMimnrED",
        "outputId": "82e66a55-bfc3-485e-f7b6-c3fd0e84294c"
      },
      "execution_count": null,
      "outputs": [
        {
          "output_type": "execute_result",
          "data": {
            "text/plain": [
              "array([[ 2,  7, 11],\n",
              "       [ 4,  8,  2]])"
            ]
          },
          "metadata": {},
          "execution_count": 515
        }
      ]
    },
    {
      "cell_type": "code",
      "source": [
        "# Accessing row present at that index, Index atarts from 0\n",
        "arr2[0]"
      ],
      "metadata": {
        "colab": {
          "base_uri": "https://localhost:8080/"
        },
        "id": "puUr-KsctVbg",
        "outputId": "f348cd30-884c-4fcd-a375-2707f005c383"
      },
      "execution_count": null,
      "outputs": [
        {
          "output_type": "execute_result",
          "data": {
            "text/plain": [
              "array([ 2,  7, 11])"
            ]
          },
          "metadata": {},
          "execution_count": 516
        }
      ]
    },
    {
      "cell_type": "code",
      "source": [
        "# Accessing row present at that index, Index atarts from 0\n",
        "arr2[1]"
      ],
      "metadata": {
        "colab": {
          "base_uri": "https://localhost:8080/"
        },
        "id": "tuwRO_a1tXDY",
        "outputId": "8923669e-91ed-420e-b76e-7e588448a623"
      },
      "execution_count": null,
      "outputs": [
        {
          "output_type": "execute_result",
          "data": {
            "text/plain": [
              "array([4, 8, 2])"
            ]
          },
          "metadata": {},
          "execution_count": 517
        }
      ]
    },
    {
      "cell_type": "code",
      "source": [
        "# Accessing element in the 2D array\n",
        "# array_name[row,col]\n",
        "arr2[1,2]"
      ],
      "metadata": {
        "colab": {
          "base_uri": "https://localhost:8080/"
        },
        "id": "cWEQANONqA5e",
        "outputId": "42d5f9b3-0814-4744-d689-28b210e8d621"
      },
      "execution_count": null,
      "outputs": [
        {
          "output_type": "execute_result",
          "data": {
            "text/plain": [
              "2"
            ]
          },
          "metadata": {},
          "execution_count": 518
        }
      ]
    },
    {
      "cell_type": "markdown",
      "source": [
        "### <font color=\"morange\">**5.1.3) For 3D**</font>"
      ],
      "metadata": {
        "id": "C1Nlo0TyIoP_"
      }
    },
    {
      "cell_type": "code",
      "source": [
        "# For 3D:\n",
        "array3d3"
      ],
      "metadata": {
        "colab": {
          "base_uri": "https://localhost:8080/"
        },
        "id": "zqQ06bRzIoFw",
        "outputId": "8e12fc49-f830-4949-df35-ba4d0f73854e"
      },
      "execution_count": null,
      "outputs": [
        {
          "output_type": "execute_result",
          "data": {
            "text/plain": [
              "array([[[ 0,  1,  2],\n",
              "        [ 3,  4,  5],\n",
              "        [ 6,  7,  8]],\n",
              "\n",
              "       [[ 9, 10, 11],\n",
              "        [12, 13, 14],\n",
              "        [15, 16, 17]]])"
            ]
          },
          "metadata": {},
          "execution_count": 519
        }
      ]
    },
    {
      "cell_type": "code",
      "source": [
        "# Accessing set present at that index, Index atarts from 0\n",
        "array3d3[0]"
      ],
      "metadata": {
        "colab": {
          "base_uri": "https://localhost:8080/"
        },
        "id": "eaEA56VxIwQQ",
        "outputId": "240c1ac0-501a-44ac-9664-fb6f7ab7a14e"
      },
      "execution_count": null,
      "outputs": [
        {
          "output_type": "execute_result",
          "data": {
            "text/plain": [
              "array([[0, 1, 2],\n",
              "       [3, 4, 5],\n",
              "       [6, 7, 8]])"
            ]
          },
          "metadata": {},
          "execution_count": 520
        }
      ]
    },
    {
      "cell_type": "code",
      "source": [
        "# Accessing row of a set present at that index, Index atarts from 0\n",
        "# array_name[set,row]\n",
        "array3d3[0,1]"
      ],
      "metadata": {
        "colab": {
          "base_uri": "https://localhost:8080/"
        },
        "id": "JirolG-DJIhw",
        "outputId": "ff01c3f9-180f-4de8-ee6f-25b43c500ebe"
      },
      "execution_count": null,
      "outputs": [
        {
          "output_type": "execute_result",
          "data": {
            "text/plain": [
              "array([3, 4, 5])"
            ]
          },
          "metadata": {},
          "execution_count": 521
        }
      ]
    },
    {
      "cell_type": "code",
      "source": [
        "# Accessing element in the 3D array\n",
        "# array_name[set,row,col]\n",
        "array3d3[0,1,1]"
      ],
      "metadata": {
        "colab": {
          "base_uri": "https://localhost:8080/"
        },
        "id": "Tcq7-fhTJRho",
        "outputId": "131e65c5-0c3f-483f-cdb7-ba9092a888c6"
      },
      "execution_count": null,
      "outputs": [
        {
          "output_type": "execute_result",
          "data": {
            "text/plain": [
              "4"
            ]
          },
          "metadata": {},
          "execution_count": 522
        }
      ]
    },
    {
      "cell_type": "markdown",
      "source": [
        "## <font color=\"orange\">**5.2) Acessing multiple elements(Multi Indexing)**</font>\n",
        "\n",
        "- `Multi indexing (Double Bracket)`"
      ],
      "metadata": {
        "id": "ZinqAx7dqa6y"
      }
    },
    {
      "cell_type": "markdown",
      "source": [
        "### <font color=\"morange\">**5.2.1) For 1D**</font>"
      ],
      "metadata": {
        "id": "3ATfSf0NKE7-"
      }
    },
    {
      "cell_type": "code",
      "source": [
        "# Multi indexing (Double Bracket)\n",
        "# For 1D:\n",
        "arr1"
      ],
      "metadata": {
        "colab": {
          "base_uri": "https://localhost:8080/"
        },
        "id": "Q3RNNlESqzCp",
        "outputId": "5643ae6f-02b9-4bb5-fb15-c966d11bb422"
      },
      "execution_count": null,
      "outputs": [
        {
          "output_type": "execute_result",
          "data": {
            "text/plain": [
              "array([ 4, 11, 53,  2,  9])"
            ]
          },
          "metadata": {},
          "execution_count": 523
        }
      ]
    },
    {
      "cell_type": "code",
      "source": [
        "arr1[[1,2]]"
      ],
      "metadata": {
        "colab": {
          "base_uri": "https://localhost:8080/"
        },
        "id": "Bv5Ux79Rq1Jq",
        "outputId": "051de071-e7d5-46bd-b82b-ba3696544623"
      },
      "execution_count": null,
      "outputs": [
        {
          "output_type": "execute_result",
          "data": {
            "text/plain": [
              "array([11, 53])"
            ]
          },
          "metadata": {},
          "execution_count": 524
        }
      ]
    },
    {
      "cell_type": "markdown",
      "source": [
        "### <font color=\"morange\">**5.2.2) For 2D**</font>\n",
        "\n",
        "- `array_name[[rows], [cols]]`"
      ],
      "metadata": {
        "id": "MxhnIb2GKRE3"
      }
    },
    {
      "cell_type": "code",
      "source": [
        "# For 2D:\n",
        "arr2"
      ],
      "metadata": {
        "colab": {
          "base_uri": "https://localhost:8080/"
        },
        "id": "rKr_BJ7oqx3i",
        "outputId": "e6f70de7-08ca-4e13-9f2a-e1d8b4f5ef25"
      },
      "execution_count": null,
      "outputs": [
        {
          "output_type": "execute_result",
          "data": {
            "text/plain": [
              "array([[ 2,  7, 11],\n",
              "       [ 4,  8,  2]])"
            ]
          },
          "metadata": {},
          "execution_count": 525
        }
      ]
    },
    {
      "cell_type": "code",
      "source": [
        "# array_name[[rows], [cols]] --> (array_name[0,2],[1,0])\n",
        "arr2[[0,1],[2,0]]"
      ],
      "metadata": {
        "colab": {
          "base_uri": "https://localhost:8080/"
        },
        "id": "9KgnYwUNoSOz",
        "outputId": "2a5603f9-148c-415f-e298-7d37dd2a7822"
      },
      "execution_count": null,
      "outputs": [
        {
          "output_type": "execute_result",
          "data": {
            "text/plain": [
              "array([11,  4])"
            ]
          },
          "metadata": {},
          "execution_count": 526
        }
      ]
    },
    {
      "cell_type": "code",
      "source": [
        "# Accessing three elements\n",
        "# array_name[[rows], [cols]] --> (array_name[0,2],[1,0],[1,1])\n",
        "arr2[[0,1,1],[2,0,1]]"
      ],
      "metadata": {
        "colab": {
          "base_uri": "https://localhost:8080/"
        },
        "id": "bgRPFrmlWeB0",
        "outputId": "5677002c-c1ae-49ad-b4f1-54f2d7f3288b"
      },
      "execution_count": null,
      "outputs": [
        {
          "output_type": "execute_result",
          "data": {
            "text/plain": [
              "array([11,  4,  8])"
            ]
          },
          "metadata": {},
          "execution_count": 527
        }
      ]
    },
    {
      "cell_type": "markdown",
      "source": [
        "### <font color=\"morange\">**5.2.3) For 3D**</font>\n",
        "\n",
        "- `array_name[[sets],[rows],[cols]]`"
      ],
      "metadata": {
        "id": "bLViaObaKvTY"
      }
    },
    {
      "cell_type": "code",
      "source": [
        "array3d3"
      ],
      "metadata": {
        "colab": {
          "base_uri": "https://localhost:8080/"
        },
        "id": "t3Bo6wzWKvM1",
        "outputId": "238cf335-4317-482a-f8e2-b15450613c49"
      },
      "execution_count": null,
      "outputs": [
        {
          "output_type": "execute_result",
          "data": {
            "text/plain": [
              "array([[[ 0,  1,  2],\n",
              "        [ 3,  4,  5],\n",
              "        [ 6,  7,  8]],\n",
              "\n",
              "       [[ 9, 10, 11],\n",
              "        [12, 13, 14],\n",
              "        [15, 16, 17]]])"
            ]
          },
          "metadata": {},
          "execution_count": 528
        }
      ]
    },
    {
      "cell_type": "code",
      "source": [
        "# array_name[[sets],[rows],[cols]] --> array_name[[0,0,0],[1,1,2]]\n",
        "array3d3[[0,1],[0,1],[0,2]]"
      ],
      "metadata": {
        "colab": {
          "base_uri": "https://localhost:8080/"
        },
        "id": "vy9o306RK1NA",
        "outputId": "b64676c2-edff-4976-c989-44df25ebb901"
      },
      "execution_count": null,
      "outputs": [
        {
          "output_type": "execute_result",
          "data": {
            "text/plain": [
              "array([ 0, 14])"
            ]
          },
          "metadata": {},
          "execution_count": 529
        }
      ]
    },
    {
      "cell_type": "markdown",
      "source": [
        "## <font color=\"orange\">**5.3) Accessing sequence(Slicing)**</font>\n",
        "\n",
        "- `Start is inclusive`\n",
        "- `End is not inclusive`\n",
        "- `Slicing should always go in right direction`\n",
        "- `Slicing returns \"View\" not \"copy\"`"
      ],
      "metadata": {
        "id": "rS-Nm96ivn9n"
      }
    },
    {
      "cell_type": "markdown",
      "source": [
        "### <font color=\"morange\">**5.3.1) For 1D**</font>"
      ],
      "metadata": {
        "id": "tlOlsGJaw4Zs"
      }
    },
    {
      "cell_type": "code",
      "source": [
        "arr1"
      ],
      "metadata": {
        "colab": {
          "base_uri": "https://localhost:8080/"
        },
        "id": "cgX_lvfGqcsS",
        "outputId": "2df754e3-3203-4348-8df5-278dbb319708"
      },
      "execution_count": null,
      "outputs": [
        {
          "output_type": "execute_result",
          "data": {
            "text/plain": [
              "array([ 4, 11, 53,  2,  9])"
            ]
          },
          "metadata": {},
          "execution_count": 530
        }
      ]
    },
    {
      "cell_type": "code",
      "source": [
        "arr1[0:4]"
      ],
      "metadata": {
        "colab": {
          "base_uri": "https://localhost:8080/"
        },
        "id": "lCT4JkfmwICk",
        "outputId": "05616ea8-5e22-443e-d30e-9f0f9dcc0022"
      },
      "execution_count": null,
      "outputs": [
        {
          "output_type": "execute_result",
          "data": {
            "text/plain": [
              "array([ 4, 11, 53,  2])"
            ]
          },
          "metadata": {},
          "execution_count": 531
        }
      ]
    },
    {
      "cell_type": "code",
      "source": [
        "arr1[:4]"
      ],
      "metadata": {
        "colab": {
          "base_uri": "https://localhost:8080/"
        },
        "id": "SADSdk4OwLUq",
        "outputId": "f57ea08d-e12c-4f45-8bcc-5b81b4701116"
      },
      "execution_count": null,
      "outputs": [
        {
          "output_type": "execute_result",
          "data": {
            "text/plain": [
              "array([ 4, 11, 53,  2])"
            ]
          },
          "metadata": {},
          "execution_count": 532
        }
      ]
    },
    {
      "cell_type": "code",
      "source": [
        "arr1[1:4:2] # With Step 2"
      ],
      "metadata": {
        "colab": {
          "base_uri": "https://localhost:8080/"
        },
        "id": "-t-f0U8iwYKU",
        "outputId": "ccdcea15-531b-4e37-9680-95202ef33662"
      },
      "execution_count": null,
      "outputs": [
        {
          "output_type": "execute_result",
          "data": {
            "text/plain": [
              "array([11,  2])"
            ]
          },
          "metadata": {},
          "execution_count": 533
        }
      ]
    },
    {
      "cell_type": "code",
      "source": [
        "# Slicing should always go in right direction\n",
        "arr1[-4:-1]"
      ],
      "metadata": {
        "colab": {
          "base_uri": "https://localhost:8080/"
        },
        "id": "0XJFLR9cx3Cb",
        "outputId": "c10bce3a-c436-4ecd-fe7c-d2392c29b0a5"
      },
      "execution_count": null,
      "outputs": [
        {
          "output_type": "execute_result",
          "data": {
            "text/plain": [
              "array([11, 53,  2])"
            ]
          },
          "metadata": {},
          "execution_count": 534
        }
      ]
    },
    {
      "cell_type": "markdown",
      "source": [
        "### <font color=\"morange\">**5.3.2) For 2D**</font>\n",
        "\n",
        "- `array_name[rows , cols]` -> `array_name[:,:]`"
      ],
      "metadata": {
        "id": "odODXEi2xDIM"
      }
    },
    {
      "cell_type": "code",
      "source": [
        "arr6 = np.array([[2,7,11],[4,8,2],[6,8,10]])\n",
        "arr6"
      ],
      "metadata": {
        "colab": {
          "base_uri": "https://localhost:8080/"
        },
        "id": "tg40WNz0wdNA",
        "outputId": "ff79e268-c615-4ba1-ea16-5e4caf6d22cb"
      },
      "execution_count": null,
      "outputs": [
        {
          "output_type": "execute_result",
          "data": {
            "text/plain": [
              "array([[ 2,  7, 11],\n",
              "       [ 4,  8,  2],\n",
              "       [ 6,  8, 10]])"
            ]
          },
          "metadata": {},
          "execution_count": 535
        }
      ]
    },
    {
      "cell_type": "code",
      "source": [
        "# Row Slicing in 2D:\n",
        "arr6[0:]"
      ],
      "metadata": {
        "colab": {
          "base_uri": "https://localhost:8080/"
        },
        "id": "9mVunslcxsEE",
        "outputId": "1405c6a6-76c9-47d6-d14f-aa65f7f4208b"
      },
      "execution_count": null,
      "outputs": [
        {
          "output_type": "execute_result",
          "data": {
            "text/plain": [
              "array([[ 2,  7, 11],\n",
              "       [ 4,  8,  2],\n",
              "       [ 6,  8, 10]])"
            ]
          },
          "metadata": {},
          "execution_count": 536
        }
      ]
    },
    {
      "cell_type": "code",
      "source": [
        "arr6[1:2]"
      ],
      "metadata": {
        "colab": {
          "base_uri": "https://localhost:8080/"
        },
        "id": "V1FlYMSdy7AL",
        "outputId": "d0ee78ff-828a-4c5b-de2e-ef1ebe116ea3"
      },
      "execution_count": null,
      "outputs": [
        {
          "output_type": "execute_result",
          "data": {
            "text/plain": [
              "array([[4, 8, 2]])"
            ]
          },
          "metadata": {},
          "execution_count": 537
        }
      ]
    },
    {
      "cell_type": "code",
      "source": [
        "arr6[:2]"
      ],
      "metadata": {
        "colab": {
          "base_uri": "https://localhost:8080/"
        },
        "id": "MW3rDlecxHTC",
        "outputId": "8acfe576-932f-4786-8033-e9bf1ea0d8c2"
      },
      "execution_count": null,
      "outputs": [
        {
          "output_type": "execute_result",
          "data": {
            "text/plain": [
              "array([[ 2,  7, 11],\n",
              "       [ 4,  8,  2]])"
            ]
          },
          "metadata": {},
          "execution_count": 538
        }
      ]
    },
    {
      "cell_type": "code",
      "source": [
        "# Row and col Slicing in 2D:\n",
        "# arr6[rows , cols]\n",
        "arr6[: , :]"
      ],
      "metadata": {
        "colab": {
          "base_uri": "https://localhost:8080/"
        },
        "id": "ahJ5nBBnxk0H",
        "outputId": "8511d7ab-282e-45c3-cd38-d6981a33346a"
      },
      "execution_count": null,
      "outputs": [
        {
          "output_type": "execute_result",
          "data": {
            "text/plain": [
              "array([[ 2,  7, 11],\n",
              "       [ 4,  8,  2],\n",
              "       [ 6,  8, 10]])"
            ]
          },
          "metadata": {},
          "execution_count": 539
        }
      ]
    },
    {
      "cell_type": "code",
      "source": [
        "arr6[:1 ,:]"
      ],
      "metadata": {
        "colab": {
          "base_uri": "https://localhost:8080/"
        },
        "id": "_1LQLokVyaMS",
        "outputId": "57e621de-cf4e-4e74-d466-253c9385ae82"
      },
      "execution_count": null,
      "outputs": [
        {
          "output_type": "execute_result",
          "data": {
            "text/plain": [
              "array([[ 2,  7, 11]])"
            ]
          },
          "metadata": {},
          "execution_count": 540
        }
      ]
    },
    {
      "cell_type": "code",
      "source": [
        "arr6[: , 2:]"
      ],
      "metadata": {
        "colab": {
          "base_uri": "https://localhost:8080/"
        },
        "id": "yPBx3tvFzR0K",
        "outputId": "3b76adfc-be62-4543-d640-1008b2a6a046"
      },
      "execution_count": null,
      "outputs": [
        {
          "output_type": "execute_result",
          "data": {
            "text/plain": [
              "array([[11],\n",
              "       [ 2],\n",
              "       [10]])"
            ]
          },
          "metadata": {},
          "execution_count": 541
        }
      ]
    },
    {
      "cell_type": "markdown",
      "source": [
        "### <font color=\"morange\">**5.3.3) For 3D**</font>\n",
        "\n",
        "- `array_name[sets , rows, cols]` -> `array_name[:,:,:]`"
      ],
      "metadata": {
        "id": "8AHlnDb_hss6"
      }
    },
    {
      "cell_type": "code",
      "source": [
        "# Crearting 3D array:\n",
        "array3d = np.array([[[ 0, 1, 2],[ 3, 4, 5],[ 6, 7, 8]],[[ 9, 10, 11],[12, 13, 14],[15, 16, 17]]])\n",
        "array3d"
      ],
      "metadata": {
        "colab": {
          "base_uri": "https://localhost:8080/"
        },
        "id": "8JZz0Hbehsgf",
        "outputId": "2e3c25a0-a14a-49e7-db6e-955086c991ec"
      },
      "execution_count": null,
      "outputs": [
        {
          "output_type": "execute_result",
          "data": {
            "text/plain": [
              "array([[[ 0,  1,  2],\n",
              "        [ 3,  4,  5],\n",
              "        [ 6,  7,  8]],\n",
              "\n",
              "       [[ 9, 10, 11],\n",
              "        [12, 13, 14],\n",
              "        [15, 16, 17]]])"
            ]
          },
          "metadata": {},
          "execution_count": 542
        }
      ]
    },
    {
      "cell_type": "code",
      "source": [
        "array3d.shape"
      ],
      "metadata": {
        "colab": {
          "base_uri": "https://localhost:8080/"
        },
        "id": "H5g3YAdWjAvw",
        "outputId": "0e0fca3a-4a79-4361-a890-390b1bf88031"
      },
      "execution_count": null,
      "outputs": [
        {
          "output_type": "execute_result",
          "data": {
            "text/plain": [
              "(2, 3, 3)"
            ]
          },
          "metadata": {},
          "execution_count": 543
        }
      ]
    },
    {
      "cell_type": "code",
      "source": [
        "# Slice the array\n",
        "array3d[1:, :, :]"
      ],
      "metadata": {
        "colab": {
          "base_uri": "https://localhost:8080/"
        },
        "id": "2HqZgI1fjF-y",
        "outputId": "7ac8430d-3bdd-4b7c-8561-13f0d97db26c"
      },
      "execution_count": null,
      "outputs": [
        {
          "output_type": "execute_result",
          "data": {
            "text/plain": [
              "array([[[ 9, 10, 11],\n",
              "        [12, 13, 14],\n",
              "        [15, 16, 17]]])"
            ]
          },
          "metadata": {},
          "execution_count": 544
        }
      ]
    },
    {
      "cell_type": "code",
      "source": [
        "# Crearting 3D array:\n",
        "arr = np.array([[[1, 2, 3], [4, 5, 6]], [[7, 8, 9], [10, 11, 12]]])\n",
        "arr"
      ],
      "metadata": {
        "colab": {
          "base_uri": "https://localhost:8080/"
        },
        "id": "m_VqBLpBjSnC",
        "outputId": "b5749bf4-f82b-4973-e340-d027bed100ae"
      },
      "execution_count": null,
      "outputs": [
        {
          "output_type": "execute_result",
          "data": {
            "text/plain": [
              "array([[[ 1,  2,  3],\n",
              "        [ 4,  5,  6]],\n",
              "\n",
              "       [[ 7,  8,  9],\n",
              "        [10, 11, 12]]])"
            ]
          },
          "metadata": {},
          "execution_count": 545
        }
      ]
    },
    {
      "cell_type": "code",
      "source": [
        "arr.shape"
      ],
      "metadata": {
        "colab": {
          "base_uri": "https://localhost:8080/"
        },
        "id": "9Kv6TzK6jVNY",
        "outputId": "1a406924-41b1-4302-9e0a-88b4a71a8c4e"
      },
      "execution_count": null,
      "outputs": [
        {
          "output_type": "execute_result",
          "data": {
            "text/plain": [
              "(2, 2, 3)"
            ]
          },
          "metadata": {},
          "execution_count": 546
        }
      ]
    },
    {
      "cell_type": "code",
      "source": [
        "# Slice the array\n",
        "arr[0, 1, 0:2]"
      ],
      "metadata": {
        "colab": {
          "base_uri": "https://localhost:8080/"
        },
        "id": "qcIHCARyjXei",
        "outputId": "aca3922b-1682-468e-9ef3-aae048f6b71b"
      },
      "execution_count": null,
      "outputs": [
        {
          "output_type": "execute_result",
          "data": {
            "text/plain": [
              "array([4, 5])"
            ]
          },
          "metadata": {},
          "execution_count": 547
        }
      ]
    },
    {
      "cell_type": "code",
      "source": [
        "# Crearting 3D array:\n",
        "arr = np.array([[[0, 1],[2, 3]],[[4, 5],[6, 7]]])\n",
        "arr"
      ],
      "metadata": {
        "colab": {
          "base_uri": "https://localhost:8080/"
        },
        "id": "dKDN07qYkiDo",
        "outputId": "4d21f288-70d3-4f52-90a2-c6da93525513"
      },
      "execution_count": null,
      "outputs": [
        {
          "output_type": "execute_result",
          "data": {
            "text/plain": [
              "array([[[0, 1],\n",
              "        [2, 3]],\n",
              "\n",
              "       [[4, 5],\n",
              "        [6, 7]]])"
            ]
          },
          "metadata": {},
          "execution_count": 548
        }
      ]
    },
    {
      "cell_type": "code",
      "source": [
        "arr.shape"
      ],
      "metadata": {
        "colab": {
          "base_uri": "https://localhost:8080/"
        },
        "id": "jxK5ahMmlB3m",
        "outputId": "df02eb36-ff83-44ea-c21f-1a4aea2a053a"
      },
      "execution_count": null,
      "outputs": [
        {
          "output_type": "execute_result",
          "data": {
            "text/plain": [
              "(2, 2, 2)"
            ]
          },
          "metadata": {},
          "execution_count": 549
        }
      ]
    },
    {
      "cell_type": "code",
      "source": [
        "# Slice the array\n",
        "arr[:, 0:,:1]"
      ],
      "metadata": {
        "colab": {
          "base_uri": "https://localhost:8080/"
        },
        "id": "mSb2P4K3kq2X",
        "outputId": "b5f7b1a3-492d-47bb-c369-f34728eae944"
      },
      "execution_count": null,
      "outputs": [
        {
          "output_type": "execute_result",
          "data": {
            "text/plain": [
              "array([[[0],\n",
              "        [2]],\n",
              "\n",
              "       [[4],\n",
              "        [6]]])"
            ]
          },
          "metadata": {},
          "execution_count": 550
        }
      ]
    },
    {
      "cell_type": "code",
      "source": [
        "# Slice the array\n",
        "arr[:, :1, 1:]"
      ],
      "metadata": {
        "colab": {
          "base_uri": "https://localhost:8080/"
        },
        "id": "8u2n8_OAXZu7",
        "outputId": "63768bc8-723b-4db4-b382-a6fcef954e33"
      },
      "execution_count": null,
      "outputs": [
        {
          "output_type": "execute_result",
          "data": {
            "text/plain": [
              "array([[[1]],\n",
              "\n",
              "       [[5]]])"
            ]
          },
          "metadata": {},
          "execution_count": 551
        }
      ]
    },
    {
      "cell_type": "markdown",
      "source": [
        "## <font color=\"orange\">**5.4) Accessing based on condition(Masking)**</font>\n",
        "\n",
        "- `Indexing based on condition ---> Masking`\n",
        "- `Masking Creates a \"copy\" of the array \"not a view\"`"
      ],
      "metadata": {
        "id": "xWdHukTk0TCp"
      }
    },
    {
      "cell_type": "code",
      "source": [
        "'''\n",
        "Indexing based on condition ---> Masking\n",
        "Creates a \"copy\" of the array \"not a view\"\n",
        "'''"
      ],
      "metadata": {
        "id": "TOZLYKYT2b-6",
        "colab": {
          "base_uri": "https://localhost:8080/"
        },
        "outputId": "46e19696-a9a0-4d3e-8a59-db5cbabd043a"
      },
      "execution_count": null,
      "outputs": [
        {
          "output_type": "execute_result",
          "data": {
            "text/plain": [
              "'\\nIndexing based on condition ---> Masking\\nCreates a \"copy\" of the array \"not a view\"\\n'"
            ],
            "application/vnd.google.colaboratory.intrinsic+json": {
              "type": "string"
            }
          },
          "metadata": {},
          "execution_count": 552
        }
      ]
    },
    {
      "cell_type": "markdown",
      "source": [
        "### <font color=\"morange\">**5.4.1) For 1D**</font>"
      ],
      "metadata": {
        "id": "IJEDM_sfZ5T2"
      }
    },
    {
      "cell_type": "code",
      "source": [
        "# For 1D\n",
        "arr1"
      ],
      "metadata": {
        "colab": {
          "base_uri": "https://localhost:8080/"
        },
        "id": "q5WRvBtS0ZOi",
        "outputId": "0c33a76a-37f2-4e13-dfc3-e4c45c1ca094"
      },
      "execution_count": null,
      "outputs": [
        {
          "output_type": "execute_result",
          "data": {
            "text/plain": [
              "array([ 4, 11, 53,  2,  9])"
            ]
          },
          "metadata": {},
          "execution_count": 553
        }
      ]
    },
    {
      "cell_type": "code",
      "source": [
        "mask1d = arr1 > 2\n",
        "mask1d"
      ],
      "metadata": {
        "colab": {
          "base_uri": "https://localhost:8080/"
        },
        "id": "_4i7PqIr1h4D",
        "outputId": "0a943f98-cfc8-493a-c9b8-2b3119e32660"
      },
      "execution_count": null,
      "outputs": [
        {
          "output_type": "execute_result",
          "data": {
            "text/plain": [
              "array([ True,  True,  True, False,  True])"
            ]
          },
          "metadata": {},
          "execution_count": 554
        }
      ]
    },
    {
      "cell_type": "code",
      "source": [
        "arr1[mask1d]"
      ],
      "metadata": {
        "colab": {
          "base_uri": "https://localhost:8080/"
        },
        "id": "Ut8i5JhU1lVo",
        "outputId": "d4e2fb3c-b042-4622-bb17-1d473c9fb9e9"
      },
      "execution_count": null,
      "outputs": [
        {
          "output_type": "execute_result",
          "data": {
            "text/plain": [
              "array([ 4, 11, 53,  9])"
            ]
          },
          "metadata": {},
          "execution_count": 555
        }
      ]
    },
    {
      "cell_type": "markdown",
      "source": [
        "### <font color=\"morange\">**5.4.2) For 2D**</font>"
      ],
      "metadata": {
        "id": "jvFSKrZLZ7nN"
      }
    },
    {
      "cell_type": "code",
      "source": [
        "# For 2D\n",
        "arr2"
      ],
      "metadata": {
        "colab": {
          "base_uri": "https://localhost:8080/"
        },
        "id": "Ny157HaPZIgw",
        "outputId": "8f85c1b9-e909-4a08-8d3f-1b34fe5a6931"
      },
      "execution_count": null,
      "outputs": [
        {
          "output_type": "execute_result",
          "data": {
            "text/plain": [
              "array([[ 2,  7, 11],\n",
              "       [ 4,  8,  2]])"
            ]
          },
          "metadata": {},
          "execution_count": 556
        }
      ]
    },
    {
      "cell_type": "code",
      "source": [
        "mask2d = arr2 > 4\n",
        "mask2d"
      ],
      "metadata": {
        "colab": {
          "base_uri": "https://localhost:8080/"
        },
        "id": "Tb0U9yrHZJgH",
        "outputId": "e19dfe73-07de-4f66-cca4-8db3ed5655ec"
      },
      "execution_count": null,
      "outputs": [
        {
          "output_type": "execute_result",
          "data": {
            "text/plain": [
              "array([[False,  True,  True],\n",
              "       [False,  True, False]])"
            ]
          },
          "metadata": {},
          "execution_count": 557
        }
      ]
    },
    {
      "cell_type": "code",
      "source": [
        "# Returns the elements in 1D array\n",
        "arr2[mask2d]"
      ],
      "metadata": {
        "colab": {
          "base_uri": "https://localhost:8080/"
        },
        "id": "bbrBMYwdZPL4",
        "outputId": "8e870fc9-1242-4d88-b3ca-f53b49c7c824"
      },
      "execution_count": null,
      "outputs": [
        {
          "output_type": "execute_result",
          "data": {
            "text/plain": [
              "array([ 7, 11,  8])"
            ]
          },
          "metadata": {},
          "execution_count": 558
        }
      ]
    },
    {
      "cell_type": "markdown",
      "source": [
        "### <font color=\"morange\">**5.4.3) For 3D**</font>"
      ],
      "metadata": {
        "id": "Ws3Jmc9SZ9df"
      }
    },
    {
      "cell_type": "code",
      "source": [
        "# For 3D\n",
        "array3d3"
      ],
      "metadata": {
        "colab": {
          "base_uri": "https://localhost:8080/"
        },
        "id": "Ve7nLKJuZa1w",
        "outputId": "929aab40-0602-4a29-8d77-09dca5cffbda"
      },
      "execution_count": null,
      "outputs": [
        {
          "output_type": "execute_result",
          "data": {
            "text/plain": [
              "array([[[ 0,  1,  2],\n",
              "        [ 3,  4,  5],\n",
              "        [ 6,  7,  8]],\n",
              "\n",
              "       [[ 9, 10, 11],\n",
              "        [12, 13, 14],\n",
              "        [15, 16, 17]]])"
            ]
          },
          "metadata": {},
          "execution_count": 559
        }
      ]
    },
    {
      "cell_type": "code",
      "source": [
        "mask3d = array3d3 > 5\n",
        "mask3d"
      ],
      "metadata": {
        "colab": {
          "base_uri": "https://localhost:8080/"
        },
        "id": "fZ5-zEDKZfKf",
        "outputId": "f608f2f1-a9be-4c69-eacd-9350eb65dbf0"
      },
      "execution_count": null,
      "outputs": [
        {
          "output_type": "execute_result",
          "data": {
            "text/plain": [
              "array([[[False, False, False],\n",
              "        [False, False, False],\n",
              "        [ True,  True,  True]],\n",
              "\n",
              "       [[ True,  True,  True],\n",
              "        [ True,  True,  True],\n",
              "        [ True,  True,  True]]])"
            ]
          },
          "metadata": {},
          "execution_count": 560
        }
      ]
    },
    {
      "cell_type": "code",
      "source": [
        "# Returns the elements in 1D array\n",
        "array3d3[mask3d]"
      ],
      "metadata": {
        "colab": {
          "base_uri": "https://localhost:8080/"
        },
        "id": "ZeOnEB66ZfH-",
        "outputId": "0b5e5753-1637-42f3-e616-2da7f6965d0a"
      },
      "execution_count": null,
      "outputs": [
        {
          "output_type": "execute_result",
          "data": {
            "text/plain": [
              "array([ 6,  7,  8,  9, 10, 11, 12, 13, 14, 15, 16, 17])"
            ]
          },
          "metadata": {},
          "execution_count": 561
        }
      ]
    },
    {
      "cell_type": "markdown",
      "source": [
        "# <font color=\"red\">**6) Operations**</font>"
      ],
      "metadata": {
        "id": "uI9aL3t3LXXs"
      }
    },
    {
      "cell_type": "markdown",
      "source": [
        "## <font color=\"orange\">**6.1) Arithmetic**</font>"
      ],
      "metadata": {
        "id": "ZD1knoXPLgWC"
      }
    },
    {
      "cell_type": "markdown",
      "source": [
        "### <font color=\"morange\">**6.1.1) Example 1**</font>"
      ],
      "metadata": {
        "id": "QaN1Vf78wZBL"
      }
    },
    {
      "cell_type": "code",
      "source": [
        "# Example 1\n",
        "a = np.array([1, 2, 3, 4])\n",
        "b = np.array([1, 1, 2, 2])\n",
        "print(a)\n",
        "print(b)"
      ],
      "metadata": {
        "colab": {
          "base_uri": "https://localhost:8080/"
        },
        "id": "DBch23Avv0Su",
        "outputId": "e0cc1e97-01f2-498f-b7c7-46aab0e6de28"
      },
      "execution_count": null,
      "outputs": [
        {
          "output_type": "stream",
          "name": "stdout",
          "text": [
            "[1 2 3 4]\n",
            "[1 1 2 2]\n"
          ]
        }
      ]
    },
    {
      "cell_type": "code",
      "source": [
        "# Element wise addition:\n",
        "a + b"
      ],
      "metadata": {
        "colab": {
          "base_uri": "https://localhost:8080/"
        },
        "id": "-Pugo2q6v5Dt",
        "outputId": "61482ba8-4d44-481d-bcb0-37ac67a86ccf"
      },
      "execution_count": null,
      "outputs": [
        {
          "output_type": "execute_result",
          "data": {
            "text/plain": [
              "array([2, 3, 5, 6])"
            ]
          },
          "metadata": {},
          "execution_count": 563
        }
      ]
    },
    {
      "cell_type": "code",
      "source": [
        "np.add(a,b)"
      ],
      "metadata": {
        "colab": {
          "base_uri": "https://localhost:8080/"
        },
        "id": "wdloE0Ywv478",
        "outputId": "2a4e3e6a-7b62-4ce5-e7ef-f5ac63a9e253"
      },
      "execution_count": null,
      "outputs": [
        {
          "output_type": "execute_result",
          "data": {
            "text/plain": [
              "array([2, 3, 5, 6])"
            ]
          },
          "metadata": {},
          "execution_count": 564
        }
      ]
    },
    {
      "cell_type": "code",
      "source": [
        "# Element wise subtraction:\n",
        "a - b"
      ],
      "metadata": {
        "colab": {
          "base_uri": "https://localhost:8080/"
        },
        "id": "vrGzjwipwBSG",
        "outputId": "2fddb637-974c-457a-b9d4-c90689d3f795"
      },
      "execution_count": null,
      "outputs": [
        {
          "output_type": "execute_result",
          "data": {
            "text/plain": [
              "array([0, 1, 1, 2])"
            ]
          },
          "metadata": {},
          "execution_count": 565
        }
      ]
    },
    {
      "cell_type": "code",
      "source": [
        "np.subtract(a,b)"
      ],
      "metadata": {
        "colab": {
          "base_uri": "https://localhost:8080/"
        },
        "id": "-iiPWeSmwBQE",
        "outputId": "560ea090-eb61-419b-cafe-086f8f3f3cee"
      },
      "execution_count": null,
      "outputs": [
        {
          "output_type": "execute_result",
          "data": {
            "text/plain": [
              "array([0, 1, 1, 2])"
            ]
          },
          "metadata": {},
          "execution_count": 566
        }
      ]
    },
    {
      "cell_type": "code",
      "source": [
        "# Element wise Multiplication:\n",
        "a * b"
      ],
      "metadata": {
        "colab": {
          "base_uri": "https://localhost:8080/"
        },
        "id": "M9eGvjmMwBNk",
        "outputId": "eb508425-65ef-4f64-93ee-01ff26458fd8"
      },
      "execution_count": null,
      "outputs": [
        {
          "output_type": "execute_result",
          "data": {
            "text/plain": [
              "array([1, 2, 6, 8])"
            ]
          },
          "metadata": {},
          "execution_count": 567
        }
      ]
    },
    {
      "cell_type": "code",
      "source": [
        "np.multiply(a,b)"
      ],
      "metadata": {
        "colab": {
          "base_uri": "https://localhost:8080/"
        },
        "id": "Ki6i_cPswFqQ",
        "outputId": "90af9dd1-9c27-4002-90f7-aed8826690f3"
      },
      "execution_count": null,
      "outputs": [
        {
          "output_type": "execute_result",
          "data": {
            "text/plain": [
              "array([1, 2, 6, 8])"
            ]
          },
          "metadata": {},
          "execution_count": 568
        }
      ]
    },
    {
      "cell_type": "code",
      "source": [
        "# Element wise Division:\n",
        "a/b"
      ],
      "metadata": {
        "colab": {
          "base_uri": "https://localhost:8080/"
        },
        "id": "8H-7XVV7wFnh",
        "outputId": "5820c2f6-7e2f-41a1-f55d-d3b8d7005063"
      },
      "execution_count": null,
      "outputs": [
        {
          "output_type": "execute_result",
          "data": {
            "text/plain": [
              "array([1. , 2. , 1.5, 2. ])"
            ]
          },
          "metadata": {},
          "execution_count": 569
        }
      ]
    },
    {
      "cell_type": "code",
      "source": [
        "np.divide(a,b)"
      ],
      "metadata": {
        "colab": {
          "base_uri": "https://localhost:8080/"
        },
        "id": "BaMv9QBHwQmp",
        "outputId": "05ba67ec-9f0d-4f8a-e181-f9b6585d1d8e"
      },
      "execution_count": null,
      "outputs": [
        {
          "output_type": "execute_result",
          "data": {
            "text/plain": [
              "array([1. , 2. , 1.5, 2. ])"
            ]
          },
          "metadata": {},
          "execution_count": 570
        }
      ]
    },
    {
      "cell_type": "markdown",
      "source": [
        "### <font color=\"morange\">**6.1.2) Example 2**</font>"
      ],
      "metadata": {
        "id": "lVDBsKz_wfQE"
      }
    },
    {
      "cell_type": "code",
      "source": [
        "# Example 2\n",
        "a = np.array([1, 2, 3, 4])\n",
        "b = np.array([2])\n",
        "print(a)\n",
        "print(b)"
      ],
      "metadata": {
        "colab": {
          "base_uri": "https://localhost:8080/"
        },
        "id": "XCYN4jqpLjbS",
        "outputId": "094b33be-72e3-49bc-a92f-1adad507db35"
      },
      "execution_count": null,
      "outputs": [
        {
          "output_type": "stream",
          "name": "stdout",
          "text": [
            "[1 2 3 4]\n",
            "[2]\n"
          ]
        }
      ]
    },
    {
      "cell_type": "code",
      "source": [
        "# Element wise addition:\n",
        "a + b"
      ],
      "metadata": {
        "colab": {
          "base_uri": "https://localhost:8080/"
        },
        "id": "lW1aQNnkLwa5",
        "outputId": "6a321733-553b-49a9-ddeb-2aa64ec103b3"
      },
      "execution_count": null,
      "outputs": [
        {
          "output_type": "execute_result",
          "data": {
            "text/plain": [
              "array([3, 4, 5, 6])"
            ]
          },
          "metadata": {},
          "execution_count": 572
        }
      ]
    },
    {
      "cell_type": "code",
      "source": [
        "np.add(a,b)"
      ],
      "metadata": {
        "colab": {
          "base_uri": "https://localhost:8080/"
        },
        "id": "ilUb37tUMB1V",
        "outputId": "6f5ed3dc-3b9f-4a8c-f06c-cc98ebb3730c"
      },
      "execution_count": null,
      "outputs": [
        {
          "output_type": "execute_result",
          "data": {
            "text/plain": [
              "array([3, 4, 5, 6])"
            ]
          },
          "metadata": {},
          "execution_count": 573
        }
      ]
    },
    {
      "cell_type": "code",
      "source": [
        "# Element wise subtraction:\n",
        "a - b"
      ],
      "metadata": {
        "colab": {
          "base_uri": "https://localhost:8080/"
        },
        "id": "c24lcEhcME7L",
        "outputId": "5ed791c3-ef3b-443f-f5b6-414cde5d13d5"
      },
      "execution_count": null,
      "outputs": [
        {
          "output_type": "execute_result",
          "data": {
            "text/plain": [
              "array([-1,  0,  1,  2])"
            ]
          },
          "metadata": {},
          "execution_count": 574
        }
      ]
    },
    {
      "cell_type": "code",
      "source": [
        "np.subtract(a,b)"
      ],
      "metadata": {
        "colab": {
          "base_uri": "https://localhost:8080/"
        },
        "id": "hXNdzI70M1eh",
        "outputId": "5ac4107d-ca4c-4242-aa8c-f044ec79a05f"
      },
      "execution_count": null,
      "outputs": [
        {
          "output_type": "execute_result",
          "data": {
            "text/plain": [
              "array([-1,  0,  1,  2])"
            ]
          },
          "metadata": {},
          "execution_count": 575
        }
      ]
    },
    {
      "cell_type": "code",
      "source": [
        "# Element wise Multiplication:\n",
        "a * b"
      ],
      "metadata": {
        "colab": {
          "base_uri": "https://localhost:8080/"
        },
        "id": "e3cHOZGVM7B1",
        "outputId": "b7f0eb77-0cc5-48cd-f649-7b6da6ede0f0"
      },
      "execution_count": null,
      "outputs": [
        {
          "output_type": "execute_result",
          "data": {
            "text/plain": [
              "array([2, 4, 6, 8])"
            ]
          },
          "metadata": {},
          "execution_count": 576
        }
      ]
    },
    {
      "cell_type": "code",
      "source": [
        "np.multiply(a,b)"
      ],
      "metadata": {
        "colab": {
          "base_uri": "https://localhost:8080/"
        },
        "id": "TUMk2lWCNHG8",
        "outputId": "58587181-e9cd-41b7-da49-abb3ffb005eb"
      },
      "execution_count": null,
      "outputs": [
        {
          "output_type": "execute_result",
          "data": {
            "text/plain": [
              "array([2, 4, 6, 8])"
            ]
          },
          "metadata": {},
          "execution_count": 577
        }
      ]
    },
    {
      "cell_type": "code",
      "source": [
        "# Element wise Division:\n",
        "a/b"
      ],
      "metadata": {
        "colab": {
          "base_uri": "https://localhost:8080/"
        },
        "id": "FsiS_kg9NLwQ",
        "outputId": "a0a03218-fa0d-4613-872e-872302f2f284"
      },
      "execution_count": null,
      "outputs": [
        {
          "output_type": "execute_result",
          "data": {
            "text/plain": [
              "array([0.5, 1. , 1.5, 2. ])"
            ]
          },
          "metadata": {},
          "execution_count": 578
        }
      ]
    },
    {
      "cell_type": "code",
      "source": [
        "np.divide(a,b)"
      ],
      "metadata": {
        "colab": {
          "base_uri": "https://localhost:8080/"
        },
        "id": "HN9st1p_Nlp3",
        "outputId": "475d774a-8db5-4964-b271-4c0ea0adef5a"
      },
      "execution_count": null,
      "outputs": [
        {
          "output_type": "execute_result",
          "data": {
            "text/plain": [
              "array([0.5, 1. , 1.5, 2. ])"
            ]
          },
          "metadata": {},
          "execution_count": 579
        }
      ]
    },
    {
      "cell_type": "markdown",
      "source": [
        "## <font color=\"orange\">**6.2) Comparision**</font>"
      ],
      "metadata": {
        "id": "EixxIuxlNy84"
      }
    },
    {
      "cell_type": "code",
      "source": [
        "a = np.array([1, 2, 3, 4])\n",
        "b = np.array([1, 1, 2, 2])\n",
        "print(a)\n",
        "print(b)"
      ],
      "metadata": {
        "colab": {
          "base_uri": "https://localhost:8080/"
        },
        "id": "ErsDtpM7OHtB",
        "outputId": "ae2f31af-681e-4b5e-bd26-31c646e9613b"
      },
      "execution_count": null,
      "outputs": [
        {
          "output_type": "stream",
          "name": "stdout",
          "text": [
            "[1 2 3 4]\n",
            "[1 1 2 2]\n"
          ]
        }
      ]
    },
    {
      "cell_type": "code",
      "source": [
        "# Elementwise comparision:\n",
        "a == b"
      ],
      "metadata": {
        "colab": {
          "base_uri": "https://localhost:8080/"
        },
        "id": "cFow_UAbN1xQ",
        "outputId": "28f9a9e9-06ae-4626-e256-c7871ebcd451"
      },
      "execution_count": null,
      "outputs": [
        {
          "output_type": "execute_result",
          "data": {
            "text/plain": [
              "array([ True, False, False, False])"
            ]
          },
          "metadata": {},
          "execution_count": 581
        }
      ]
    },
    {
      "cell_type": "code",
      "source": [
        "a >= b"
      ],
      "metadata": {
        "colab": {
          "base_uri": "https://localhost:8080/"
        },
        "id": "Lz2bMoS6N-dT",
        "outputId": "cd4b6505-75ef-4540-be54-970e8102caf6"
      },
      "execution_count": null,
      "outputs": [
        {
          "output_type": "execute_result",
          "data": {
            "text/plain": [
              "array([ True,  True,  True,  True])"
            ]
          },
          "metadata": {},
          "execution_count": 582
        }
      ]
    },
    {
      "cell_type": "code",
      "source": [
        "a <= b"
      ],
      "metadata": {
        "colab": {
          "base_uri": "https://localhost:8080/"
        },
        "id": "mFdUvNC0OCiF",
        "outputId": "4ef53a6e-9c9d-4585-ea3c-8643db80ae56"
      },
      "execution_count": null,
      "outputs": [
        {
          "output_type": "execute_result",
          "data": {
            "text/plain": [
              "array([ True, False, False, False])"
            ]
          },
          "metadata": {},
          "execution_count": 583
        }
      ]
    },
    {
      "cell_type": "code",
      "source": [
        "# Array wise comparision for equality:\n",
        "np.array_equal(a,b)"
      ],
      "metadata": {
        "colab": {
          "base_uri": "https://localhost:8080/"
        },
        "id": "V2-pYJI-OWQ-",
        "outputId": "2df187dc-3923-4ebb-85dd-0e8df02b15b2"
      },
      "execution_count": null,
      "outputs": [
        {
          "output_type": "execute_result",
          "data": {
            "text/plain": [
              "False"
            ]
          },
          "metadata": {},
          "execution_count": 584
        }
      ]
    },
    {
      "cell_type": "code",
      "source": [
        "a = np.array([1, 2, 3, 4])\n",
        "b = np.array([1, 2, 3, 4])\n",
        "print(a)\n",
        "print(b)"
      ],
      "metadata": {
        "colab": {
          "base_uri": "https://localhost:8080/"
        },
        "id": "IJyBdcuZxAhu",
        "outputId": "2b82dbd8-67c1-42f9-d098-2e17e211eb96"
      },
      "execution_count": null,
      "outputs": [
        {
          "output_type": "stream",
          "name": "stdout",
          "text": [
            "[1 2 3 4]\n",
            "[1 2 3 4]\n"
          ]
        }
      ]
    },
    {
      "cell_type": "code",
      "source": [
        "# Array wise comparision for equality:\n",
        "np.array_equal(a,b)"
      ],
      "metadata": {
        "colab": {
          "base_uri": "https://localhost:8080/"
        },
        "id": "l2Lke9W9xDL-",
        "outputId": "170fdcf2-b499-4032-83bf-978a6b2d6c30"
      },
      "execution_count": null,
      "outputs": [
        {
          "output_type": "execute_result",
          "data": {
            "text/plain": [
              "True"
            ]
          },
          "metadata": {},
          "execution_count": 586
        }
      ]
    },
    {
      "cell_type": "markdown",
      "source": [
        "# <font color=\"red\">**7) Matrix Multiplication**</font>\n",
        "\n",
        "- `np.matmul(mat1, mat2)`\n",
        "- `mat1 @ mat2`\n",
        "- `np.dot(mat1, mat2)` - Dot product"
      ],
      "metadata": {
        "id": "e72qW4y4Ps8m"
      }
    },
    {
      "cell_type": "code",
      "source": [
        "mat1 = np.array([[2],[1]])\n",
        "mat2 = np.array([[2,4]])\n",
        "print(mat1)\n",
        "print(mat2)"
      ],
      "metadata": {
        "colab": {
          "base_uri": "https://localhost:8080/"
        },
        "id": "HKZUIibVO7ig",
        "outputId": "9593e0cd-13b6-4fdb-fbb9-38cc8e073cdd"
      },
      "execution_count": null,
      "outputs": [
        {
          "output_type": "stream",
          "name": "stdout",
          "text": [
            "[[2]\n",
            " [1]]\n",
            "[[2 4]]\n"
          ]
        }
      ]
    },
    {
      "cell_type": "code",
      "source": [
        "print(mat1.ndim)\n",
        "print(mat1.shape)"
      ],
      "metadata": {
        "colab": {
          "base_uri": "https://localhost:8080/"
        },
        "id": "akUrX-voQZN5",
        "outputId": "f29f2806-1d28-4379-ff67-26cb7d0d08f3"
      },
      "execution_count": null,
      "outputs": [
        {
          "output_type": "stream",
          "name": "stdout",
          "text": [
            "2\n",
            "(2, 1)\n"
          ]
        }
      ]
    },
    {
      "cell_type": "code",
      "source": [
        "print(mat2.ndim)\n",
        "print(mat2.shape)"
      ],
      "metadata": {
        "colab": {
          "base_uri": "https://localhost:8080/"
        },
        "id": "5AZbwG3UQH6f",
        "outputId": "6bae26e3-274f-4b7b-af41-6470d451d0be"
      },
      "execution_count": null,
      "outputs": [
        {
          "output_type": "stream",
          "name": "stdout",
          "text": [
            "2\n",
            "(1, 2)\n"
          ]
        }
      ]
    },
    {
      "cell_type": "code",
      "source": [
        "#Type1\n",
        "np.matmul(mat1, mat2)"
      ],
      "metadata": {
        "colab": {
          "base_uri": "https://localhost:8080/"
        },
        "id": "DDudxZaHQU4O",
        "outputId": "4e16ee62-fb1e-463f-f330-1a1ed8381c63"
      },
      "execution_count": null,
      "outputs": [
        {
          "output_type": "execute_result",
          "data": {
            "text/plain": [
              "array([[4, 8],\n",
              "       [2, 4]])"
            ]
          },
          "metadata": {},
          "execution_count": 590
        }
      ]
    },
    {
      "cell_type": "code",
      "source": [
        "#Type2:\n",
        "mat1 @ mat2"
      ],
      "metadata": {
        "colab": {
          "base_uri": "https://localhost:8080/"
        },
        "id": "zKzTs8ojRt6d",
        "outputId": "1eb3d0c9-f3e2-435b-b1c3-54aa6e9553ff"
      },
      "execution_count": null,
      "outputs": [
        {
          "output_type": "execute_result",
          "data": {
            "text/plain": [
              "array([[4, 8],\n",
              "       [2, 4]])"
            ]
          },
          "metadata": {},
          "execution_count": 591
        }
      ]
    },
    {
      "cell_type": "code",
      "source": [
        "# Type3:\n",
        "# Dot for 2D:\n",
        "np.dot(mat1, mat2)"
      ],
      "metadata": {
        "colab": {
          "base_uri": "https://localhost:8080/"
        },
        "id": "PbpBJcdwSRnh",
        "outputId": "52c93772-f49b-48cd-c0cb-bbf2640f6b29"
      },
      "execution_count": null,
      "outputs": [
        {
          "output_type": "execute_result",
          "data": {
            "text/plain": [
              "array([[4, 8],\n",
              "       [2, 4]])"
            ]
          },
          "metadata": {},
          "execution_count": 592
        }
      ]
    },
    {
      "cell_type": "code",
      "source": [
        "print(a)\n",
        "print(b)"
      ],
      "metadata": {
        "colab": {
          "base_uri": "https://localhost:8080/"
        },
        "id": "MgC3jEFWSz47",
        "outputId": "cb8fca6c-b231-49a7-9a6f-e8390fe243b8"
      },
      "execution_count": null,
      "outputs": [
        {
          "output_type": "stream",
          "name": "stdout",
          "text": [
            "[1 2 3 4]\n",
            "[1 2 3 4]\n"
          ]
        }
      ]
    },
    {
      "cell_type": "code",
      "source": [
        "# Dot for 1D:\n",
        "np.dot(a,b) # Dot product"
      ],
      "metadata": {
        "colab": {
          "base_uri": "https://localhost:8080/"
        },
        "id": "LqbphpKlSls9",
        "outputId": "575bc671-f219-41d9-f51f-d480a85f43b7"
      },
      "execution_count": null,
      "outputs": [
        {
          "output_type": "execute_result",
          "data": {
            "text/plain": [
              "30"
            ]
          },
          "metadata": {},
          "execution_count": 594
        }
      ]
    },
    {
      "cell_type": "code",
      "source": [
        "# Dot for 2 elements:\n",
        "np.dot(3,2)"
      ],
      "metadata": {
        "colab": {
          "base_uri": "https://localhost:8080/"
        },
        "id": "gmWmi7TxTDZ7",
        "outputId": "5bdaeec5-c5fa-45b0-8d84-8888787566fc"
      },
      "execution_count": null,
      "outputs": [
        {
          "output_type": "execute_result",
          "data": {
            "text/plain": [
              "6"
            ]
          },
          "metadata": {},
          "execution_count": 595
        }
      ]
    },
    {
      "cell_type": "markdown",
      "source": [
        "# <font color=\"red\">**8) Axis**</font>"
      ],
      "metadata": {
        "id": "6vWf7bR_TZf1"
      }
    },
    {
      "cell_type": "markdown",
      "source": [
        "![image.png](data:image/png;base64,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)"
      ],
      "metadata": {
        "id": "tHoupZrgJrlt"
      }
    },
    {
      "cell_type": "code",
      "source": [
        "'''\n",
        "axis = 0 ---> Vertical axis ---> (Row-wise colapsing) ---> Column wise operation\n",
        "\n",
        "axis = 1 ---> Horizontal axis ---> (Column-wise colapsing) ---> Row wise operation\n",
        "'''"
      ],
      "metadata": {
        "id": "vR5y98FcTH9c",
        "colab": {
          "base_uri": "https://localhost:8080/"
        },
        "outputId": "e8e951cb-dc16-48f1-ff43-794178bc4dd1"
      },
      "execution_count": null,
      "outputs": [
        {
          "output_type": "execute_result",
          "data": {
            "text/plain": [
              "'\\naxis = 0 ---> Vertical axis ---> (Row-wise colapsing) ---> Column wise operation\\n\\naxis = 1 ---> Horizontal axis ---> (Column-wise colapsing) ---> Row wise operation\\n'"
            ],
            "application/vnd.google.colaboratory.intrinsic+json": {
              "type": "string"
            }
          },
          "metadata": {},
          "execution_count": 596
        }
      ]
    },
    {
      "cell_type": "markdown",
      "source": [
        "# <font color=\"red\">**9) Broadcasting**</font>\n"
      ],
      "metadata": {
        "id": "5FvH1aCmUYgC"
      }
    },
    {
      "cell_type": "markdown",
      "source": [
        "In Python, particularly with libraries like NumPy and pandas, broadcasting is a technique used to perform element-wise operations on arrays of different shapes and sizes without explicitly replicating the data. It allows for efficient operations on arrays of different dimensions and simplifies the code.\n",
        "\n",
        "- **Basic Concept:** Broadcasting allows NumPy to perform operations on arrays of different shapes in a way that makes them compatible for element-wise operations. This is achieved by automatically expanding the smaller array to match the shape of the larger array."
      ],
      "metadata": {
        "id": "L7yjKdZsbolN"
      }
    },
    {
      "cell_type": "markdown",
      "source": [
        "![image.png](data:image/png;base64,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)"
      ],
      "metadata": {
        "id": "Mf9RgQyjX-WO"
      }
    },
    {
      "cell_type": "markdown",
      "source": [
        "![image.png](data:image/png;base64,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)"
      ],
      "metadata": {
        "id": "ZMhOHVjvYeOC"
      }
    },
    {
      "cell_type": "markdown",
      "source": [
        "\n",
        "**Rules:**\n",
        "\n",
        "For each dimension(going from right side)\n",
        "\n",
        "- **Rule 1:** The size of each dimension should be same\n",
        "\n",
        "(or)\n",
        "\n",
        "- **Rule 2:**  The size of one dimension should be 1"
      ],
      "metadata": {
        "id": "7kWnzOzeamFZ"
      }
    },
    {
      "cell_type": "code",
      "source": [
        "'''\n",
        "Explanation:\n",
        "a -> (4,3)\n",
        "b -> (3,) not same so add 1 before --> (1,3) now became same dimension\n",
        "\n",
        "(4,3)\n",
        "(1,3)\n",
        "\n",
        "output: (4,3)\n",
        "'''"
      ],
      "metadata": {
        "id": "gRERMhAC0FxX",
        "colab": {
          "base_uri": "https://localhost:8080/",
          "height": 36
        },
        "outputId": "bbfe02d6-f79d-4632-e015-b69bba305f80"
      },
      "execution_count": null,
      "outputs": [
        {
          "output_type": "execute_result",
          "data": {
            "text/plain": [
              "'\\nExplanation:\\na -> (4,3)\\nb -> (3,) not same so add 1 before --> (1,3) now became same dimension\\n\\n(4,3)\\n(1,3)\\n\\noutput: (4,3)\\n'"
            ],
            "application/vnd.google.colaboratory.intrinsic+json": {
              "type": "string"
            }
          },
          "metadata": {},
          "execution_count": 597
        }
      ]
    },
    {
      "cell_type": "code",
      "source": [
        "'''\n",
        "Explanation:\n",
        "\n",
        "(4,1)\n",
        "(3,) --> (1, 3)\n",
        "\n",
        "(4,1)\n",
        "(1,3)\n",
        "\n",
        "output: (4,3)\n",
        "'''"
      ],
      "metadata": {
        "id": "e0j-fniP0LMD",
        "colab": {
          "base_uri": "https://localhost:8080/",
          "height": 36
        },
        "outputId": "1596f2b4-c6a3-4c72-9c20-080e8b60b2e7"
      },
      "execution_count": null,
      "outputs": [
        {
          "output_type": "execute_result",
          "data": {
            "text/plain": [
              "'\\nExplanation:\\n\\n(4,1)\\n(3,) --> (1, 3)\\n\\n(4,1)\\n(1,3)\\n\\noutput: (4,3)\\n'"
            ],
            "application/vnd.google.colaboratory.intrinsic+json": {
              "type": "string"
            }
          },
          "metadata": {},
          "execution_count": 598
        }
      ]
    },
    {
      "cell_type": "code",
      "source": [
        "'''\n",
        "A -> (3, 4)\n",
        "B -> (3,) --> (1, 3)\n",
        "\n",
        "(3,4)\n",
        "(1,3)\n",
        "\n",
        "Error\n",
        "'''"
      ],
      "metadata": {
        "id": "-cpmOxsh0Qkr",
        "colab": {
          "base_uri": "https://localhost:8080/",
          "height": 36
        },
        "outputId": "bce5076e-782f-422c-e837-1c44802219aa"
      },
      "execution_count": null,
      "outputs": [
        {
          "output_type": "execute_result",
          "data": {
            "text/plain": [
              "'\\nA -> (3, 4)\\nB -> (3,) --> (1, 3)\\n\\n(3,4)\\n(1,3)\\n\\nError\\n'"
            ],
            "application/vnd.google.colaboratory.intrinsic+json": {
              "type": "string"
            }
          },
          "metadata": {},
          "execution_count": 599
        }
      ]
    },
    {
      "cell_type": "code",
      "source": [
        "'''\n",
        "Quiz\n",
        "\n",
        "Given two arrays of shape\n",
        "Array A of shape (8, 1, 6, 1) - 4D\n",
        "Array B of shape (7, 1, 5) - 3D\n",
        "Is broadcasting possible in this case? If yes, what will be the shape of output ?\n",
        "'''"
      ],
      "metadata": {
        "id": "DCRR1nmS0Xmq",
        "colab": {
          "base_uri": "https://localhost:8080/",
          "height": 53
        },
        "outputId": "446cfc60-2021-4741-ae5f-96edbfd72ad4"
      },
      "execution_count": null,
      "outputs": [
        {
          "output_type": "execute_result",
          "data": {
            "text/plain": [
              "'\\nQuiz\\n\\nGiven two arrays of shape\\nArray A of shape (8, 1, 6, 1) - 4D\\nArray B of shape (7, 1, 5) - 3D\\nIs broadcasting possible in this case? If yes, what will be the shape of output ?\\n'"
            ],
            "application/vnd.google.colaboratory.intrinsic+json": {
              "type": "string"
            }
          },
          "metadata": {},
          "execution_count": 600
        }
      ]
    },
    {
      "cell_type": "code",
      "source": [
        "'''\n",
        "Soln:\n",
        "\n",
        "A -> (8, 1, 6, 1)\n",
        "B -> (7, 1, 5) --> (1, 7, 1, 5)\n",
        "\n",
        "\n",
        "A -> (8, 1, 6, 1)\n",
        "B -> (1, 7, 1, 5)\n",
        "\n",
        "What will be the shape after broadcasting\n",
        "(8, 7, 6, 5)\n",
        "'''"
      ],
      "metadata": {
        "id": "i26GJKrv0ZWy",
        "colab": {
          "base_uri": "https://localhost:8080/",
          "height": 53
        },
        "outputId": "4b2a8c48-c307-4e3e-b56c-576602b3aa36"
      },
      "execution_count": null,
      "outputs": [
        {
          "output_type": "execute_result",
          "data": {
            "text/plain": [
              "'\\nSoln:\\n\\nA -> (8, 1, 6, 1)\\nB -> (7, 1, 5) --> (1, 7, 1, 5)\\n\\n\\nA -> (8, 1, 6, 1)\\nB -> (1, 7, 1, 5)\\n\\nWhat will be the shape after broadcasting\\n(8, 7, 6, 5)\\n'"
            ],
            "application/vnd.google.colaboratory.intrinsic+json": {
              "type": "string"
            }
          },
          "metadata": {},
          "execution_count": 601
        }
      ]
    },
    {
      "cell_type": "code",
      "source": [
        "import numpy as np\n",
        "\n",
        "# Create a 2D array and a 1D array\n",
        "A = np.array([[1, 2, 3], [4, 5, 6]])\n",
        "B = np.array([10, 20, 30])\n",
        "\n",
        "# Perform element-wise addition\n",
        "result = A + B\n",
        "\n",
        "print(A)\n",
        "print(f\"Dimension of A is {A.ndim}\")\n",
        "print(f\"Shape of A is {A.shape}\")\n",
        "print()\n",
        "print(B)\n",
        "print(f\"Dimension of B is {B.ndim}\")\n",
        "print(f\"Shape of B is {B.shape}\")\n",
        "print()\n",
        "print(result)"
      ],
      "metadata": {
        "colab": {
          "base_uri": "https://localhost:8080/"
        },
        "id": "s7bcdhwucvpb",
        "outputId": "ffe05916-de24-4fe8-9543-13afa9f5e306"
      },
      "execution_count": null,
      "outputs": [
        {
          "output_type": "stream",
          "name": "stdout",
          "text": [
            "[[1 2 3]\n",
            " [4 5 6]]\n",
            "Dimension of A is 2\n",
            "Shape of A is (2, 3)\n",
            "\n",
            "[10 20 30]\n",
            "Dimension of B is 1\n",
            "Shape of B is (3,)\n",
            "\n",
            "[[11 22 33]\n",
            " [14 25 36]]\n"
          ]
        }
      ]
    },
    {
      "cell_type": "markdown",
      "source": [
        "# <font color=\"red\">**10) Vectorization:**</font>"
      ],
      "metadata": {
        "id": "pprTiyWw03qJ"
      }
    },
    {
      "cell_type": "markdown",
      "source": [
        "- Vectorization in NumPy refers to performing operations on entire arrays or array elements simultaneously, which is significantly faster and more efficient than using explicit loops.\n"
      ],
      "metadata": {
        "id": "G8lZbJmf3RdF"
      }
    },
    {
      "cell_type": "code",
      "source": [
        "# Vectorization -> np\n",
        "'''\n",
        "When we want to perform a functionality on each element of the numpy array simultaneously we use Vectorization\n",
        "ie) We Vaectorize the functionality\n",
        "'''"
      ],
      "metadata": {
        "id": "R_0FEXE903Ex",
        "colab": {
          "base_uri": "https://localhost:8080/"
        },
        "outputId": "89846f7f-d2b4-410a-d744-019b691c8a7d"
      },
      "execution_count": null,
      "outputs": [
        {
          "output_type": "execute_result",
          "data": {
            "text/plain": [
              "'\\nWhen we want to perform a functionality on each element of the numpy array simultaneously we use Vectorization\\nie) We Vaectorize the functionality\\n'"
            ],
            "application/vnd.google.colaboratory.intrinsic+json": {
              "type": "string"
            }
          },
          "metadata": {},
          "execution_count": 603
        }
      ]
    },
    {
      "cell_type": "code",
      "source": [
        "a = np.arange(10)\n",
        "print(a)"
      ],
      "metadata": {
        "colab": {
          "base_uri": "https://localhost:8080/"
        },
        "id": "mW6DCwUW3Ym8",
        "outputId": "a7373c52-1382-4b7e-878e-768c6e5c9ec4"
      },
      "execution_count": null,
      "outputs": [
        {
          "output_type": "stream",
          "name": "stdout",
          "text": [
            "[0 1 2 3 4 5 6 7 8 9]\n"
          ]
        }
      ]
    },
    {
      "cell_type": "code",
      "source": [
        "def solve(n):\n",
        "  if n%2 == 0:\n",
        "    n += 2\n",
        "  else:\n",
        "    n -= 2\n",
        "\n",
        "  return n"
      ],
      "metadata": {
        "id": "1Bmzja_Q30GA"
      },
      "execution_count": null,
      "outputs": []
    },
    {
      "cell_type": "code",
      "source": [
        "new_solve = np.vectorize(solve)"
      ],
      "metadata": {
        "id": "u9HxZWHc32rx"
      },
      "execution_count": null,
      "outputs": []
    },
    {
      "cell_type": "code",
      "source": [
        "new_solve(a)"
      ],
      "metadata": {
        "colab": {
          "base_uri": "https://localhost:8080/"
        },
        "id": "cMApBvkV4Kgl",
        "outputId": "a98ed3a3-b851-47f7-b6b5-e98f5fea70a7"
      },
      "execution_count": null,
      "outputs": [
        {
          "output_type": "execute_result",
          "data": {
            "text/plain": [
              "array([ 2, -1,  4,  1,  6,  3,  8,  5, 10,  7])"
            ]
          },
          "metadata": {},
          "execution_count": 607
        }
      ]
    },
    {
      "cell_type": "markdown",
      "source": [
        "# <font color=\"red\">**11) Array Manipulation**</font>"
      ],
      "metadata": {
        "id": "jrMdikCVr6yt"
      }
    },
    {
      "cell_type": "markdown",
      "source": [
        "## <font color=\"orange\">**11.1) Reshaping**</font>\n",
        "\n",
        "- `array_2d = np.arange(12).reshape(2,-1)` --> Forms 2d array of size 2 X 6\n",
        "\n",
        "- `array_2d.flatten()` --> Flattens the array to the original shape\n",
        "\n",
        "**Transpose:**\n",
        "\n",
        "- `array_name.T`\n",
        "- `array_name.transpose()`\n",
        "- `np.transpose(array_name)`"
      ],
      "metadata": {
        "id": "HPz50CKFsUfU"
      }
    },
    {
      "cell_type": "code",
      "source": [
        "# Crearting 3D array:\n",
        "array3d = np.array([[[1,2],[5,6],[4,5]],[[7,4],[5,6],[5,4]],[[1,2],[5,6],[6,2]]])\n",
        "array3d"
      ],
      "metadata": {
        "colab": {
          "base_uri": "https://localhost:8080/"
        },
        "id": "34cyShDFeeo-",
        "outputId": "9ce0365e-4731-408b-f416-e10008eed73a"
      },
      "execution_count": null,
      "outputs": [
        {
          "output_type": "execute_result",
          "data": {
            "text/plain": [
              "array([[[1, 2],\n",
              "        [5, 6],\n",
              "        [4, 5]],\n",
              "\n",
              "       [[7, 4],\n",
              "        [5, 6],\n",
              "        [5, 4]],\n",
              "\n",
              "       [[1, 2],\n",
              "        [5, 6],\n",
              "        [6, 2]]])"
            ]
          },
          "metadata": {},
          "execution_count": 608
        }
      ]
    },
    {
      "cell_type": "code",
      "source": [
        "array3d.shape"
      ],
      "metadata": {
        "colab": {
          "base_uri": "https://localhost:8080/"
        },
        "id": "eDZUUZZSfLB3",
        "outputId": "82a724d0-1ef3-4b12-f4e3-211c566ad49a"
      },
      "execution_count": null,
      "outputs": [
        {
          "output_type": "execute_result",
          "data": {
            "text/plain": [
              "(3, 3, 2)"
            ]
          },
          "metadata": {},
          "execution_count": 609
        }
      ]
    },
    {
      "cell_type": "code",
      "source": [
        "array3d = np.array([[[1,2],[5,6],[4,5]],[[7,4],[5,6],[5,4]]])\n",
        "array3d"
      ],
      "metadata": {
        "colab": {
          "base_uri": "https://localhost:8080/"
        },
        "id": "FUVTPwKXgD2b",
        "outputId": "f9f9bc86-baa0-4806-9068-4f39d84117bf"
      },
      "execution_count": null,
      "outputs": [
        {
          "output_type": "execute_result",
          "data": {
            "text/plain": [
              "array([[[1, 2],\n",
              "        [5, 6],\n",
              "        [4, 5]],\n",
              "\n",
              "       [[7, 4],\n",
              "        [5, 6],\n",
              "        [5, 4]]])"
            ]
          },
          "metadata": {},
          "execution_count": 610
        }
      ]
    },
    {
      "cell_type": "code",
      "source": [
        "array3d.shape"
      ],
      "metadata": {
        "colab": {
          "base_uri": "https://localhost:8080/"
        },
        "id": "8deMuupIgHjG",
        "outputId": "a686409a-1588-4c6a-ef97-117d566d83bb"
      },
      "execution_count": null,
      "outputs": [
        {
          "output_type": "execute_result",
          "data": {
            "text/plain": [
              "(2, 3, 2)"
            ]
          },
          "metadata": {},
          "execution_count": 611
        }
      ]
    },
    {
      "cell_type": "code",
      "source": [
        "# Understanding the shape:\n",
        "'''\n",
        "(How many sets, each sets(3 rows), each sets(2 columns))\n",
        "'''"
      ],
      "metadata": {
        "id": "P2SwnINAgSVO",
        "colab": {
          "base_uri": "https://localhost:8080/",
          "height": 36
        },
        "outputId": "c0a8430c-fdbb-4479-e59b-adad3de7b918"
      },
      "execution_count": null,
      "outputs": [
        {
          "output_type": "execute_result",
          "data": {
            "text/plain": [
              "'\\n(How many sets, each sets(3 rows), each sets(2 columns))\\n'"
            ],
            "application/vnd.google.colaboratory.intrinsic+json": {
              "type": "string"
            }
          },
          "metadata": {},
          "execution_count": 612
        }
      ]
    },
    {
      "cell_type": "code",
      "source": [
        "array3d = np.array([[[1,2]],[[5,6]]])\n",
        "array3d"
      ],
      "metadata": {
        "colab": {
          "base_uri": "https://localhost:8080/"
        },
        "id": "2x-CoQ1dsSyE",
        "outputId": "a20ac194-2c0d-4215-d7a6-f248d7f0ebd3"
      },
      "execution_count": null,
      "outputs": [
        {
          "output_type": "execute_result",
          "data": {
            "text/plain": [
              "array([[[1, 2]],\n",
              "\n",
              "       [[5, 6]]])"
            ]
          },
          "metadata": {},
          "execution_count": 613
        }
      ]
    },
    {
      "cell_type": "code",
      "source": [
        "array3d.ndim"
      ],
      "metadata": {
        "colab": {
          "base_uri": "https://localhost:8080/"
        },
        "id": "IMRIvccit25i",
        "outputId": "a4e90ec5-3fcf-415d-d85f-22568a9e943c"
      },
      "execution_count": null,
      "outputs": [
        {
          "output_type": "execute_result",
          "data": {
            "text/plain": [
              "3"
            ]
          },
          "metadata": {},
          "execution_count": 614
        }
      ]
    },
    {
      "cell_type": "code",
      "source": [
        "array3d.shape"
      ],
      "metadata": {
        "colab": {
          "base_uri": "https://localhost:8080/"
        },
        "id": "5XcYo0fKtm6d",
        "outputId": "e7571427-8bbb-421d-dc9b-aefe435e49a8"
      },
      "execution_count": null,
      "outputs": [
        {
          "output_type": "execute_result",
          "data": {
            "text/plain": [
              "(2, 1, 2)"
            ]
          },
          "metadata": {},
          "execution_count": 615
        }
      ]
    },
    {
      "cell_type": "code",
      "source": [
        "# Reshapeing 3D to 2D array:\n",
        "array3d.reshape(2,2)"
      ],
      "metadata": {
        "colab": {
          "base_uri": "https://localhost:8080/"
        },
        "id": "RAA9iy0jwQHK",
        "outputId": "8a83acac-81fb-4ffb-d193-332f167048bc"
      },
      "execution_count": null,
      "outputs": [
        {
          "output_type": "execute_result",
          "data": {
            "text/plain": [
              "array([[1, 2],\n",
              "       [5, 6]])"
            ]
          },
          "metadata": {},
          "execution_count": 616
        }
      ]
    },
    {
      "cell_type": "code",
      "source": [
        "# Reshaping 1D to 2D:\n",
        "arr = np.arange(12)\n",
        "arr"
      ],
      "metadata": {
        "colab": {
          "base_uri": "https://localhost:8080/"
        },
        "id": "R_kx9QzpwV0a",
        "outputId": "e5776ba1-890d-4deb-f8fb-191589f921a0"
      },
      "execution_count": null,
      "outputs": [
        {
          "output_type": "execute_result",
          "data": {
            "text/plain": [
              "array([ 0,  1,  2,  3,  4,  5,  6,  7,  8,  9, 10, 11])"
            ]
          },
          "metadata": {},
          "execution_count": 617
        }
      ]
    },
    {
      "cell_type": "code",
      "source": [
        "b = arr.reshape(2,-1)\n",
        "b"
      ],
      "metadata": {
        "colab": {
          "base_uri": "https://localhost:8080/"
        },
        "id": "i_rjtJY9wyNA",
        "outputId": "79c89a06-d8fa-4178-98f0-f8350827dd72"
      },
      "execution_count": null,
      "outputs": [
        {
          "output_type": "execute_result",
          "data": {
            "text/plain": [
              "array([[ 0,  1,  2,  3,  4,  5],\n",
              "       [ 6,  7,  8,  9, 10, 11]])"
            ]
          },
          "metadata": {},
          "execution_count": 618
        }
      ]
    },
    {
      "cell_type": "code",
      "source": [
        "# Flatten the 2D to 1D: Returns copy of array\n",
        "b.flatten()"
      ],
      "metadata": {
        "colab": {
          "base_uri": "https://localhost:8080/"
        },
        "id": "GJpKQxU3w0O-",
        "outputId": "b01b0a61-d687-4b57-9141-ddefded34018"
      },
      "execution_count": null,
      "outputs": [
        {
          "output_type": "execute_result",
          "data": {
            "text/plain": [
              "array([ 0,  1,  2,  3,  4,  5,  6,  7,  8,  9, 10, 11])"
            ]
          },
          "metadata": {},
          "execution_count": 619
        }
      ]
    },
    {
      "cell_type": "code",
      "source": [
        "# Falatten the 3D to 1D:\n",
        "array3d.flatten()"
      ],
      "metadata": {
        "colab": {
          "base_uri": "https://localhost:8080/"
        },
        "id": "VJPE8MhXxN_S",
        "outputId": "1d8558fc-3787-4c2f-c7c8-c6635f864911"
      },
      "execution_count": null,
      "outputs": [
        {
          "output_type": "execute_result",
          "data": {
            "text/plain": [
              "array([1, 2, 5, 6])"
            ]
          },
          "metadata": {},
          "execution_count": 620
        }
      ]
    },
    {
      "cell_type": "code",
      "source": [
        "## Transpose:\n",
        "b"
      ],
      "metadata": {
        "colab": {
          "base_uri": "https://localhost:8080/"
        },
        "id": "7L0Fqmxdyzzv",
        "outputId": "e55d08ac-8ba0-4864-d1fb-7f3b00c4741a"
      },
      "execution_count": null,
      "outputs": [
        {
          "output_type": "execute_result",
          "data": {
            "text/plain": [
              "array([[ 0,  1,  2,  3,  4,  5],\n",
              "       [ 6,  7,  8,  9, 10, 11]])"
            ]
          },
          "metadata": {},
          "execution_count": 621
        }
      ]
    },
    {
      "cell_type": "code",
      "source": [
        "# Type1:\n",
        "b.T"
      ],
      "metadata": {
        "colab": {
          "base_uri": "https://localhost:8080/"
        },
        "id": "xulwqR0Zy5at",
        "outputId": "10f61f1e-8fc3-4af1-827c-86bfec850a3a"
      },
      "execution_count": null,
      "outputs": [
        {
          "output_type": "execute_result",
          "data": {
            "text/plain": [
              "array([[ 0,  6],\n",
              "       [ 1,  7],\n",
              "       [ 2,  8],\n",
              "       [ 3,  9],\n",
              "       [ 4, 10],\n",
              "       [ 5, 11]])"
            ]
          },
          "metadata": {},
          "execution_count": 622
        }
      ]
    },
    {
      "cell_type": "code",
      "source": [
        "# Type2:\n",
        "b.transpose()"
      ],
      "metadata": {
        "colab": {
          "base_uri": "https://localhost:8080/"
        },
        "id": "NFsG_Only7os",
        "outputId": "b8d5ddb0-09b0-4156-a241-41dd4a0b5d79"
      },
      "execution_count": null,
      "outputs": [
        {
          "output_type": "execute_result",
          "data": {
            "text/plain": [
              "array([[ 0,  6],\n",
              "       [ 1,  7],\n",
              "       [ 2,  8],\n",
              "       [ 3,  9],\n",
              "       [ 4, 10],\n",
              "       [ 5, 11]])"
            ]
          },
          "metadata": {},
          "execution_count": 623
        }
      ]
    },
    {
      "cell_type": "code",
      "source": [
        "# Type3:\n",
        "np.transpose(b)"
      ],
      "metadata": {
        "colab": {
          "base_uri": "https://localhost:8080/"
        },
        "id": "rJIBZ00ZzAby",
        "outputId": "4545cff9-b364-4477-cf04-fa900c8389b1"
      },
      "execution_count": null,
      "outputs": [
        {
          "output_type": "execute_result",
          "data": {
            "text/plain": [
              "array([[ 0,  6],\n",
              "       [ 1,  7],\n",
              "       [ 2,  8],\n",
              "       [ 3,  9],\n",
              "       [ 4, 10],\n",
              "       [ 5, 11]])"
            ]
          },
          "metadata": {},
          "execution_count": 624
        }
      ]
    },
    {
      "cell_type": "markdown",
      "source": [
        "## <font color=\"orange\">**11.2) Sorting**</font>\n",
        "\n",
        "**1. Sorting 1D**\n",
        "\n",
        "- `array_name.sort()` --> Does not return anything, Changes the original array\n",
        "- `np.sort(array_name)` --> Returns the sorted array, does not change the original array\n",
        "\n",
        "**2. Sorting 2D**\n",
        "\n",
        "- `np.sort(array_name, axis=0)` - Sorting operation is performed vertically\n",
        "- `np.sort(array_name, axis=1)` - Sorting operation is performed Horizontally\n",
        "\n",
        "**3. Argsort**\n",
        "\n",
        "- `np.argsort(array_name)` - Returns the index that would sort the original array\n",
        "\n",
        "\n"
      ],
      "metadata": {
        "id": "kOM8gMW0zj0E"
      }
    },
    {
      "cell_type": "markdown",
      "source": [
        "### <font color=\"morange\">**11.2.1) Sorting 1D**</font>\n"
      ],
      "metadata": {
        "id": "Nb1i8L-o-F_e"
      }
    },
    {
      "cell_type": "code",
      "source": [
        "# Sort original and does not return anything:\n",
        "a = np.array([4, 7, 0, 3, 8, 2, 5, 1, 6, 9])\n",
        "print(a)\n",
        "print(id(a))"
      ],
      "metadata": {
        "colab": {
          "base_uri": "https://localhost:8080/"
        },
        "id": "Sgv7f6PMzCq_",
        "outputId": "8d3bf4fe-e1e0-4822-81ad-698506c8555a"
      },
      "execution_count": null,
      "outputs": [
        {
          "output_type": "stream",
          "name": "stdout",
          "text": [
            "[4 7 0 3 8 2 5 1 6 9]\n",
            "133898844152688\n"
          ]
        }
      ]
    },
    {
      "cell_type": "code",
      "source": [
        "b = a #b is original:\n",
        "print(b)\n",
        "print(id(b))"
      ],
      "metadata": {
        "colab": {
          "base_uri": "https://localhost:8080/"
        },
        "id": "HUOHLLhU0NwW",
        "outputId": "c0049386-6629-4ebd-e361-52f32cc4eb3c"
      },
      "execution_count": null,
      "outputs": [
        {
          "output_type": "stream",
          "name": "stdout",
          "text": [
            "[4 7 0 3 8 2 5 1 6 9]\n",
            "133898844152688\n"
          ]
        }
      ]
    },
    {
      "cell_type": "code",
      "source": [
        "id(a) == id(b)"
      ],
      "metadata": {
        "colab": {
          "base_uri": "https://localhost:8080/"
        },
        "id": "cM2GFT776UHL",
        "outputId": "2b01229b-30df-4f5a-ef21-25c511eb5e30"
      },
      "execution_count": null,
      "outputs": [
        {
          "output_type": "execute_result",
          "data": {
            "text/plain": [
              "True"
            ]
          },
          "metadata": {},
          "execution_count": 627
        }
      ]
    },
    {
      "cell_type": "code",
      "source": [
        "b.sort() #Does not return anything"
      ],
      "metadata": {
        "id": "gvYtqGB-0Gbg"
      },
      "execution_count": null,
      "outputs": []
    },
    {
      "cell_type": "code",
      "source": [
        "b #Changes the original array"
      ],
      "metadata": {
        "colab": {
          "base_uri": "https://localhost:8080/"
        },
        "id": "m5KKxO2j0I7w",
        "outputId": "aa8ef50a-05f8-42b1-da60-3875ea949c00"
      },
      "execution_count": null,
      "outputs": [
        {
          "output_type": "execute_result",
          "data": {
            "text/plain": [
              "array([0, 1, 2, 3, 4, 5, 6, 7, 8, 9])"
            ]
          },
          "metadata": {},
          "execution_count": 629
        }
      ]
    },
    {
      "cell_type": "code",
      "source": [
        "id(b) #Stores the sorted array ini original address"
      ],
      "metadata": {
        "colab": {
          "base_uri": "https://localhost:8080/"
        },
        "id": "cXBoKSEu7DqA",
        "outputId": "c7caf2d0-1d7f-4f3e-ba6b-15d3dbdd56db"
      },
      "execution_count": null,
      "outputs": [
        {
          "output_type": "execute_result",
          "data": {
            "text/plain": [
              "133898844152688"
            ]
          },
          "metadata": {},
          "execution_count": 630
        }
      ]
    },
    {
      "cell_type": "code",
      "source": [
        "c = np.array([5,4,3,2,1])\n",
        "print(c)\n",
        "print(id(c))"
      ],
      "metadata": {
        "colab": {
          "base_uri": "https://localhost:8080/"
        },
        "id": "GMw21kUp7hEY",
        "outputId": "9c3334ef-5725-42e3-8d43-cc734a58cee6"
      },
      "execution_count": null,
      "outputs": [
        {
          "output_type": "stream",
          "name": "stdout",
          "text": [
            "[5 4 3 2 1]\n",
            "133898844155952\n"
          ]
        }
      ]
    },
    {
      "cell_type": "code",
      "source": [
        "print(np.sort(c))\n",
        "id(np.sort(c)) #Returns the sorted, does not change the original"
      ],
      "metadata": {
        "colab": {
          "base_uri": "https://localhost:8080/"
        },
        "id": "mvbNIImj0J6X",
        "outputId": "1866d752-6259-458f-fced-26d5989a3b52"
      },
      "execution_count": null,
      "outputs": [
        {
          "output_type": "stream",
          "name": "stdout",
          "text": [
            "[1 2 3 4 5]\n"
          ]
        },
        {
          "output_type": "execute_result",
          "data": {
            "text/plain": [
              "133898844210736"
            ]
          },
          "metadata": {},
          "execution_count": 632
        }
      ]
    },
    {
      "cell_type": "code",
      "source": [
        "c #Original array remains same\n",
        "print(id(c))"
      ],
      "metadata": {
        "colab": {
          "base_uri": "https://localhost:8080/"
        },
        "id": "_b-jwYVX5r0C",
        "outputId": "94e9a505-a4bf-455e-fe81-9a294c7b106a"
      },
      "execution_count": null,
      "outputs": [
        {
          "output_type": "stream",
          "name": "stdout",
          "text": [
            "133898844155952\n"
          ]
        }
      ]
    },
    {
      "cell_type": "markdown",
      "source": [
        "### <font color=\"morange\">**11.2.2) Sorting 2D**</font>\n",
        "\n"
      ],
      "metadata": {
        "id": "Tb7g5xU1-WDX"
      }
    },
    {
      "cell_type": "code",
      "source": [
        "'''\n",
        "axis = 0 ---> Vertical axis ---> (Row-wise colapsing) ---> Column wise operation\n",
        "\n",
        "axis = 1 ---> Horizontal axis ---> (Column-wise colapsing) ---> Row wise operation\n",
        "'''"
      ],
      "metadata": {
        "id": "aVE0OYGN21rr",
        "colab": {
          "base_uri": "https://localhost:8080/",
          "height": 53
        },
        "outputId": "11719233-2647-4e81-a4eb-14084545d852"
      },
      "execution_count": null,
      "outputs": [
        {
          "output_type": "execute_result",
          "data": {
            "text/plain": [
              "'\\naxis = 0 ---> Vertical axis ---> (Row-wise colapsing) ---> Column wise operation\\n\\naxis = 1 ---> Horizontal axis ---> (Column-wise colapsing) ---> Row wise operation\\n'"
            ],
            "application/vnd.google.colaboratory.intrinsic+json": {
              "type": "string"
            }
          },
          "metadata": {},
          "execution_count": 634
        }
      ]
    },
    {
      "cell_type": "code",
      "source": [
        "# 2D Sorting:\n",
        "a = np.array([[23,4,43],\n",
        "              [12,89,3],\n",
        "              [69,420,0]])\n",
        "a"
      ],
      "metadata": {
        "colab": {
          "base_uri": "https://localhost:8080/"
        },
        "id": "0VfuXYSX0pRd",
        "outputId": "505a6998-a7cf-4a10-c817-bf74307af028"
      },
      "execution_count": null,
      "outputs": [
        {
          "output_type": "execute_result",
          "data": {
            "text/plain": [
              "array([[ 23,   4,  43],\n",
              "       [ 12,  89,   3],\n",
              "       [ 69, 420,   0]])"
            ]
          },
          "metadata": {},
          "execution_count": 635
        }
      ]
    },
    {
      "cell_type": "code",
      "source": [
        "# Column Sorting: (Sorting operation is performed vertically)\n",
        "b = np.sort(a, axis = 0)\n",
        "b"
      ],
      "metadata": {
        "colab": {
          "base_uri": "https://localhost:8080/"
        },
        "id": "rM0UNow81iuG",
        "outputId": "8c99e92f-4721-4966-ae17-7eb3f56a92e3"
      },
      "execution_count": null,
      "outputs": [
        {
          "output_type": "execute_result",
          "data": {
            "text/plain": [
              "array([[ 12,   4,   0],\n",
              "       [ 23,  89,   3],\n",
              "       [ 69, 420,  43]])"
            ]
          },
          "metadata": {},
          "execution_count": 636
        }
      ]
    },
    {
      "cell_type": "code",
      "source": [
        "a = np.array([[23,4,43],\n",
        "              [12,89,3],\n",
        "              [69,420,0]])\n",
        "a"
      ],
      "metadata": {
        "colab": {
          "base_uri": "https://localhost:8080/"
        },
        "id": "oXaFAGoR1k1K",
        "outputId": "3f4e8981-4ed1-482d-f884-6746db4082c1"
      },
      "execution_count": null,
      "outputs": [
        {
          "output_type": "execute_result",
          "data": {
            "text/plain": [
              "array([[ 23,   4,  43],\n",
              "       [ 12,  89,   3],\n",
              "       [ 69, 420,   0]])"
            ]
          },
          "metadata": {},
          "execution_count": 637
        }
      ]
    },
    {
      "cell_type": "code",
      "source": [
        "# Row Sorting: (Sorting operation is performed Horizontally)\n",
        "b = np.sort(a, axis = 1)\n",
        "b"
      ],
      "metadata": {
        "colab": {
          "base_uri": "https://localhost:8080/"
        },
        "id": "wbLIdZ4F5y9f",
        "outputId": "be655ed0-291b-42a4-da8e-cf62ce5e9bc5"
      },
      "execution_count": null,
      "outputs": [
        {
          "output_type": "execute_result",
          "data": {
            "text/plain": [
              "array([[  4,  23,  43],\n",
              "       [  3,  12,  89],\n",
              "       [  0,  69, 420]])"
            ]
          },
          "metadata": {},
          "execution_count": 638
        }
      ]
    },
    {
      "cell_type": "markdown",
      "source": [
        "### <font color=\"morange\">**11.2.3) Argsort**</font>\n"
      ],
      "metadata": {
        "id": "hNuoc3tX-qZ8"
      }
    },
    {
      "cell_type": "code",
      "source": [
        "# Example 1:\n",
        "a = np.array([4, 7, 0, 3, 8, 2, 5, 1, 6, 9])\n",
        "a"
      ],
      "metadata": {
        "colab": {
          "base_uri": "https://localhost:8080/"
        },
        "id": "2LuQV0fy6Fqo",
        "outputId": "23e5a9eb-e57e-4251-ad9b-46644752e16e"
      },
      "execution_count": null,
      "outputs": [
        {
          "output_type": "execute_result",
          "data": {
            "text/plain": [
              "array([4, 7, 0, 3, 8, 2, 5, 1, 6, 9])"
            ]
          },
          "metadata": {},
          "execution_count": 639
        }
      ]
    },
    {
      "cell_type": "code",
      "source": [
        "index = np.argsort(a) #Returns the index that would sort the original array\n",
        "index"
      ],
      "metadata": {
        "colab": {
          "base_uri": "https://localhost:8080/"
        },
        "id": "PzPM0fc4BJy5",
        "outputId": "0a595335-246a-4c14-c402-dea55ad1f9db"
      },
      "execution_count": null,
      "outputs": [
        {
          "output_type": "execute_result",
          "data": {
            "text/plain": [
              "array([2, 7, 5, 3, 0, 6, 8, 1, 4, 9])"
            ]
          },
          "metadata": {},
          "execution_count": 640
        }
      ]
    },
    {
      "cell_type": "code",
      "source": [
        "# Using that index to sort the original array\n",
        "sorted_array_a = [a[elem] for elem in index]\n",
        "sorted_array_a"
      ],
      "metadata": {
        "colab": {
          "base_uri": "https://localhost:8080/"
        },
        "id": "2H9yBZyQ_1HM",
        "outputId": "bb7b67ef-af05-43ca-d8db-5d552ee0a11a"
      },
      "execution_count": null,
      "outputs": [
        {
          "output_type": "execute_result",
          "data": {
            "text/plain": [
              "[0, 1, 2, 3, 4, 5, 6, 7, 8, 9]"
            ]
          },
          "metadata": {},
          "execution_count": 641
        }
      ]
    },
    {
      "cell_type": "code",
      "source": [
        "# Example 2\n",
        "b = np.array([5,7,3,1,10])\n",
        "b"
      ],
      "metadata": {
        "colab": {
          "base_uri": "https://localhost:8080/"
        },
        "id": "E7ZFuCpzBLd2",
        "outputId": "a21878b5-9ecb-4012-8846-abaccf5beb87"
      },
      "execution_count": null,
      "outputs": [
        {
          "output_type": "execute_result",
          "data": {
            "text/plain": [
              "array([ 5,  7,  3,  1, 10])"
            ]
          },
          "metadata": {},
          "execution_count": 642
        }
      ]
    },
    {
      "cell_type": "code",
      "source": [
        "index = np.argsort(b) #Returns the index that would sort the original array\n",
        "index"
      ],
      "metadata": {
        "colab": {
          "base_uri": "https://localhost:8080/"
        },
        "id": "hWuwyfvnAuOa",
        "outputId": "12810e98-4e1a-46ad-d6fb-2a112d6a07c2"
      },
      "execution_count": null,
      "outputs": [
        {
          "output_type": "execute_result",
          "data": {
            "text/plain": [
              "array([3, 2, 0, 1, 4])"
            ]
          },
          "metadata": {},
          "execution_count": 643
        }
      ]
    },
    {
      "cell_type": "code",
      "source": [
        "# Using that index to sort the original array\n",
        "sorted_array_b = [b[elem] for elem in index]\n",
        "sorted_array_b"
      ],
      "metadata": {
        "colab": {
          "base_uri": "https://localhost:8080/"
        },
        "id": "sDrZCM_JA0GD",
        "outputId": "885cd0f5-9c2c-424f-baaa-ec4a5acb0136"
      },
      "execution_count": null,
      "outputs": [
        {
          "output_type": "execute_result",
          "data": {
            "text/plain": [
              "[1, 3, 5, 7, 10]"
            ]
          },
          "metadata": {},
          "execution_count": 644
        }
      ]
    },
    {
      "cell_type": "markdown",
      "source": [
        "## <font color=\"orange\">**11.3) Splitting**</font>\n",
        "\n",
        "**Splitting 1D:**\n",
        "- array_name = array([1,2,3,4])\n",
        "- `np.split(array_name, indices_or_sections = 2)` - Split into 2 equal\n",
        "- `np.split(array_name, indices_or_sections = [1, 3])` - Split at the index\n",
        "\n",
        "**Splitting 2D:**\n",
        "- `np.hsplit(array_name, indices_or_sections = 4)` - Split into 4 equal parts\n",
        "- `np.vsplit(array_name, indices_or_sections = [1, 3])` - Split at the index"
      ],
      "metadata": {
        "id": "YsvDjmv1DwTo"
      }
    },
    {
      "cell_type": "markdown",
      "source": [
        "### <font color=\"morange\">**11.2.1) Splitting  1D**</font>\n"
      ],
      "metadata": {
        "id": "JvyMIvaQeIZB"
      }
    },
    {
      "cell_type": "code",
      "source": [
        "'''\n",
        "Splits the numpy array into given equal parts\n",
        "\n",
        "Number of elements in the array should be divisible by the number of sections\n",
        "'''"
      ],
      "metadata": {
        "colab": {
          "base_uri": "https://localhost:8080/"
        },
        "id": "fOUG4uZLeXK_",
        "outputId": "9ca89ca6-a899-44e4-96dc-7d3d854b6bcf"
      },
      "execution_count": null,
      "outputs": [
        {
          "output_type": "execute_result",
          "data": {
            "text/plain": [
              "'\\nSplits the numpy array into given equal parts\\n\\nNumber of elements in the array should be divisible by the number of sections\\n'"
            ],
            "application/vnd.google.colaboratory.intrinsic+json": {
              "type": "string"
            }
          },
          "metadata": {},
          "execution_count": 645
        }
      ]
    },
    {
      "cell_type": "markdown",
      "source": [
        "![image.png](data:image/png;base64,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)"
      ],
      "metadata": {
        "id": "ZM3bIsrheKda"
      }
    },
    {
      "cell_type": "code",
      "source": [
        "# Version 1:\n",
        "a = np.arange(1,10)\n",
        "print(a)\n",
        "type(a)"
      ],
      "metadata": {
        "colab": {
          "base_uri": "https://localhost:8080/"
        },
        "id": "Ip-76NKgELOH",
        "outputId": "909132d8-8665-499e-b9c7-2adc1838b2db"
      },
      "execution_count": null,
      "outputs": [
        {
          "output_type": "stream",
          "name": "stdout",
          "text": [
            "[1 2 3 4 5 6 7 8 9]\n"
          ]
        },
        {
          "output_type": "execute_result",
          "data": {
            "text/plain": [
              "numpy.ndarray"
            ]
          },
          "metadata": {},
          "execution_count": 646
        }
      ]
    },
    {
      "cell_type": "code",
      "source": [
        "b = np.split(a,3) #split (numpy array a) into 3 equal parts\n",
        "print(b)\n",
        "type(b)"
      ],
      "metadata": {
        "colab": {
          "base_uri": "https://localhost:8080/"
        },
        "id": "cKom_CKIHnFf",
        "outputId": "0efe814e-2bd9-41a8-ef64-7cab82104391"
      },
      "execution_count": null,
      "outputs": [
        {
          "output_type": "stream",
          "name": "stdout",
          "text": [
            "[array([1, 2, 3]), array([4, 5, 6]), array([7, 8, 9])]\n"
          ]
        },
        {
          "output_type": "execute_result",
          "data": {
            "text/plain": [
              "list"
            ]
          },
          "metadata": {},
          "execution_count": 647
        }
      ]
    },
    {
      "cell_type": "code",
      "source": [
        "# Version 2:\n",
        "print(a)"
      ],
      "metadata": {
        "colab": {
          "base_uri": "https://localhost:8080/"
        },
        "id": "HxUnlu4-HvkS",
        "outputId": "5aaa562c-3ddc-467f-c5e8-3aa681f4790d"
      },
      "execution_count": null,
      "outputs": [
        {
          "output_type": "stream",
          "name": "stdout",
          "text": [
            "[1 2 3 4 5 6 7 8 9]\n"
          ]
        }
      ]
    },
    {
      "cell_type": "code",
      "source": [
        "# [ 1 2| 3 4 |5 6 7 |8 |9 ]"
      ],
      "metadata": {
        "id": "MW5VKNWrIgVM"
      },
      "execution_count": null,
      "outputs": []
    },
    {
      "cell_type": "code",
      "source": [
        "d = np.split(a,[2,4,7,8])\n",
        "print(d)"
      ],
      "metadata": {
        "colab": {
          "base_uri": "https://localhost:8080/"
        },
        "id": "CWby-JWHITqS",
        "outputId": "89cdc0ad-2e21-405a-f74c-851aad03ce5d"
      },
      "execution_count": null,
      "outputs": [
        {
          "output_type": "stream",
          "name": "stdout",
          "text": [
            "[array([1, 2]), array([3, 4]), array([5, 6, 7]), array([8]), array([9])]\n"
          ]
        }
      ]
    },
    {
      "cell_type": "markdown",
      "source": [
        "### <font color=\"morange\">**11.2.2) Splitting  2D**</font>\n",
        "\n"
      ],
      "metadata": {
        "id": "ueaSx6Dsd55t"
      }
    },
    {
      "cell_type": "code",
      "source": [
        "'''\n",
        "Splitting in 2D:\n",
        "\n",
        "np.hsplit ---> Splitting the horizontal axis (Column wise splitting)\n",
        "\n",
        "np.vsplit ---> Splitting the vertical axis (Row wise splitting)\n",
        "\n",
        "'''"
      ],
      "metadata": {
        "id": "b6TKR-EUIe6E",
        "colab": {
          "base_uri": "https://localhost:8080/"
        },
        "outputId": "bd4f9631-c4e3-435c-f02f-8b303230fedd"
      },
      "execution_count": null,
      "outputs": [
        {
          "output_type": "execute_result",
          "data": {
            "text/plain": [
              "'\\nSplitting in 2D:\\n\\nnp.hsplit ---> Splitting the horizontal axis (Column wise splitting)\\n\\nnp.vsplit ---> Splitting the vertical axis (Row wise splitting)\\n\\n'"
            ],
            "application/vnd.google.colaboratory.intrinsic+json": {
              "type": "string"
            }
          },
          "metadata": {},
          "execution_count": 651
        }
      ]
    },
    {
      "cell_type": "markdown",
      "source": [
        "![image.png](data:image/png;base64,iVBORw0KGgoAAAANSUhEUgAAAuUAAAH5CAYAAAAmxkCDAAAAAXNSR0IArs4c6QAAAARnQU1BAACxjwv8YQUAAAAJcEhZcwAAEnQAABJ0Ad5mH3gAALdNSURBVHhe7Z0HuB1F+f8HwR+k0JLQCU0IVXoAgVBEmkgHhYCAdCUUkSaIgAjSQYp0BISg0hGkS0eEQGhSgkAgkZZCCwmo/Pnfz9x97527d3fP7rnnnD333O/nefbZvjszOzvznXffmZ3pqzacEEIIIYQQojS+Fs2FEEIIIYQQJSFRLoQQQgghRMlIlAshhBBCCFEyEuVCCCGEEEKUjES5EEIIIYQQJSNRLoQQQgghRMlIlAshhBBCCFEyEuVCCCGEEEKUjES5cDNmzHCPPfaYmzp1arRFCCGEEEI0Ev3Rs0rGjRsXLTnXv39/t/DCC0drzQeie8KECdGac0OGDHGDBg3yy88++6xbZZVV/DKMHTvWrbzyytFaccJ0gWHDhkVLXaEBMHny5Gita5haBYtjUtxIp2aIc1YYWwnLl2n5sUyaJS80G6RLM5athGvo0KGuX79+0ZbaMXHiRB/nvpYXiPf06dOb8v3s7VgZr7TtHchSXiVLL710x3TuuedGW5sTBHkY3gcffDDa49zo0aOjpXbi60Wgsgrvc88990R7ktl11107jj3llFOirfWFwp9w3XTTTX7iCwHhpuFSa0hn4hamN3B/tu+5557RlvJIC2OrYfms2SD/Ea7NNtss2iIM0qXZytarr77ah+uggw6KttQODCSI/cGDB/e5r5Y852Z8P1sByhbStlJ9LJoDifI+zgorrBAttRNfN/FqAjaLyy67LFpqZ+TIkdFSd7AEjRo1Klpz7vTTT694/Z5y/vnn+0pv0003ddtvv72f1l13XV9grb/++j6O9RDncQYMGODnslwIY8EFF4yWRDMzcOBAP5977rn9vJZgIYfhw4fXxQov+iZWtli9I5obifI+zo477uiuuuoqd/jhh/s56yEmXpluvfXWaGt3sEAjrI3zzjuv4ifY733ve9FSO1nX7wkI7X322ccdeOCBbuutt3Y33nije/XVV/2Euw7xBuIYuvnUi3XWWcdNmTLFnXbaadGWTo444gg300wzRWui1bG8cMstt0Rbehc0ZMmvfG3qC2y33Xa+jEh6d3sKjXTywkMPPSRRLmoGZQv5irJGND8S5X0cCv/ddtvNVzLMq60M/va3v0VL7WCBrgSife+9947W2q3l9fhsi/jGis+9rrvuOl+xUgEy4T9PvKkIH3300YZZr+U/LAzlhd5FPX3cyQsS5KLWqIzpPTR9R08ssKFfIb58dFr461//6t588003adIk953vfMd3Vlx11VW7FWi4RIQW2BNOOME98sgj7r777vPWnXnmmcctvvji3n2hSEsytGZiZT7qqKPc7bff7l588UV/XcTdWmut5TbYYIPUFwIfQoTg22+/7X16ORZwIfn2t7/dpfDHgmpg7SXc+IiF53Ie1uf4/czX28BSjDCFePpwbdIBCxhgPTbYh4CF+eabr0t6bbPNNh3X4fPrk08+6ZcrQRxwJzHuvvtut8kmm0Rr6SDeLd6VChzcVrCSk9ZFrQWkz/vvv9+RXuTHMG5rrLFGaiVNGpJ+YXqDhZ3nZY0AS298VklHzjHiaV0JnjfvBeGG8D5x0sIYQpxfeuklN23aNL++xBJL+PyUJh64Zhhm8vkbb7zhlwlL3k5y4XkQpnX8HpWw99WKu2rDRNryjhtZaWvP2cLJ+ssvv9wlP8WPCbdVIu3eWekWJ54XwzDiqrHccsslnmvvxRNPPOEb03wZC11wkvIS+Yiy28JWKR/xzChbi1ilrVP7+PHjO/JrWvztndt8880Tw8C17rzzTr8cf1550p5nSjmdlj+SKJqvIcyTWc+sWkgHDBsWrzz3IJ3GjBnT8QyIU1L9bFC/kY/iciRe/iZh8Y/XBbY9zNthmMh/8UENwrKOMC+77LKp9YvlBXtepNMzzzzT8e4stthihZ59nrhWc4ytJ9WV4fsOpAmdzrOebb3zW58HUd7MtBUGvKUdU1vh32U9nPbee++vpk+fHp3ZTpvY6HJM1vnsy0t4XptY/apNiHbZZhPb2yqJ6Kx2CONVV12VeHw4EXYj3H7SSScVul88DcPrxtPH9oXbkqa2ytIfB1OmTEndVwnCGp6b9xmQBhzPM6+EPfM2wR9tyQ9x4VyeGfeycIZTUr4DS9swvcGeR7g9vF58ypOe3J/rpeULwhjPF5AWRuCaFv/4xH3aGjnRkV1hP+dxv7TwpJ0LnMc7lXSepTXLRfKZnU9eTbt2Vpiynj/XS0pbe86Ek2uH5xjhMUb8fU2b4s8sT7rFCfNiPIw2JZUpafnCphDukRauPPkoD5XyP9eJx9/KhbQyx+IYlhtheoWQPmn5gzDlLXs4Pm+cs/JykbosC55NWpqm3cPSNT5lPWtL6zhp20N4FhzDswmx7czTwhSWi1nHZL07hHHs2LGJ6cS2pLIhCbs/10qCMNg90o4BjiFfGJaG8fQhT1o44xNxjh/P/dPyeFpeEMXpdaK80hQv0OzFzDvlzVxJ56ZNvCQUoEYeQc4UnpO0P22KFwTxNAwrlHj62L5wW9IUpnPW9fMQnstLnwdLQ8R5JUxsUFDFC5pKWIFmc/IH1+M6xNMqxaSC29I2nh6WXuF2tjFZoWfrTHkKdStgCQ/XpdDmXOZ2zaS0TQtjWADbNbkecQ8rr6RK1u7FRF7kWVl4uI5VLEnnElfbT5oTr/h9LVzxdz0LjrdzLUzhc8wKU5gWYZiYW77g/Phz4hj2kX7sZ27nGnZMGBfux/akyZ4X1wvLh7R0C8NIHOJ5lGNsH/PwWfPMrPEbjx/LHGPPxO5nk0EY2c8Upnl4LlMYF4PtYbpkYeVBGH4m7peWX8LnSvhD0soXrsl27hFiaR/em4nrsC9+fBpJ4UwiDHtYJhGPcHtP4Jpcp8g97JnyHIg7x3Me2y2NWI9jeTRO2vYQ0pZjuFeIbQ+fv+VTwkAYbb8dyzH2DONlZ9q7w3WIm+U9K+ssLeLvThocw/HxNDXC55FW79kxhMOwNAzTx44jbCyzz+Js73z4TmblN7t+WrhFMXqlKCcjkXHCFz2cwhfAXrZwspeHjGUZKpziBXQS8XOY7OW2zBtOYYa1woCJ8PMi8AIQbnsp4hk8vJZN9nJwz3g6sG6FSDwNwxc2nj62j3l8n6UbE/c14scRhyLEn0Fe8hR0EBYoTKQv4U8SAnHCsIVxNsJrMw+xdGEeYs8jvh3sftVAvo1XHMA2y3PcOyQtjBYO4pR0TdKC/UnXtO3kwaRnZJUPU3htnofl47QCPrwvYcyLnVM0TCzb800LE9vt2uG54XuXVonaMXniwrUtfcI0D7dXCmM8j4ZhTHvWaQIVLP/E80BI1rtm4eIecdie9xkT7rRyO0yfeDjCPGf5gvKL9aT0sPQK3xc7Pi2sXCMpXZPIuk6I5cmkOHMv25+UrnkI80VWuRemg+WTtHwUXjNeRxBntsdJ2x6SlgdtO1PSe0EYw7o4KX+HaRlPhzA+aXHm+dj+PFh4kq5laWHhSTqGOLAvzOd2Xpg+dlzSs4X4te2eSfkpTKNq85vopC6inBeuqDBLI8z4TBSg8UrVClWbwoIqfDGZkl4eqxjCYyoRHs8Uf+mtgLIpLGjD7byESSIhTngOU7ww5hrxdLAXLp6GYUEaT59wH4T7wjiExK8RLxwrYYWGTfWCcMbTiPTnWaWJBgtbVmFDfkoSvZYu8TS15xHfDna/WpMWlqTtaQI1juXxeGVm56YV+GDxDNPLKrCkyjHE7puWH5PIEyarqMIwcTzbKpUJFp/wvbTnzJSWv+yYPHGxii/+7udNNzs/TIMwjGnPmu12TBzLP2GaFSEr/mnbq8HK+KRwmqjmHWY/ZURSPQMW3vB9sTySJPyKkifOdr+s4+yZEY9qsHchXl6kEeaRrDLD8mr8fSIubI+Ttj0kLQ/a9qw0sGOY0sKd9nwtLzClvd9gdU4eLH3CdxS4Ptt5LhaeeDkQHhNiaRimjz3fPDrN3o88+Y1J9Iyaj75CRzU6XTKxXGvorBDvVGCdDw3ryJFEUqeevfbaK1pqJz7edh7iY3LTUTONtgIpWmofBnDo0KG+MxKdXUgzOlJUIt4ZkjQJx/0G67wh2qHjC5002woZPwwiz4H033333f0PO7Ly64orrhgtdYf8RGdjCDsBlgWdd8hD4fTOO+9EeytDRydoK4RTO2YBHZkhbTg/OkmlYeeG0PkaVl99dT9PI+ncvCy66KLRUneWWWYZP6eToEFeAcqNLOz505EsDvmsUmfkStBZmXKprTLt9u7nTbcRI0b4+euvv+7nIYQx7VmzvU2wRmvVQ0e4eL4M07pWJOX/LOjs1ybOfFmw9NJLu6eeesqdffbZuTuvWT6nMzllOJ09CUO9sHJ9kUUW6RZPm9oaFP6ZEhfWi3LMMcf4OfVSHrgfZOUjsDxaTR1bLQxCkAadQCEr3HTWBQZVSKJNdGe+32gWoBNpJSx9rrzySj83GEQCvvvd7/oOs3D99df7uWFlD4NWVMLus++++1bUHNbBN09+A9ZF9dRclIeipB4CJalCzjP8nmEvYUhPK52klzKrQD/uuOP8OSEUnvQ+RyBSMTCuNpVYEoilJLKEYzOT9EzqiQ2DeOmll/rxW6mQgbS3ERni8EyyKNLLvl4gBqiAaGAQ3nBCMOTFGrWVxK/FmbybRLVClFELsqARWy15hFbYqLeKuFIetTB/9NFHfh7S0x/NMHoCz49K76c//Wm0tTuV0s3Kh6RyeaWVVoqWkulJ/kagIlb5OU48X4YjL/UU0gkRWU3+p8FudQANnyKjn5DPX331VV+mU4ZjkCIMvIs0pmotUhjxBohTPJ7hVAvhm7dhYo0ra/ilQVrF6756Y43tLCrl/yxMdFdi+vTp0VI6pA/5j2cXNuyol8if1F3olfPOO88fEwr93/3udz5t8+RdGvYYpii7TXMw2hG6A5Ge1KhsRH4TdRDlYUXeKLFlf0LLQ5JlBvFrw/lVQ96X0qCgu+uuuzqstUmQwbHWJEHBn0Q4DFpvokzrMoUgFbJZRG0ItDiI9yyyvs40AgQ5YgCL+N13393xcySbKMSLUsm6Xmtr4FxzzeXnlaynxKdR5A0TQ1DWAypdjA5UtjTms6yQlSr9Dz74wM+xeMWp1x9FySP85psyi/Iuni/Jq7WAoVVJJ+JRTf7nfKsDsBIXFdI0WvgKx71o5COswIRMWmO/Guz5JaVn0tSTRmyaYSjOvPPO6+d5yvK0Rny1vPLKK9FS9TTTH3XN0m3DolK2kzfDYRDta5n9H4RygmPiXgNZcCxlxqOPPurzLMY+dAcinXc2btnnHUrKX/GpJ/lN1EGUk3Hs4RTJII2CTz7xgoZxy0NCqzkvBNYOrDC1BDFo1tqvvvrKf/6hMgmtCFl/+YuHhzjF3S8YP7WWfPjhh9FS62Hj1aa19s2lIw2zXtU6zfPCuP1AQ44CG5EQTkUqHWtMm1tEGoxvC2lfbopin1Qr3ff555+PluqPWdmS3FJCzCWkloYI3mlzSbvkkktSrZYm0iqli8WB/NAoyCOIMCp0yrt4vqxk3c+LfcpnTPOi+R/xgcWestca57vuumtVjU7uRR149NFH+/IbwQPh/x56CveATz75pEsc06ashlwaVgdSj+eBsa0hzWBkWGOn6JfprGeR958YvQUs3eRFq88tD4V/wOa5koZoEzCtkOWqkwR5g/uRZ3l3EOm8q7yzdk3GIjfieStpqia/iU7q8kdPezjNCKKLHxAhaikgyPjxT6jWmOAYrI9YO7DCYE2pBVhNeHmYWyFFhcsg/CFZFQnhIeycTziJU2jt56U237NaQdpxLyqxeKMgpKjVsN5i3551FmYVSPty8Ytf/CLVasT1qYxqmeZFBYG5TST5cRPutC8ASfDuEhfyU9pz5prm92j+1D2FT9/cl7S0yiYO27HkNAr7CkYFFbccGWy38PbE3z0OlnGeARbR+E9OQsxqRhjSwohxwfyEK/meV0PalwTzf04ry6wx21OsMZ1kpUsyWBjsMwvkNddc49MZ4wii5Mgjj/TbewKCx8qUtGdTFHt+xCnrmj25n9WBF1xwQWq5R56ycor6y4R22rvLdUy05zXY2ZeqtJ9pUT6F9V6rQPoQL9IY/YHhA0NeCMeQTzmGvED653U3SgNBbcLeXPfC/JZVj1bTiBXdqYsob3YowBG1fFaMV/AUoNapK/6yxztWVAuZm2tjPSEM+HIxUaGEn/bCz1VJmC8YcYlbeLGY1qLFGhep3ItwMrfCOm4dLNrBNAx7XqsrhYN1qqoEfrikE5VFUsHBtSytd9xxRz9PgoZPWCgRf/tsDrVKc7COPVCpQQH2DC666CI/Nwjj5Zdf3i1/VIIGIwKZuBHHsGKmsictuCZWFROFPYW0w62LPEdFZP6N3J8562yv5IpQS6gIsVTxXpJH4vmNdbazn+NqZYwgvggY3odKAoZ7mnUrHkaeG+t06ALCGK/ce4JZ0cIvkLxjtswfAoH4hHkIEFS1amCZu0i8jOae1rhJgn2kG5/v7dmRn0lP8neawAwxI0tSA5Z3l+v0RDCR/08++eQOkR3Pk/H3k2WOp5wO84KVmRxfCepA823mXY8LfJ4nBqs999wz2tIuxikzeEfjZW1YZoR1bCV22GEHPz/llFMS372sPha9GRPG9t4mfVkwgwHHkBd+8pOf+PU8UJam1Yc8W7A6Jcxv1KNp+Y1+FPFnJKqgfRCW5uXVYNghprbCM9rTSdYxLIf72gqNLuvh1FZYdBkWKX5uW0Ed7ekcYo2preKMtnYl6RiG2Qq3p00cH4Yl3Nf2gnZZj09tL1B0VjtF0ifcB/Fzw+nuaEgmwhluT0uPJOLpEaZxFtyD43lmlSA9wudO+nE+U5iW8biD3YdwhtfgvrbMFE9zsLRNS9Ok+9nwU0yEzcLHOVnEw9dWoXaEnYlnxTx+z7QwQlKcw/W0Z2X7s7D7JsWL/BSGPZyuioamZJlj8mLnZ5GVFjxfuwZTPHxJz9+ec1Y4k44J3wnSnH1Jk6WFwfOw8+zccD0rjElxDuF+HBeHYdiS3ovwenau7WfdzrE0Z1uctO1JhHmVOedZWFjnfWA5zG9Z9yYP2vlhuiWll13HJitfwvRPSvskODYeHotX/H2L50nuF5ZnXCesQywNuF5ewjzFeWGcWCfdQ+JlBuEJ1zk/DJNBWNmfRBhPS9vwerwHLIfPFuy5hM8qTp78b8fEn0va9jgW3nj4KmFpnfW87JkyJaUrxO/POxvmEyaOYbJnxX6OC4nnN44Jr8P5aWEQ+Zn5+DbaErTH0Fr6+te/Hq3VBq75v//9z80yyyz+MyDTaqut1q2jEsfFj2EYI8KDT+Of//zn6Ejn7rjjDt8CnDx5ckdHtrbM7z/t0pI3SyfXxLKBtYFP/1gNfvSjH/l9XLct83Xcj+sl9d5OOoZzuRduDgzP9vjjj0dHt9OWsb1vF8M0cqyl6wknnBAd4dxWW23lPyvOMcccXc4njBdeeKG3YBhZaci+Tz/91Ldww32WdsA+hntcYIEFOjqVAPfiU+/888/vj6WF3PbS+32EqVK2snjx+ZrPxgZpk9QRLYRz+Rz+3nvvuT322MN94xvfiPZ0xe7B9fARXW+99bx7x7///W93xRVX+HCShgcccIA788wz3YYbbhid2Xnuvffe648766yzvHUH30nSDEt2W4HkrZhJac65WCFIvzC92c6c5xHfDqQnVpIvv/zSXXfddd6nGb/iNddcM9EKb+cSD+KItW+ppZZyJ554ovvvf//r40b4SK+ke6aFEbgmX3N4B/7v//7Ph4d3xvKoWbEgPM/y/cYbb+zXk7D7YonnPuH5zDmX95H3YMstt3THHnusvyefUjmX5Ur3qDZMSWnBur0HPH8ssm0VWEfeCYeOs/OYk+ZJ5UPaMazbNsKb9eWFznU8bwsjYSB+vA9586jdy+KcxrvvvuvzlaWfnU/47L2gfJh55pl9mmDFowM+x3DO2muv7dOuTbT5d2+XXXbxVmr8ZHk2YfwtPuH2NOx48hDhwDLPaDd8ZbCwYMXDDSLMb1hu24SYT2PKVrunwTplNGnDl7/ll1/exzWeXqwzqg15lWNIIzqFE0feG9Ie9yPikUZanG074X7zzTd9XOacc86OYy1PYr209xMXMOqpQw45xO2///4dx3ItLJ7PPPOMO+qoozKHKw3DQ56yZ0ee53zyFGXSqaee6vvQhMeHZcZCCy3UpczgeROmME/buWn5C4gnZSJzrLWEw8JAffHFF18kliXx9zkJjq2U/+2Y+HOJb0/D4mbhS8OuaxB2pp122in1ec0+++z+mvvtt183tzS7XtL9f/jDH/q0pkwg/LgHka4MuUiakkfCtIR4fuPrE/mN542rV5jfRPXMhDKPllsSPi2GnWwQjrX6xNxIcG8xTBQ1E3zyCj9F02Eqyw/W4DManzQNKqUsIdJo+NxLBd/ir0mvAjcBKpjzzjuv29j8QgghRG+lT/qUi9oT/1mSjQaSBZaMUJBjfW8mQS4aD41oGkLkjSTYbn6ktfJlF0IIIZoBiXJRE3D1wYJv8AksTVgZo0ePjpbaCd0hRN/EOjjy2RZxjkjHMs7EPsbP5RM2VvLe+MVLCCGESEOiXNQMfPND4qI7BMFOL30DQS+RJfBBxdcXf23EOa5nuKowmXsU++W2IoQQotVoeZ9yxB+dOg06oPRGF4lwWDw6UPV0PNJ6QQcq/MKNNKHdW56LxUcNhsZjac8Y2HRqJN/rOQghhGhVWl6UCyGEEEII0ezIfUUIIYQQQoiSkSgXQgghhBCiZCTKhRBCCCGEKBmJciGEEEIIIUpGolwIIYQQQoiSkSgXQgghhBCiZCTKhRBCCCGEKBmJciGEEEIIIUpGolwIIYQQQoiSkSgXQgghhBCiZCTKhRBCCCGEKBmJciGEEEIIIUpGolwIIYQQQoiSkSgXQgghhBCiZCTKhRBCCCGEKBmJciGEEEIIIUpmpk8/+99X0bIQQgghhBCiRgzsP3O0VBlZyoUQQgghhCgZiXIhhBBCCCFKRqJcCCGEEEKIkpEoF0IIIYQQomQkyoUQQgghhCgZiXIhhBBCCCFKRqJcCCGEEEKIkpEoF0IIIYQQomQkyoUQQgghhCgZ/dFT9Jh//es1t9BCC7t+/fpFW0S9+HDqVDdl6pRorR3SnfTv7cyYMcP9+98To7VOllxyqWgpGc4ZNGiw8p8QQoimo8gfPVtalN9//73us2nTojXnFlt8cbfiiitHa80DYuTee+6K1joZMHCg22ijjaO1bBBriwyd1y8fd/yJ7rDDf+6X6wli6Dcn/8pddeUV7pCfHuZO/PUp0R5RL9Zfby33zNNjorVOxj73ckXx2uwc+4uj3DlnnxGtdXLvfQ+7tb61drTWleeff9at863V3aqrre7OO/+ipny/hRBC9F0kyiNmHzBLtNROswpHLM2rrLRstNaVtucTLWUTXiNvPDkHqrG0IshH7rxDF4GYN6zNDPGikQTNaP23PM0zNuacc0631177ubkHDYq2pEPcXnvtVbfUUkvXNW6hRT9vOtKIfvCB+6M11xbOce6O229z146+3m219bbR1q7EhfzFl/zejdzlh9GaEEIIUS5FRHlL+5RjPesNlCH8EJ+IeKaLLjw/2pqPJEGOcOrNPPH3x91OP9jOLTNssY50mXfI7O6M03/TIdKbCRpdNvFVJI8gx6r8oz128ZZlnmE9oKGHUOarTZiOow7Yt2I68lUojNfIkZXF9e577OW2+N5W0Zpz++37Iy/uhRBCiN5GS4vyhx5+wn/Wb3awJGJltqkacF0grnzqP/TQI6Kt6VQrNDnvZ4ce1CHIafi8Mm58qiWzN4BA3fg763mrLPHB/Wf3Pfb0+044/lh38kkn+OXeClZrGheIceJYTxDhZrkmHZkAFycaBLWGfP/7K6/teF6wzVabd3wFEkIIIXoLVYtyhAwVH1NodWP5tltv9la5uPBj3c5hsv2IBiyVSefUg6wwxuFYwsbxFmbmWOMIt8FyGDeD8zk23FZL4vccMs88brY6Wt7xfQ+F3ejrbsjl+mLpZmnJPEy/OGF6hs8oLf0NO4cphGPT8pit4xJCQw7L8/kXXNLRoENkxs/pLZAO22zzXd+4oMERur3UCwQyjUvSkemDyZ/67eSbsKyoFXxpOv2M33YR5lddeXm0JIQQQvQOqhbl4Wd+lqn8L774d355l5E7eqscn63DShhBZ+cwXXD+Of4cPnVjqbRz6ukyMPraP3QJ42abbpgoFLg/n+E5lrBxPGHmeOZY484667ToaOeXw7ghPPlkz/kcyzY66XH/WkGah/e0Kcuyi5glbOEnfnx32RZOaeLpzDNPjZbaXVYqCXLSkWds6WZpyZznHoYjJHR/sPggqMP05xiEtsGyncNEPLg/aR7mMa4RCvrBgwb7Ob7ZIVhhTejVQ0w2gunTP/NfNc4461x3190PuOHD14z21I+55+7qSoNoNov502Oe8vNawz1+fvQvo7X2hlRvfWZCCCH6JjVzX8EyddihB0VrneB7nAbWu6Rz2H711b+P1moHFTU+pyEIlqQw0mAIO5AZoR91FghPPtmHcC73D4Vko0HMErYw3bFgsi2cbk9wc6ARELqtbLzJZn45i8cff9Tfi/MQZgh5OuOZ2CU8SeKJ40I/dcQ7gprrcG87v/+A/n4OSy+9jD8HAWog6O2Zcw7+xwsssGCXrwn4Y5tlN84LLzzv5ybcexuMRkLc9tvvJw3pu8C98AePM378m37OCEj1ggaiiX946MEHoiUhhBCi+alalONHfMttd0Zr7YIXqBQRXQYiylwJEHFJPt4m1sJP6wi5eolXRFs8jHFhSMPAIJ58gifs4Xkh+HGH6WFwPHELO6Nhsc1y3ciL+ZEzJd27Jyww/wLRUicv/fPFaMm5LbfcOpfIo/Mefu6kH6IX33NGx8A9xJ53kvWU48xPHUs+4h0x/tjfx3gXE85HAIZD4CGuOceGkcSqT75EjJNfOeePf7rJT3nCjqWdvMGzy9ORUiTDe2wN1HoPWbjuuutHS869/PI/oyUhhBCi+alalGOVWnTRxaK1dhDXCC9El1kyQxBC8bGUEcgm1rCwhefdcUftO6UhkrEaxsOY5S5z6SUXuptvusGL0jXWXMuLTIT2jt/fKTqiXRDG04PjuA9xu/DCy7yoNB555KFoqWeQnkzxe6eBkGUKG0eIY9tukwniNIYNWyZaqgxjTH/elr40zmyiEbTFFp0NlSzMhx3/9SKiDkHNM8bfOI/fewhCki8G8OuTOl12RDF4zkceeahf5n2oN/SpMGjMCSGEEL2FmrmvwAGjDomWuvuVphH/Oc4mm2weLdWHbbfrdFXJCmNotUcU4gKBSMNXGUv3U0/9w4/1nEX4wxNE+3rrbRCtOTct+KlRK4Moiw+Rx4SvvYm1PNCYKiqsAT/jom4bCHKeMfAFIt6QFPng2dvQmTS+034AVEvCPBJ2SBZCCCGanZqJcqzA1fisVnNOteCGkPd+Rx9zXBf/1Di4RWQN8RZaxZP4dFr7iBStDsMnklakh7kpxV2V8sAXiqJwz6JCPrTsIiTz/lFVdCUuyPk61Qi4rxG6jAkhhBDNTs1EeWgFLsIrr3T1MccCXQn8sRnJhL8bMqWN4BFnqaWGRUuVee7ZsW6VVdvH4MbVAyGJuAgreixxab7hiBHzpQfcY8LP6Uk+22WR9Jk/KV789t8YN+6VaCkd4m/Wyltu+WuHm5K5Kl1+Rf6RaKqxVuP3XoQ0IYlvOSO/ZMHzNdecLFeo3gh5weKWh7R05D2tdyfnyZMmRUvF3nchhBCibKoW5QiPt94aH621VdwfTu0QcsxZNzguTbzSgQ/RQ4XP0HnhiCcbbLhRtNQVft9NhW+Ev+YO4Z7VhhH3BcKGuKCip5Mq4oIflYRMnzE9WurOXnv+0IsQBB2jgISf01dbfXi01FXQxYVPuD0u9giv7YvHM+s8CEcTIVwIJo5l+EAaPLibhOkByyzT/ht/oCNsJfFpXyWwWMc7SnLtc84+3S/Xy5WniN97mpBkO25L1//5j349jcMPO7jDNYehP1sFnnHoekQeySItHYH3ydyC6kXYD6URwz8KIYQQtWKmTz/731fRciHwEw4FNCC+GBmD8bnjwwFiYWbUC8C6XQnroJfkboIwQCAYuEIkDcOWFUZ+qR73OeWejNABecIYxgni4UojLlaSwplEPJ6I57BxkgZW/qSOm0lpEII/ddx9IzwHP286smZhYcR1ZZNNN3f9+w/wDYDR117dJezca+211/XPGyHIUIqftYl162xJHAws9nZsCIKQkVzefe9dP3oP6RUKs3nnnS/RrzkUkuSPn/3syGiP63KtpDxmhPmFryvV+L/nwe5DZ9w8hGkJfIkir5EH7WvNcsuvkPolIszTpA1jnae5gNHQ4kdFSekI9izzhp3GOuek5d848fevns9BCCGEyMPA/jNHS5WpaUdPE1mTJ0/285B3330nWupKkt8n29IEeRLxn75kYWFMCk9SuNMgjGe2CZsskuKGOA0FeU8IRW0WaZZowo94SgLRhvCNc8ghnb7gecZcP/XUs/w9sKwzzjiiCZHLWOG4BdkIOFhRcRkCRCTrJuKAZZvCY0MuuvB8v5/rA+IzPC/NSouQt7RkHp5j18oitB4j3ptJCNLgsLRkssYf8erc1v7FIolwGExEdtY7yYhCaenIBGn5rafQ+ODLlNFsz0EIIYSoRFWWcirAqVOn+HkIFTYVIUIgad+gQYP9PLQqIsz46+D4N9t/LoJbR1iZcp0kIYBLCOekWU17GkbE5gcfvO+tq0MXWaTLWNr8AIWRV+yeFsa4pY6xuRGPXIdwrrrKal3cOOw8LIy45FSCYwm7nZcUhyRwVeFnORbeEO79zNinOyypxJef8Fg47V4h8S8hDHUXt0CH58XvgWWWeNh+E7XhcyduWYTnF0nH0CJc5DyOs/DF0wTLP8IXktKiJ8TvlddSbucxr5SWFrf4vYC/69qY/W9P+KCbGxJUcy9Iul9IkqU86Rzu+ZuTf9UlT8pKLoQQohkoYimv2n2lJ8RFeasMORcX5Xk/0/c2EEHm7mHkcWVpVegLgeU57s5UD4q6r/QUa4DFXa4aQR73FRrnB47av0terHXDSAghhKiWphXlWJ/piBX6T+O+wHjhdOrszcPPISDuuefOLtY6PqEDPxmq958MG02SMG/VRkglrE9Akg9+rTFRbnnL4I+ySVbsnmL3a0TjmU7G4V84GRWI/gtZojzeH0OCXAghRDPRtKLcLF9JVOpI1+xkddbM21Gtt4ErAaPKEO++bCk3VypG6Mlyx6gFaZ1z6yWaeWfTOsjWmrR3KEtok/b0VeArBX9ebZWvbkIIIVqDphXlVKBpQ8vxy/XebOFCvKSNsb7/j0e1tH8rVnP574qyoE9AWp8JIYQQokya3qdcCCGEEEKIVqeIKK/pkIhCCCGEEEKI4kiUCyGEEEIIUTIS5UIIIYQQQpSMRLkQQgghhBAlI1EuhBBCCCFEyUiUCyGEEEIIUTIS5UIIIYQQQpSMRLkQQgghhBAlI1EuhBBCCCFEyUiUCyGEEEIIUTK99jf7t916s3vqqX9Ea53s+P2d3IorrhytiaI88ffH3TXXXOkO+enhbskll4q2dufii3/nJk54O1rrZP8fj3ILLbRwtNaVD6dOdWeddVq01smcc87pDjv859Fa+Yy+9g/u5Zf/Ga11khW3aukN+fhf/3rNXXXl5dFaJ8suu7wbucsPo7Xu3H//ve7BB+6P1jrZYout3FrfWjta684Zp//GzT7HnG6//X4SbRG9DfL16NF/cBdeeJmbe9CgaGtXZsyY4U4+6YRorSsn/vqUaKk71ebHRkM+/vjjj6O1Tg499IjUNGkkvaU8rqau6Une+sUxR7ozzzq35mW96LsU+c1+rxXl66+3lnvm6THRWieP/X2MRHkVWCF2ztln+PVbbrvTbbTRxn45DsfOO2T2aK0rb0/4ILXCQaRts9Xm0VonW3xvK/fHP90UrZVPWt4a+9zLmQ2Vaph9wCzRUleaKR8jsHYZuWO01skhPz0ss4I79hdHdeSnkGtHX++22nrbaK07ow7Yt010XeHOaKsYJcx7F//+90T3m5N/5Z8fvDJufKq4QQCtstKy0Vonq662unvo4Seite7QaN5v3x9Fa500U35B8C4ydN5orStZZWQjSSuPd99jT3f+BZdEa+WTVkZmlcdpeQvaNE+01J3nn3/WrfOt1X0ePPXUszKNB0LkpYgor7n7CgUmosbg5WCdzF4rKPAQTRQevGDhJEFeHET24Ycd7AUUhRGCME2QAxUvHHf8id3SP6uyef+99/z83vse7nJOliAnbIhChBqF804/2M5boMhX9QJBEIaPfAaDBw3281pBPoae5GPSB/HLO2bPpdYgoMOw0WADLJNZINjD8xDxsNzyK/h5Gqef8VufJocdepAvT0TvgPw3cucdvCDn+SGasqyNL/3zRT+nkRbmkyxBDvYVi+uH56UJct4Rygzek7QJa2wtoRwMw8ZkNIMgBytDKe/DcFYS5Dxn3ksrk0m/WtbvccKwMWHEgay8hVgPzyGvgJVBaVDuUj+hL4488tCOMlqIRlFTUU4GxoLxzW+uGG1x/jMjGXzw4CHRlp4zZeoUP19sscX9XFSPCXKrSO+6+4GKgtAq02HDlvHzvFhlOmSeefy8EuSnzTbd0FtpzfJ2x+23uROOP9ZbQepZEYTYvWtdmdYiH9vXDd6xKVMmR1vrizWu5pt/fj/Py2uvjfPzSp+F+/Xr50488RTfQKQ8UcXY/FCOIMjJh1isaVhV+qr07nvv+vliixfL/w8//KCf5/1q9dyzY32ZwXuSNr1Q57LEBHAlUdhIzCWkSN1sDS/eSysXST+sy7g+1hvyGXUAZQPlRF4mT5rk5wsPXcTPs8A6fvElv/d5+c/X/zHaKkRjqKkov/POO/x811338HMqU15YCqJa+mdVKwpFd26+6YYOQU5Fmqega1Rl+szYp33BSP7BmvPB5E/9p18s9HDP3e0W23pSz8q0p/kY6x7vl1HLhm8W1rhadNHF/DwvRSpTGkA/+9mRftnKFdG80Dg0QY7FOs8zrkYUUqdwH8qrvHzwwft+zhee0HpKeWJWV/rQ1BMThZW+LjUSKzuK1M1hw4uymDTkSwecc053V7VaY18D11tvAz/Pi+WBvHXPttvt4MsqvtbJKCAaSY9FOS8JwoXp4osv8NuwhLJ++eUX+3UKInuZakE1opAXCxHDZ35zg8AtAtI+X4afPG0/18EXL/x0R+vdYL+dw2TWA/vkx30JQ9Jnea4TDyPrbCcs3NOI38cmK0AIY3xf3LJMmLB4UPhgmcxreWhUZWoWWToGYr0nfIi1bbbdwW8fM+YpP68n9axMx417xc8ruXMkQb6gwgjTs5YN3yyKNq7AGjdFKtMRI9b389tua39PmwHeGd5F3k8m3knKEd5R3tf4e8328B20Mof3ISwPuGYI72p4nr27zK2MCMuwEK7NMRbG8DiuxT4jfh+bDM6L74uX5ZRxCDwE7m67dff1TqMaUVjN1yXrSL3MMl19jO+95y7fUKTBXSQvV4OJwqJfl+qF1RNFymPyCmU4RhEaXpTFlMnWP4S0rDdvvTXez4uWx5YH8hoSiNfIXXbzy6++2l5OC9EIeiTKKYyXGbaYdyVg4oUFW+eTISD8OK5Wn7fsU2NeUegrxmOP8iLGwkgBglsEFRSVQ1Lv7r/85Va/j4l7Uhlts813feeY8NMdn0cNXmA7h4nCmIqN+JMO3JcwsBwHN5J4GFm/4PxzOtLSiN+HycQSjH1mTLf9/fsPiPa2c93odgGBRbKIawbXgnpXpmusuZa3bq208irRlnamT//Mz5daapif15N6Vqbjx7/p50V91XmPyBfWmIIilWtP4F0if5qFMS/VVKbkSe7TiMo+DwgZLIXhu0g5QDnCO5oUzqlt+T58B2mI8fzoBBiWB1wzFLuT2hqD4XlAWYWbgJURnMsIJyE8H8oojjE4jjAiqLnWp590jggy/s03u9yH6cMPOy2DXD/cRxnTv1//aG87ZiH99Umn5m7YW1yLfoGq5usSo3TwpS0sr3iW1nmZ0VDqTVFRWG8mTGyv775ZoA8WeRIYGSnE6nX7gllPzFCzxBLf8PO85HWdC1kpShurA4RoBD0S5f0H9PeFaliw2rpV2ogF1nlhl166Nu4mJojzvmBUmOaiYZ1aGBWAcFnllSQW6HBkHUQmT57c5dMd1+EaiMawhzbLXN8+6d1zz52+8EdA4afGOZzLFEKFmxRG0s1EQCho7T6WznxKJLwmrhnSyp4L9+XY0BpEpcR1CdfGm2wWba2MVaZFRWA1lSnhpcNpWNEjOk4+6Vd+GQt6valnZWr5uEiDiApw4++s55/b6Otu6GjsFKlce4I9/6INomorU7uPWdrLwhr2vP+8k7ybvFO8q7wL9o7GG2+UURxH5zGgIWbPz8oRyhjmYXlGvuc8e4cvaSsfKKt43ylzuD/XZOi2EBr2hJHzrBzh+qwjqiF8B7FyUnYAYeL4sKPf76+8tqOM4b5hGQM8F0Q/aVDE2mz9H/L4+IZU85WUdI33k7GhACmni7x/1WIGkyKisJ7QGIMF5l/Az/Ow6iqr+Tn5EEMTz56vPZafN9m0+0gutaZovyTg3SWPEsa8jUaweyQNWStEveiRKKegY4SF3ffYy69TybAeDpOGnzLriMRaFH5FLSyIGBOfWBWtcKZwxIJipFlCzX3BLFpUhHy64zpcI22UEnuREV7cGwHFGLpWQYSVBJ8FKeg47udH/7JLGPfaaz+/DEmCdqut2j8d4n8dQryphKlQ8Y+LY5/k+ERXpKCyyrSoCKzWDz2EwhXRwbPg+TdiuKp6VabVWAo5hwoQLr/iDz5M1tgpUrn2BLvf8OFr+nleqqlMm4mw78UBow7pyA+8q9aHBtIab2+88bqfh+WBlSOI2bA8CDELn90bkUyZw/3J/2G+RChxHO/80ccc13FNrs+490b8HaRc5tqUb+YmYxBve9+Syron/9E+Usq223UfMjOLakQhFP1KmgRikrKR51DEIFEtlFukLc+lSFlbT6pxnSOfYOABDE18DbcvvuTntDxcS6pxnbOytqgfuhBlUJOOnrfcfIOfW6FNwU5BjkivdSFU1MJyxx3tn5QZczTeKKBCo2CGSpUpIMjzCkGrTCmIGdEkrDzjWIfF/fY7oNtxVmFCkqBdf4MN/fzmm9ot80AlwHBOkPZJ2eL1rYLCtqzKFMt+OEoMoqPe1LMynfB2++fjvPmYioUvNUA+tEqpJ37p1dCoTr6GuVIUPa/WWH+ZfRM6MYbuVWnvuTVKTJBnlQchlKNAnq/UEdtcWY4+5pfdjgsF09CFu+c5E9V/j1wRAPGK6CLMaS4eFq+4v3Ylqs23vP+QN/2S4OcwQJ1Q6/c6CROFjXC3y0s1rnNYxU2E00gL3VUuuvD8aKl+UAdQHlt9mBdznStqSDA3yXr0JxIijapFOe4W1vHHPt0y/CHr5l6AEGM9qVNjtRQVhfbJdugi3SsiE11QqTKlACpimbXK9JBDDqtY8OO7DvhQJ2EVUVJlSrgRjRxDoQW46xAvrBppYsbiFfczr0QZlSmVGn6yXIPKIO8oMT2lnpVp0dEAfnZoZ18DrOXWic/ePaxWrFuHvnrRk06+5NOi8Myt4VwW5ANL+yRroOWTrMabNUrov5H3HQhddviCVinPW5mz1FJL+3mIlQ2Q9MXSXBNGX3u1n8M5Z5/u57887sTEc6DaL0nWSbuIKLR0LvJ1KQ7vB+mEsGvElzaoVhTWEyuP055rHL68WgMN1yn7+s3oK0A9a8+nXlQ7hKy5zs0773x+nhfTGs3SOVf0DaoW5bhb8CKa6AVbt8qBF5/1d96p3ctqbiFFReGghML/tdde9fM8lamN+JEHq0wpwPIU/FbhJ4UhrJjTCtDQhYWvFAg14pTkttJTGl2ZUhmEvvzmGkW60KiqJ/WsTIv6qq+++nCffvEJyGe2vlrbcfXE3vciIswqU+JQBHOl2HLLrf28LCyfpTUOzKUnrfEWNv5tRJk8WP7juVZK71AQJZUj5q5meSaOfZEjnKS7ucJwfJqLHli8ikIdQXrmFYVQrR+6wXM488xT/XK9h0AMsTK8qCisFxaetLyQxKOPPuTn551/UZe8SF6z67zySnv/q3pRTb8kMANUkmEuC/qDQdGvQEL0hKpFOR2CaCVTsDKxzoRwAj6x2zZa1LWiaC9qs86FI6QABfSBo/b3y5UqU65R5PO5Vaa4o+QhrVDj/matyipAQxcWi1ORkRCK0MjKlGEdsQrzDOhkZn/sw88Vy/Djjz/q15PAMmhfcsIh4IqQtzLlOYXDZ+axGBXNx7xD1l/DJuvLga+kbcu6Hl+sLIyh5TQvFq+in4+rrUyv/3P7jzvWXTdbyIbPutq4ZWHvPvkw/mxZN6GX1nizc3iHi7w34ZCgleC5W6MhKYzmzpb1DpoLC+lundPrMTKJvVdFfXyrdZ0zrr66/Ycw1FF5y3PCavmK8qga7OtSJVFY73xsVDPMq33NjX9Zpewzw5V9bUmCPGjxqvZrXrWuc9UYEnjuNEqp+yudR3wsbrX0ChB9kx75lCN0KeTsJx+8oHz+JCPX69OgicK8gnPDb3/Hz6+55soOyxtzG6UAEEhJBaBVbkXdF4qONGGFI6IayzBYGO0zIwVfWiFNoUGacyxxynJbMaxyNr+5PDSyMkVIM/Qkz5oGXmitM8tHlpX5kUce8oUxk/mzFyVvZRr+MZDnlPRVJoT3pGg+TqJo5crnZ0sTs14XoZGdfMlrhJM0qlSW8HMhixfvchHhmxdriDCMKGHjGYZfcYCvH2yP06jOsfZe4t8bhvE3J/+qI4y8C2nliIkq0hGy3FYMMxbEGwJZVDv2f7VfSYH0sM7039+xs9NrJegvZXmLYWarwdKzkrhrRD6GaoZ5ta9VpIflcZ651aO8H1nhfXrMUx1xs+dYFCvHk9w407C8XtSQgCsu7LPvj/08DdKCBqzFrejoUkLE6ZEot/Fp7ZMslkte0JEjf+jXa001opACmIIYwcoYv/jdMmcdsUelgkBi3GC7vv0YCGss8LKZDy8TP+6Iw8tvP/2xzjCh7y9TmoUANxMKDcJk51gYEdhYdkjXMIxxzIUFcZ7HbcXGYA07dlWiUZUp6UQFCsQ7no48D8hqeJjvO1T7G3u7T6XK1D7tAkKmktA2AVO0cWNY/iRdgPzGepYlL55vio6NDo3q5EtFF3bGq0T4cyG+ENUDfLopR2h8US7MO2T2jvSnHOG9I7+wHYiDlQc2HjZz1m2K/zAIeE623/Kf9RewKe05M5oUYeS8MIxW1lnDnXIkSUQjqky8UC5mua0YVhYUcV2wTuZFfXWLfl0KMZFV9J8M1iESin7pgSKisBH5GIq6zgHum5b/yVfkQ/69QX4ibvTzySIsj6t1P+JeUOT5VeOHTkOWd4j3Ze211422JhN+geedaVQ/BdG6zPTpZ//7KlrODRUOwoNKBxcNhvoDrJsP/O0+P2xXrVwn7F5AZYT1FKFq90wjPI8K6PY24U3Y3n33Hd/qZ0xVOm1RaGKhwO+doc6AjpIff9z5g404WLzsL2bAvfhJSKUe6AxLFnYUC8PIMp9X84YxTF/20xESAcuYxEliNbwXsG4CgnGK0wq68DzrfY8rSaUKOzyPPwrS8MHdKQxDEpzHn/YqWVMQA5YH4nED8sqDD9zvl3HzyJMmIaQp4oUKJxy3GcLz7DhIOtYIz7F8zBjJYT5KIimMiLmk/IkoM8ESP49w2tjMVIrmChSSlR7AfamU43ms0nlU4IArW0jSeWyzL0RUcrjkhMTPQcRa45nO2LV0lYPwfpQjWMr5lL/AAgv6r3Dfa6u4SXPCwXOdfeDsPl+G6Z0GbilhJc696Odibjtp4FISvq/xMFpZB4SREZYoR2wfPw8indLSEvF1yy1/TSwT0s5BwPzxTzdFW7sTnsdnfkRPWlkVEp5HPiJsjJWeRTyMQF31zW+umPp+QtJ51Gn2xSye7kbSeQZfPDGwYFgJ37n4OXYc1DsfkxbUFXnLYzvG8j/9iijPeebkL/7iGl4nKT0wtFiZXk15zL1pBOQpE0K4L43heFmbdk74HJLyZ/w8KxOBDrDVNBhF6zOw/8zRUmWqEuVlYaIQq49apJ1gOUXE5GmshFDhYJHOWwkUqUxD8lamzYQVzpXSxgQ25E2X3pqPrXGV1YiLk1WZxqHCC4e9zDPKjuXhLCEpKkPa/2iPXfzzzdPoDrFyIW/5Y6Iw3kjLwsR/nnzUTKSJwjiNysc8Z4wxlRpRzUZa46YSaYaEJLCQ29evPO9AaJApWveKvkURUd4j95VGYz6Wz7W9oBR2TIgiCpq+CPE2QY6IKTraChYOKgEKLSqFSliHHnxk86Y/lSlgWbRzmChkmwnCGYbPrJWVPlnb+PBFOo/1hnxMWAhTmCYINvJLlmCgogrPwTILlT5ZUyFutumGHXk5zxCAYEP4FXVLEJ3QcDJBTiO0iCAHc5uhoclzzIJ8hSCHMJ9UOs86zzNufXielS/NAvEIw2cjeFRy3WtUPuZZG2E4my0d08rjPMI6PC/PaGGUWYh3E+QI7DzvgP2wj7xfj5HORN+kV1nKzcISp69Zzils+BSIdQqwevC77Wo+nVFIW2e1Sulobghxsj7bhZbkEAqyZrKcp8WtkoUF6zEdgfmZUR4RCdXeq5GQx8wXOqSSpdKs6XEqWZ4sTRCFuGjlSUvLu7h61fpzf1+Ahjj+/jSEIO/XiSTCciQrHyO2zN0oTpblPC0/1sPVo1pIA74KJZH1damR+TitPG42y3k1ZWRa3qpU11je4jiGfEz6F0ESvD+4ifGzrrzniL5Jy7qvUKB8Nm1atNbOgIEDfWeMaiqS3krYOCkiYtKgUqB3PL+czroOhVcchgvMEvJYIRgJJQ6Wo2YRoJCWt4paDfPQG/Kx5Yk4jIOe1fjDUmWjOxh54kaa0PGsmfJEKxOKaKjF53euSYfPrHcGSzl9RuIwMk+WsEFw2Sg2IZXyYyNJi1ulMrKRpL3XrVAep6V/pbhZvu1rOkI0jpYV5aIdhC69yiVghBDVQjkyfcZ0dU4TQog6IlEuhBBCCCFEybRsR08hhBBCCCFaEYlyIYQQQgghSkaiXAghhBBCiJKRKBdCCCGEEKJkJMqFEEIIIYQoGYlyIYQQQgghSkaiXAghhBBCiJKRKBdCCCGEEKJkJMqFEEIIIYQoGf3Rs4HMmDHDPf74o27ttdd1/fr1i7Z251//es299M8Xo7V2BgwcmHke137u2bHugw/ej7a0s9jii7sVV1w5Wuu9PPH3x7vFbd5553NrfWvtaK1c7Nl+Nm1atKWd5ZZfwS255FLRWu+k2rjxG/dHHnkoWutkxIj13dyDBkVr3Xn++Wf9vEi+TQtjq+R/IYQQvRP9Zr8JQVQeeeSh7pmnx7jH/j4mVSggLuYdMnu01pVXxo13Cy20cLTWlfvvv9dts9Xm0Vonq662unvo4Seitd4JjZRVVlo2WutKW/6Nlspl9LV/cPvt+6NorZPjjj/RHXb4z6O13kla3jrkp4e5E399SrTWnWN/cZQ75+wzorVOrh19vdtq622jte7MPmAWP7/3vodzN7rSwrjF97Zyf/zTTdGaEEII0VgkypuMiy/+nTvs0IP8MiLtgFGHpFq8TYDuvseebpNNOkVGJauwicIzzjrXLTD/AtHW/JZaszQuuuhihSy7Zg2tZP3sCYTt3nvuitace/e9d316VhKFjcQEaDz9V1t9eGpDqidgTR7/5pt+mbwxdJFF6nIf+Pe/J7qnxzwVrTk3btwr7oTjj/Vx3W+/n0RbuxOGEUaP/oO74/bbMhulQAN24++s55crHWvErfLNmEeEEEL0PSTKmwgT5FisTz31rIqWv9tuvdntMnLHitbEOCYKxz73cmF3idCKn/e+COWbb7qhwzpczX2rBbG3zrdWrygKG8n6663l06/elnvifuCo/f294hSxLPeEavPoqAP2dVddeUXmFx/DhDnvzV13P5Dp7pWEWc6LhlEIIYSoJUVEuTp61hGEhQny0dfdkEswYeEDfGGL8PDDD/p5EWGMVX6nH2znxY+JPKyulUCUbbbphl3cNeplpU3CrK+hRbpMaKCQfrhK1BsT5Nzr4kt+70Un1mDgORKWeoOlHPgKUwQEOeTJK7wrxIu40leiKORtyJOfhRBCiGagZqKcShCxhsUWKxWfvIFlxGkctnE8k1WggKjgHCzM1uHLsH12Hp+sDe6HCweT3TsO25PCyH3CMMbvw8S6wX3DfUxxMcQ61mc47/yLcovWiRPe9vPBg4f4eR4ID+IFl5e8kE64yeBOgPgxQTlknnn8PA2snVhJuR+uOECjo6glsyc89dQ//LyoKKwXlo9WX324n9cL8pQJcvykR+7yQ28Fxj3Dnl9a3q8lYyJXlsGDBvt5Hixc1oDIw47f38nP77jjNj8vgr1HuPUIIYQQvYGaiHIENAIPsYYLBZ+Nlxm2mBfbLMcrVSporHocz3TVlZd7wcF16OTIOViYcVEIRQY+z+yz8/AhZT/WXu6H5ZZp5M47RGd0wrU5Jh5GxDj3CcMYvw8T69YIOOus07rsY4pb866++vdeQOFiUWT0B+sYV8TyPGXqFD9fbLH81vX55p/fCzlcHhB17777jt+ex9KOsMIFYZtt29N5vfU28PNG8dpr4/y8kdb5LGyknGHDlvHzevF52zvCMxs58ofRlk6GDMnfiOspNORoiBXpQzBlymQ/X3hofpFs7429E0Wo5j0SQgghyqTHohwLMgIasJzectudXoiCjZix7LLL+7lBRYkPMscahx92cJfrcA3mgwJrHEMCcp5dHxDgJhL4nM85++13QLS3HXMjAfYjRLkG51iHsjnnnNPPYdVVVvMdzAzuyWQiZP8fj/LXAQQq+0LXFBoYo6+92i/vtlv3ETnSqMaaCNWIwo022thbWwm3WdrN2prF+Rdc4kU8z/Ctt8b7bcOHr+nnjcKedyOt81lU63JUFPIfzyzuI03jt4hrSE+wr1pFG2LVuhzZuxB+FauEHVvky5EQQghRNj0S5WYJB4QpQ78h9uh8FwpurLJxsMgO6D/AL2PVQlQglD+Y/Km/DtdgHgovljnPPk1joUZMci+G/eNzPucwNxC65kaCGGc/QpTr0/HSCAUt4gcrnVXq06d/1s2CzOgTCMNDDz2i2z6s5mYlLyIcq7EmQk9FoVnai7pfvP/ee37eSL/dakVhPanG5ahWkL/32rM9v+NfXu+GyuRJk/w83tCuRLV+6Ibl0TxU8+VICCGEKJseifJbbr7BzxEDcWGKVdtgmL0k3njj9WjJeQGLUM4jKsx9ARDaNATSuP322zoEcryj5UorrxItJQvabbfb0c//HvOJ/83Jv/LzXx53YuIn/OciX/iVCritQLXWxBei+w1duDr/2WrdL15++Z9+XskPvZZUKwrrSVmuEghyvhRZ/m7EKCP2A6ekhnYW5odebRoV8V9vlDuREEIIUUt6JMqxFgNjMccJxXVaRWyiDot0kaHtcF8AGgNxoR3H3EiShDthxNoNSYIWNxawawCdOrHq81k9rTFQbSezno5qUcTHN6RaS7uJ0XiDrJ5YQ26JJb7h52VTrctRT+GLQSjIi7w/PcE62aY1tNOo1uXIRhUqkrd7apUXQgghyqAmHT2TRLe5GeCnnFYRW4W76657+Hke7Lqw8SabRUvpIFogKYwIKtufVOmzjQYDx3BfjsdlxtxWKlHUKtioUS3imKW96Igv0Gi/3TKs81lU63LUE+gjQX8N8iX9KBolyKHaoTehqMuRvZ9F89j48e1fnIq8R0IIIUTZ1ESUJ3XCYkQVWGqpYX4eJxzerZK1O8Q6F+b11zZL+NQEn1RcWyBL0JoLy5P/eKKi20pPadSoFnGq6SRYjd8u+YSOwYhKnn815BWFXN+GtQyHu6w1jR4znaEsrXMyrlvWf4IRiM44/Td+OY2epn/4zhahWpejhx58wM/XXnuEn+elp1+OhBBCiDLokSg3MRv+3hoYftBcG9LEoll400R7Gta5MK+/tlnnTIAbiBsbkSULc2FhqMVKbitxQqt+Jaq1JvZUFFZraa/Gb5ehJOkYjKgMf5uflyKikCEpbVjLc84pPqReXhrlKkHcea/IhzTcwhF/yDs06D7++GO/nsY223y3I/3tuReh2ne2Gpej9vhe4Jc333wLP89DtflZCCGEKJseifIttmgXRwgfLHWIBn43jtjlkzPigWV+1mOWObNemiUd7Ac8aVZNzu045rab/TY6U4bnpQlg+wEJ4TBrImFE3BBGBB4NCH6Kk2TxNxcWg+EQK2EWQbPq56Faa2I1P9IhjS3drLFC59kwPeNp0eUZtE333NM+ug6i1LbxbLOwhhpUM1KMCa48o8SE/QB+fdKp0VLtqcblqBrCIUO33HJr3yiKp3tW3uF50qAxivp2Q7VDYFbjchSO81/E4j3h7fb+HM3UEVgIIYTIw0yffva/r6LlqsDijMANoSJlfG5+wvOrE471levbEz7wlevsA2aJjkqG8b8ZtjAEwW1jnqfBsIhpFmxEqH3yN7CkHX3McYlhjINgx0pOx9I8I1zwh1B+SISYZ1zvPFg6ZsUjCRoaWEkZSjKv0Kr0DCCeFnmeAQ0cxtFOI7xvWlpngQClAVjpOVj6Q1J+qiXEicYnQ3LWizxpD7izpLmC0aDhZ1lQbXhpdNMwYAz/Ij/EohHM+9VW1kRbsrH3lXDedfcDhRoQlkeKvkdCCCFEPRjYf+ZoqTJViXKspmFFyfprr73ql5daaulu+/gTIQLMlrPGHI77Ctu9EBUsJ8H+uD+0nReCuGHM8XgYAUuihTHcZ2I5S2An3cvEcpZQCs/jawKWZNwS8vhL23l5RWF4DnHNegZYfU0wh+dlPQPgGdix4XmG3Te8fpyk84w0URg/h68hNo78Lbf8tbD4r4Tdz8QyDTx+qFQP7F6V0p5jwncgKR3tGmnpn3ROiOVR/uZa6V4G+/hLb1KDLem8sAGdJP7zhjHPeySEEELUm7qL8r4CbgH44CLuRl93Q6GOkGatzXtuUWsiNEIUNhNpojDERCDk/bJRLSYgGQEl/GFVq2JfOqrJo5W+WPDcLjj/nI5hVrMas1lU8+VICCGEqBdFRHlNRl9pJbDmIrawttrfSvnzZxFBDlj4cONBaDOeNNdNA0HCcYDwCaes88zHF6EanoN47e0g5sI4MRFPyHoW/E0VsMzW+2c61oGRLylhOCuNgtIboFEZxokJwv4VSRD38Bxzu6nUIXizTTfs+LqRV5AnhRFBzrOXIBdCCNHbkKU8BhW7gUA47/yLCvnPxsHH9cwzT810o0B4MzJJnDnnnDPTukjj4Y47uo4qA3TEa8TfHesJguv6P/8xWuuEDnxZVmkaOAhz/tZab2HGs7WOtiF0gK7GyttMpOWtDTbcKNNXG1GeNArM7nvslelOQr8Nhtfca6/9crsbtXL+F0II0RrIfaUH4EP+6bRPvYBYe+11ZXETQgghhBBVIVEuhBBCCCFEycinXAghhBBCiF6ERLkQQgghhBAlI1EuhBBCCCFEyUiUCyGEEEIIUTIS5UIIIYQQQpSMRLkQQgghhBAlM9NXbUTLQgghhBBCiBKQpVwIIYQQQoiSkSgXQgghhBCiZCTKhRBCCCGEKBmJciGEEEIIIUpGolwIIYQQQoiSkSgXQgghhBCiZCTKhRBCCCGEKBmJciGEEEIIIUpGolwIIYQQQoiSkSgXQgghhBCiZCTKhRBCCCGEKBmJciGEEEIIIUpGolwIIYQQQoiSkSgXQgghhBCiZCTKhRBCCCGEKBmJciGEEEIIIUpGolwIIYQQQoiSkSgXQgghhBCiZGb6qo1oWbQwEydOdOeee65fXmGFFdxuu+3ml1uZxx57zN16661+ua/EWQghhBC9E1nK+wjTp093p59+up9efPHFaGtr8/777/e5OAshhBCidyJRLoQQQgghRMlIlAshhBBCCFEyEuVCCCGEEEKUjES5EEIIIYQQJdPnR1/59OFdoqXW58TbF/LzY7/3bz/vC/TFOM++3rXRkhDC2OLavlPW37FL7ysDJv5kRLTU+iz8u0eipd7D9j/rO4Ml3HjmCtFS45GlvA9x2mmn+akv0RfjLIQQQojeh0S5EEIIIYQQJSNRLoQQQgghRMlIlAshhBBCCFEyEuVCCCGEEEKUjER5H2LcuHF+6kv0xTgLIYQQovchUd5gZnzxZbTUeJZeemk/9SX6YpyFEOUyeNa5/CSEEEXQOOUNGKf8+X996K6/b7z77XUvR1uc232Lb7iDd17OLTl09mhL/Zlj/dF+/slDI/28Xhx70dgucU3imhNHuK3WGxqt1Y9GxPlfEz51q+76l2itHYuf3d84eOdl3Yn7rxKt1QeNUy5Ed+o9TvmSsy/q9hu+m1twzgXcXP3n9Ns+mv6xe+Gdl9wp/zjfrzcKjVPenTxjg3/y0F/dJ3/6TbRWPzROeXfiY4OPnzjd/ezsN9z+287nNl53nmhrO40OSyORpbzOXHLzOLfuXnd6kdouxJd1qy4z2F11x+teyCHYWxWLbzgRdxjQbxY/bwX6zzZzR/y2WHfhaGs7tp20EEK0JhssuJY7dfPj3HILLONm+/ps7s3Jb3lBjjgfseS33K9GHB4dKcrmiwlvdJuML6e+Hy2JRoMIZ3pv0ufRlnYmffifjn1f/Of/RVtbF4nyOvPt1RfwguyZa7Z05x2xpreSPnjxpu6X+6zk99/zxDt+3orwJYD42nToyOXdM69M8fvWXnFeP28FFpynf0ccd9508WhrO7adtBBCtCYvTHmlTYR/5O5++X63/Z/3dKPuPtrtcvNP3OkPnOf3r7bIynJnaRIm/Wb3LtMnd13nt3/5yUfus3uv8Mui8WAVZ7rujveiLe3c+OCHHfve/aCrYG9FJMrrDO4piPG4m8o26y/i5x9P+4+f9wUeebbdCnHGIau7frPO7JeFEKK3M+WLj9xetx/qzn2mq6h78J0n3Hsft5d73xy8jJ+L5mLAWpv4+WdjH/dzIcpEorwkJn/U3uKbc+D/+XkrgWUYH+6wIUIH17Oufckv77jRYn4uhBCtDNbxufq3W8ixpovywGc97rc+y4LLuv7fHO7+3xefu2l3ykouykeivATemTTdHXX+M37ZLOatznPjpnrXFfyr556j9RoiQggR5+A19nGzfX1W9/Tbz3prumgu5th6Hz//fNwL7v99In9yUT4S5Q0GQf6zc8Z4gcoIHY0cfaVMfvvH9tFYdt9iST8XolHYWPVMM2bMiLY2jvD+TFOnTo32JMP+k08+2Z1/fm1H7LDr3nTTTdGW6njsscf8dSZOnBhtEUnQuRNfctxXfvvkpdFW0Sx8bY753GzDvumXP7lVz0c0BxLlDQRBPvIXj7g7Hp3o/aobMSRgM/DEC5N8nBmZpK80QkRzgAi2seqZ7rzzzmhPY0AIh/dnOuWUU6K9yUyePNkdc8wx7sADD4y2dIfGBeKYKQ+kw2abbeavu/3220dbq+P000/319luu+1y37+vEQryI+79lazkTcjAzfd0X5t1Nvf5ay+6/72TPYSvEI1CorxBmCDHQo4g33fbYdGe1ueOx9otagfvtKyfC9EohgwZ4g4//HA3fPjwaEtjGTRokL9/kTD079/fz7OOnzBhglt33XX9VAkaBrvuuqt76qmn/DXHjh0b7amO0047zV+H63F/Wcy7IkHeOxiwytp+/umDt/q5EM2ARHkD6MuCnB/rMEY745Ov9c2uPwAQfRvEXCVXDuC4at1OEMWIyA022CDa0g6W46xrEi4TmxzH8VlwfFpcuH9SGNJYeOGFHf90e/LJJ6MtPQPLvAlyXFdWXnnlaE91DBs2zD300EMdjYYTTjjBz/s6dOqUIO8dDNh4TzfzHHO1j1M+9q5oqxDlI1FeZ0JBjvvG/IP7udsentBlQri2Krc89LafH7qLxunuy2yzzTZupplm8hPC8IgjjnBDhw51gwcPdvvss0+HQGa7HYdPNedxHNZjjuupVfaVV17x18SNhGvG/ba5PvchXNyXY3feeWd/vPli409tYWTZjre4VBtGrm/XtSkOwp/j7rnnnmhL+3k2xRsPuJfgbgKXXHKJF/y1oF+/fu6aa67xy5dddlmX8PRVTtv4l16Qw2uT3nC7LL+dO2jVPTumnYZt5feJ8pljo239fPqYh/xciGZBorzOjHl5ihfkgF/1rsc+0m166c3GWFNeffVVPzWKDz/5j/vVpc95K/nGay4YbW0sjY6zqAw+zSYUAVFnvt5zzdX5gxV8qm+9tfPTMsdhla3Wag74QofX5B6hkL366qv9fbAC43IC4fFxuB7HGyzja11NGAcOHBgtpfPggw/69Av9zVm3KQwLmKvK1ltv3WMLeRws5pZG9913n5/3Zeafc75oyfm/eG667EZdpnUXXyvaK8pk1lU281Zy/SxINCMS5XVm9WUH+795Zk0jVu4szOsJlShTPWE8cmO2WWf28Rv96xGl/Syo0XHmWYbP1PYtNG9/v/3H2y/t1/sat9xyi7vxxhujNedOOukkN2XKFLf33nv79SeeeMLPjz766C7H3X333d6Vw7YhOnvayOKa3NsYP358tOQ6XEZWWmklN3LkSO92wvGIzyWWWMLvSwvjo48+6tdxFXnmmfYhT4uwySab+OtkxQ8XGO593nntf4oE1m2y9DTefrv9SxUNhXqw1lrtQpPGQl8G1xX+3pk1/f7p0dHRotEw0orx5ftvuUmXnuQmnXtEtEU0A4MGtmuEl96c4c6+cry7+rZ3/bptB7axr5WRKK8z/IKdEUeyplYatzsU3ywTP9KglQnjzLMMn6nt6ytpkZef/vSn3t977rnnjrZ0B+suQhVCUfnGG29ES8VBtHJN7m1MmzYtWnLu+OOP93PE/yqrrOLdVjbddFO/jeU4WNQtjOuss06Hn/Xrr7/u57WGcJMWdk9g3aa0BmgeK3xPoCHSl8F3nL93Zk1PT34xOlo0mnAMckZawY9cI640F1OntRuwmD/6wjT33OvtXxttO7CNfa2MRLkQoqEgjPFJriW4oODXXMmfe/PNN4+WksHFA4szDYIQ3G0uv/zyaC2dMsRpHleZsOFRD+LpJYQQojgS5UKIhpJlHQ/BlxuhTefGsEPmCiusEC11YhZtOmf2BDqaMloJ7irmSmKC87nnnvPzEEQ4YbMOmMY3vvGNaKn+HHfccR33p+NpKNIXWaT9j8Fh2GqJ9QWot4uYEEL0BSTKhRB1B7FIR0TA6sw6QtE6fDJn5JI4CG1GNbGOjVjZiwrvNdZYo+M+hIERSRDfBttC0YrQZvxtRj9hfG/r6ImfeRKEjTBa/Ajjqquu6pdpVNhIKmFcbVt4X9sWusnYNkaBCSENzFWG69n96XjKGOaGubkQh1r/6IevE9axVJZyIYToORLlfQiESChG+gJ9Mc7NRpJ7xRxzzJHo5xwei9CzjosIUDqHnnvuud71JX5NE6h2vJF07wEDBnQZ5QXi7h1ch/ubOwodK/faay+/HF6T48J7EsZTTz01MYxJkAZ5joPwOBuSkPsZhJdOp1it7ViWbYQU/PirHa4xHkauQ4MFiD/+9EIIIXrGTF/xjbYP8+nDu0RLrc8c67f3/v/koZF+3hfoi3Gefb1ro6XeCdZjrL6ISUY/aUZ6QxgNXFv4xT4NDBovZ599do9E9LPPPuv23XffjgYLlvlajX9eT7a4tu+U9Xfs0vvKgIk/GREttT4L/+6RaKn3sP3P+k5H5RvP7O4i2ShkKRdCNA2ME84EDLPHV47QxaMZIDzNHsYQRmzBqo4gR0hjMe8JjFBjAp9x0LMEOeliLji1dp8RQohWQ6JcCNE0vPjiix0+3Ag//KVtDPNmgfA0exjj4MbCr/Fxd/n1r38dba0Ovg5wnbvuuqvQD4nw05cwF0KIdPq8+0pfgU5Z1oGsN3xyrwXmYgB9Jc69HVwtJk+eHK21M2TIkC7jipdNbwhjs4CrC+O9h/CTJfmgCyFEd2QpF0I0DQhbrLrh1GxitzeEsVnAkm5/OjVkMRdCiGTU0VMdPVsadfQUonwQ4YjxkEZbzNXRs7lRR8/mRh09G4Ms5UIIIeoK4lsWcyGEyEaiXAghRN2RMBdCiGwkyoUQQjQECXMhhEhHPuXyKW9p5FNeDvwBMvzduxAh99xzjzvwwAOjtXbq7WMun/LmRj7lzY18yhuDRLlEeUsjUV4O4RCcQuSh3sOWSpQ3NxLlzY1EeWOQ+0ofgkqPqS/RF+MshBBCiN6HLOV9yFJuFlTFubVpBkv5xIkT3bnnnhutCdGVDz/80F122WXRWjtXXXWV22233aK12iNLeXMjS3lzI0t5Y5AoL0msPf+vD934d6a5xRYc6FZccu5oa31ptECd8cWX7t5/vOPemzLDTXj/M7fs4nO5+QbN5jYavkB0RP0pS5R/+Ml/3DOvTnGvT/zUx334ckPccm3xX3Lo7NER9aMZRLkQadDf4KCDDuoiys877zw3atSoaK0+lCHKl5x9UffdpTbyy9f+8yY35YuP/HK9kShPZ5YFl3X9R2zjZhk0j5t5rsHuizdecV9Ofd99du8V0RH1R6K8MoMGzuw2XH0Ot+iC/dxC883m/v3+527yh/9xtz/yoZs67cvoqPogUV4iZYjydyZNd8vscItbdZnBbvSvR7gF5+kf7akvjRSoxHHkLx5xz7wyJdrSye5bfMOddvDqrt+sM0db6kcZovy2hye4XY9NLnTPOGR1t++2w6K1+iBRLpqVsgQ5lCHKL//eWW7+Oedzd798vzv3mcaJPonyZAZsvKeb87s7u6/NOlu0pZPPX3vRTb38ePf/Pnk/2lI/JMqzWfebA92e2y/k5pz969GWTt6b9Lk79vw36yrM5VPeh8B6jFiFcw9fo2GCvNH85vcveEGOCH3rLzv4jpav3LCNF+RX3fG6u/nBt6MjWwss5Nfd/aZvcN18xoY+zkwsw2HnjPENFiH6GmUK8jL41YjDvSB/6d1XGirIRTpzbLStF+SfPPRX996v9/UNgUmXnuS+/OQjN9tSK7h+a24RHSnKZP3hc3lB/sw/P3JnXzne7XPcy270X/7tPv70v27+eWZze2w1X3Rk6yFR3mBO/v3zXqxedPS3Gua2UgYIb/jhd7/h5p7j//wyDZB9tmu3Er/8ZmM+4zYa4nrFL9dxN5++oXfTIc5MLP9yn5X8MS+P/9jPhegr9DVBvtOwrdxqi6zsPpr+sTvlsfOiraJMvj5sbTfzHHO5//fF5+6TP/3G/e+dl/32L8be5aY9fq9f7rfCcD8X5XLSFRPdr373up8/+sI0bxW/8cEP3R0PfuD3487SqkiUN5DRd7/pfnvdy+7gnZd1IzddPNraOBimjqkRbLHuwn7+3Lipfm7gRw9D5xvg5/WmkXE2cMuxhkhIq34VESKLvibIVxuygvvh8B+4z//7hTvrkd81zI9cZPPfcY97QY6lHL/ykNmWX83Pv3i9XaiL8nnu9RnRUiefzfh/0VLrIlHeIJ54YZLb/+S/e7eGo3+0ot+GSD/2orF+uREwbnSjxo4+eKf2Qm+TUff6OBLXA0/7h/e1Jg2+F4n2etPIOGeBy8olN7U3DlZderCfC9Hq9DVBPnjWudyhI37il69/9hb39OQXvdX8/E1P9nNRLtOe+Jufz/+LS9w8P7/KDfrxWW6BU/7iZh26hHdhmTGm3WIumpON126vOx8f+6GftyIS5Q0AQXbU+c/4ZTp2WgdHXDiwnLcii8w/wPuPA3GkQWIuLd8bsbCbe45Z/XJfgH4EPztnjHdbuubEEYlWdCFakTvvvLPPCHI4YYMj3Fz953RPv/2s++O42/y2eQcOcYsPWdTPRbl8MW6st5YDQrz/N4d7lxb44q3XOlxaRPNxzJ4Lu8UW7u87ej4w5pNoa+shUV5nEGTW6ZHOfn3BhcE6syLC6ej56OWb+86O95y/sXfd+dWlz3nf+r4ADbIjfjvG3fHoRJ8WW603NNojRN+i1QX5Qavu6cX3ex+/7375yOnRVtEs4FM+zz7HePeVaU8+6Dt40tnz47uud//94F0v0LGci+YDQb7q8nM1ZOSVstGQiHUeKi9reLw4WFHrKdoa9ct5XHVwW8Gv/LqT1ou2toNg3/yg+3wjhVFZ6m01LvM3++GwkI0YCtHQkIiiWaA/x4svvugGDhzoNtlkk2hrOdR7SMS8wxC+OfktN+ruo6O1+qAhEbszxw9+3lYffNdNf+EpN/XCQ6Ot7cy6ymZesGNFf+enG0db64eGRMxPGYJcQyK2MPPOPZu3DidN+FaDrXNsK/DZ5//z80o/ypnxRftxrUhZglyIZmLYsGFuu+22K12QNwLEdtLECCzAnPWJH73j10Vj+Vq/9K/UX77/lp9jRf/aHK073F5vgp8H9SULuSFLeQk/DzLoAIm/daOsuI2yGjNW96Jb3uCXcdmhYyMWcYTq7Y9O9GN1J1nR60EZlvKyBbks5UJ0p6zf7OPWsumyGzX0B0KylHfHrOHw4c2/d1/88+/eh5ztc2y2s/cx5wdCk8/+sT+mnshSng2C/MRRi/sxycsQ5LKUi5YCAW4/y9n2sAe8QEcc8xdTBDlfCE7cfxW/vxW58MZXvSAH4kvc45MQQojG4ccjf/JBvzz3tj/yI7AgjhHqCHL8yj++4w9+vyiX7288xAtyYH7pCct6oRxO/PWzFZGlvM6Wcnyo034nzzCBjMDSKIFqYrCeVuMwvljMH3n2fffelBluwvufuWUXn8vNN2g2t/aK8zbkF/vQiDiHEH/+Vlrp50j1fOaylAvRnXpayhkKMW08coZCXHfxtdyjbz7RMSJLvZGlvCu4pNjv87GMzzpsFfd/Cy7iZpqtv/vvu2+7L6dOcp89+KeG/GIfZClPByv5hqvP4dZeJfvnilff9m7iWOa1oExLuUR5ie4rjabRArUZ6ItxligXojtlua+UgUR5cyNR3tyUKcrlviKEEEIIIUTJSJQLIYQQQghRMhLlQgghhBBClIxEeR/ixhtv9FNfoi/GWQghhBC9D4nyPgQ/8WDqS/TFOAshhBCi9yFRLoQQQoiKjBs3rmMSzcfEiRM7ns/UqVOjraI3IVEuhBBCiExuuukmt/TSS3dM99xzT7RHNAMI8qFDh3Y8n1NOOSXaI3oTEuVCCCGEyOSJJ56IlpwbPny4GzGi74wr3ht46623oqV2tt5662hJ9Cb6/M+DhBBCCJHNGmus4Z566im/fN5557lRo0b5ZdEcXH311W733Xf3yzSannzySb8sehcS5X0EPm2de+65fnmFFVZwu+22m19uZR577DF36623+uW+EmchhOgpM2bMcP369YvW2tf79+8frTk3ZcoUN2jQoGhNNJr484EjjjjCnX766X6ZEcc0wEHvRO4rfYTp06f7F5bpxRf7xu9y33///T4XZyGE6ClxwTdhwoRoybnDDz9cgrxk4s8HHnzwwWjJuc033zxaEr0NiXIhhBBCpBIaNfbee+9oSTQLjLQSuhYliXbRO5AoF0IIIUQq77zzjp8jyIcNG+aXRfMwefJkP8eXfOTIkX5Z9E4kyoUQQgiRCkLv1VdfdZdeemm0RTQTNJR4Pg899JBci3o5EuVCCCGESAWhJwt5c8PzkdtK72fm49uIlkULQ2/tWWaZxa2zzjp+JJKVVlop2tO64Gc3ePDgPhVnIYQQQvRONCSiEEIIIYQQJSP3FSGEEEIIIUpGolwIIYQQQoiSkSgXQgghhBCiZCTKhRBCCCGEKBmJciGEEEIIIUpGolwIIYQQQoiSkSgXQgghhBCiZCTKhRBCCCGEKBmJciGEEEIIIUpGolwIIYQQQoiSkSgXQgghhBCiZCTKhRBCCCGEKBmJciGEEEIIIUpGolwIIYQQQoiSkSgXQgghhBCiZCTKhRBCCCGEKBmJciGEEEIIIUpGolwIIYQQQoiSkSgXQgghhBCiZCTKhRBCCCGEKBmJciGEEEIIIUpGolwIIYQQQoiSkSgXQgghhBCiZCTKhRBCCCGEKBmJciGEEEIIIUpGolwIIYQQQoiSkSgXQgghhBCiZCTKhRBCCCGEKBmJciGEEEIIIUpGolwIIYQQQoiSkSgXQgghhBCiZCTKhRBCCCGEKBmJciGEEEIIIUpGolwIIYQQQoiSkSgXQgghhBCiZCTKhRBCCCGEKBmJciGEEEIIIUpGoryPMnXqVPfss8+6GTNmRFuEEEIIIURZzPRVG9GyaCEQ2xMmTIjWnBsyZIgbNGiQX0aMr7LKKn4ZXn31VTds2LBorTjjxo2Llpzr37+/W3jhhaO1rtAQmDx5crTm3NChQ12/fv2itd6FxSVMV4P0SNreaLLCKMqFPFJm/rd3tifvfT2YOHGiL0PqkV95H6ZPn55aPolysfKq2fKkEI1ElvIWBUG+9NJLd0wPPvhgtMe5448/Plpq54YbboiWioPAD+/z5JNPRnuSCY897rjjoq21gQr9nnvucTfddJOfHnvssS4NhlpCehKHMF2B+7J9zz33jLaUR1oYRbmcf/75/rkcdNBB0ZbGw/2ZmgneVxoqm222Wc2/4CH4Bg8e7K9PmSWaD8pM8iRluBB9FYnyPsh3vvOdaKmdZZZZJlpqr7xM1JqwzSIU+MOHD3ebb755tNYdrF/nnXdetObc6aefXhPRTAWO0KHC3XTTTd3222/vp3XXXdcX8mussYaPSyNcdQYOHOjnsvaINBZccEE/X3zxxf1ctDPPPPNES67mXxC4HuUT8OVINC8DBgyIloToe0iU90H22msvd9VVV7nDDz/c3XjjjV2ENJ8PTdQy3XrrrdGe7mBxCvfvtttuFSvTbbbZJlpqpydWekBoY3E88MAD3dZbb+3jgzsO09ixY308gbhMmTLFL9eTTTbZxH+lOO2006Itncw000x+Eq0LjUyeMY3ANLbbbjufR44++uhoiwAasryjDz30ULSldlAucV2uL/eV5uSWW27xz2edddaJtgjR95Ao74NQQSGgEY4IhGqtUo8++mi01E5ccCdBhbj33ntHa84dc8wxPbJgP/PMM+6yyy7zDYzrrrvOx4fKnWnllVf28aQyJqyNqoxV6YtKKI8kw9e0asujSnBd9a1obvR8RF+n6Tt64id87rnnRmvOW0XprIOF9c0333STJk3y7hh0XFx11VW7Fei4X4TW3BNOOME98sgj7r777vNWLT6Z8hl5/fXXr9hCj1+L+2IZjYPIDP2l11prLS8WAevyX//6V/fRRx/5+5ubwworrOC+/e1vd6msjzjiiGjJeSswYbV4P/fcc26DDTbw533ve9/rVphx7dBnFAuyhSEeD9KU+2Lde+edd7zV2eC+CFuYb775uqQRbiFPPfWUX+Y4LB154D5Yrg0Ecx7rCK41+EcTb4svbiuEN+81QsyaaelCXgt94olfmniyOITpChZGnos9W7uPxZlzjHiaVoLnSp5///33/Xp4nzhpYQwhzi+99JKbNm2aX19iiSV8vkkTRlwzDDP5+Y033vDLhCVv58XwPAjTOn6PJCydcRdKegdDSLMXX3yxW1pxjZdffrkjLbPibvezcPGO0yDkXPIjX5i4h70/NBJ5740wzyblkTgcM2bMmI7nwn2TyjeD4y0MwPHLLrtsqsixLzZFi/94/iPNaPzGsTxf6R2CMG2ynr09R+C5L7bYYoU6y1LuEe60dyGJeJmQ9cyKYHGxuNt9kuJOXuPLn70vxH255Zbrlq554leLY2p1HysDLA3snDA/GEnvKm5IaXkLwvwCWXlRiKYBUd7MtBVG1Bod03nnnddlPZz23nvvr9oEe3RmO22CpMsxWeezL4spU6Z0Ob5NiEZ7unL33Xd3Oa5NMPpwZd3bJo41wu0nnXRSl/VwGj58+FcTJkyIzmonnm6kgxFPE46FcFvS1CY0/HHA/cJ9hC8v8bBdddVV0Z5sLA3Ce1makuZFsfvzbMg7th5OxDmep8DSMExXsLiF28PrxacwTdPg/lyP55x0jaR8D2lhBI7n3vFrMSXlJ4P9nMf+tPCEeThO1nmW1rZcCd4/juW9zCLpOMJo9w2ntLjbcyVcY8eO7XIO+yyt0yZ7xyApj4SklROELbwOENa058iUdg/bnxfSK+25kb7xNLP0TcubvPPsj5e5bIs/+6y8ylSp3DbsGnnIumdanIpg+YXnGd4nHvc874th+Yb8mQTH2rXSjgGOSavbwJ5d1ntu98k6hnuE97F0iOfxrLzHs4gfTzyzynMhmpleJ8orTfGXrlJlGZ8qFfBxcZxUuJkIYLJCJ62ijU9hIZu0P22i0Aorxni6hZVzPE2sUAu3JU1h2saFSVrln0Z4bt6C0tIwfEZW+ZPOSWIqC7u/FeBcl+uRHsTHnmNSJWxpGI+3pXu4nW3h87B1pjxhtkYe4eG6di7PwMLOPE5aGMNKK7wmcbc0jucnw+7FfiYqaMLB+VzHKs+kyjgUGDxz4sV5zO2+Fq48ecLSJcwPcSyfpuUZizvHEReLVzzuHGPnsJ+5hZ/0RPBbXOx+rNsU5h/WOSb+XMDSgesTHo61sLGdKUxbS0/KJQsPE9e24zk/ju3Lg6UX9wqfN3OeE/sIb/wdsbjEnw/nsZ1nHT+H7fFnb3mCOFr8mIgv9w0b6VlYWCsRvh9hPiUd7BpJYS+CPR+7D2lEuoT5Lnxf2M/9CQfnEu94ODjejk3CniNTWprZMUl507D7VLoGU/xZGpYHyE+GpS1xNOw40sHiz8R27s++sLEdPjv22zk8Q7t+WvoI0Qz0SlHOC8oLx8tlhVY4hQVbWDnZRIHGdl5Ye1HDiRc4jXh44gVTfL8VbmE4WaZQsYrcwhEvLMLr2MQxhM8ERLiPeBlp4YB4mnCsbef64T5LKybCaaRdIy9WqTARj7zEraJhIcxkBXH8uCTsHKYwbka8cg6x+DMPsXSPbwe7VzXwzJNEANssLcN8D2lhtDwfVughpAX7eS7xa7I9bR9Y/OPPlOdh+TUpbcDuyxRP7yQIO9dkSooHWFwtf4aVfFL4w7iHecjixZSWbpD1/I20Y0x4p12fsLPP4gIsh+sh5Bmul5SWbGfKC+lSKY3j7xDH2/tj+0hze2ZJ6R8PL9dgW9YzTtsex8JZCRN7aeLNysikdM2LvZtM8XQDnilxTtsfpm0YDisLktLEjrd50jEW90rlZ55r2DFJ17I0DPfZ8wnzsx2XlAYQv7/dM+3Z2T3CxoAQzURdRDmVB1Mt4AXlJbIpqTC3wsumUFSHhR8TL238RbYXPzwmi1BQMoUFixVI8X3hNs6vVOhBeA5TvGCyCi48xtI9nm6hAIinSVgIxs9Lq3iyrpEHKxxt6gk8T8ITTwvSmcI3La3tuKwCmmvbdcN8Z/EP0xUs/eLbwe5Xayws8cZkUhiJA9uIU1KFaphAjFdubGPKer+tYgzzhIUlrbI07L5p+S6OHZ+U3hbX8FpJYYtj1wzzRfheZL27Wc/fSDqGa9r1s55LUeyacdK2V4OJ/6Q4Ey97f4i3pX+ayGJf+LwsXXiXe4qVOVnkvZ/FI14X5aXS+2B1UpgH4ySVTfYs4ulr8TKjBcvx8iI8phJ2n6xr2H3i+YJwsz1ez9rzCd9Nq0/T8ksIZVLSdUPCNKvleyZEraj56CtXX32173TJxHKtoRNIvLOGdUQ0rHNUEgz/F+8YxBCBIYzmkcVPfvKTaKkdOm0BnVEYTcRoK1g7Oqy0FfJ+DnSy5EcWdDyhMyedm+iUkkVbQdKtAxDpEI972HmunrzyyivRUjt0uCoLnicdiugo1VYw+2EQ2wpmn8677767T2vrVJZE2CEvDte2UWUq/RipEZDHyCvhROdCyMr3Bp06gThldZCzNKFDdBKLLLJItNSdpLHqn3jiCT8P/ySbxIorrhgt5YNOzpBU1ljH4/DdC9/teDraNP/88/v9YScxg3wV74RWC95++20/5/p5Oy7GSYpLraHTYZF7kFaXXHKJX1566aV9+vN+ZnXiDeF8nh/v8j777OM7A/IO1At7DnSqj8cznGyMeXufqoV/KSRh713essnCsfrqq/v5lVde6efG7bff7uff/e53fYdhuP766/3coGMxMOhBJUaMGOHn8WtYXcg1uA/1VvzdpIM07LHHHn6ehcXnpz/9qb8OaZ+G1X0rrbRSt+dlU1vjxe8HloVoOiJxXjOstcsUWjyqJbRQMSVZY6yFnHSMWSRsClvhIVhGwuOyCFvbTGZVMQubTeG9zGqQNdHCD1vv4b60tDSLhU0W96x0y0qT+Hlp9w2fM1NRenp+HrDahHGNW3Xy3tuukZSG4Taw9Itvh7z3S4I8Hs+j8Sl+z6QwJm1Lw64bkrQtjt0jzFf2vMNtSZgVLS3fJWFWxdCalmbxZFveKQyDPddK4cp6/kbSMZZmWZbRJEiveLmTNMVJ254Gltii+S/EnhHlZhYcE09j7k3ZGN6L65g1Ni+WB7Ow55B3yopzFnaftPfBrl8Ju04YDrMu8w4YPLvwXbDnYRZ2YH+l5xOS5xp2TBhPniXHxC3V9nziaZKUv7kG28M4Fn12aWkvRJnU3FIetuwZPqoR9O/fP1qqzPjx46OlTrD+hEMEVgILRWih5lwsOAzPZ2DxCofOwjLUVoB46zn7ksCKdPnll0drXTELRJz33nsvWmosc801V7TUTj2tV9WClQ0LelvF7dfjVh2D4ciyyGOBricMHWYW5raGRcfPkWwiTxXFrOtpVEqTakl6/0KIT1FsSMTwHbb3pa2i9/M48TRMmhr5G3z7E2zRdCeMfA1qE2L+K1E8DrWA/MeXMPJMUv5jWxbEyYZZZQjVrK9WSfBF8NJLL/WWTe5FfuevqHyVxNJ88sknR0f2HHsO5Jt4PJMmvtzWk0r5Iek9Nku3vQM8P96NsM6yd+Zvf/ubn3Of+DGVMCu/XQNLNNcYNWqUXwez5Nuv87kP9Rz3yftFiGPbBLwvx9uEt382XIN8v9lmm/n7hpA/kp5VfCrz664QqUTivKa0ZfiatUK5DsG0KbQIGFnHxFvPtLDjLXQsqOExoUUBCyWt/bhFButAeA4t/3A9jwWHa2TdO9zOFL8m8eD48BjCC0XSJHxW8fOwXiSRdY08mFXEpnqTdB/bVulZkWc4ztIWLP5huoKlX3w72P2KYmmVFs60sCRtJw5sC/NZEtyL4+LPn21MWdh9wzxh+TwtPxlm5at0XBxLI+7Je8H7mGSNs/c0tO7lwZ5rpXBlPX8j6RjbRvjyYmVQ1rNkP1OctO1JUP5xLM8wiaw427NgP3nPyivOSYJ9eZ8916h0vRDLI1lYXCq9Hz0l6R0JsbBWKpss/mHZBKS5xcGeX2hVBvZbfrNjir4Xea5hx5AXzOqdFO/wHa5EeC3KDLAyy9aF6I3U5Y+eWIhr8YOFekALG+sSlm1a2PipbbrpptHedsxawDFYKLHyYBWw1j5gvWkrRKK1dguQ0VYAdfjtGViHsBowN+sH1+AnEBxv4MuYBmEwvzrCRjxC6yDXWTr4YVA1xK0Hp59+ure0EGbuWStC60YY/6LYc8zC0jt8XiH4X/K1JAmuT56pRdq2VU5+XvSrgsWPn8HEIdx33nlntFYZfvRCXMg3ac+Ta5pPqoW5p+CDyn3JT+EXpRC2h30yimDh5B3FZ5X38aijjupmjbN3m/co7ZmzPW1fXip9iYhDeUkcCHfcB9cgTGEZ1CZM/JyfmCVRq/fV/KznnXdeP4/D+5EGP1EjTm0i1Oc9e/a77rprj7+ukWb2c5pKX2DyYs8h6/0AK1PqheXnSmUT4eS9iv/AiXzOPspu+5lVvC8Ex/BsOIY8xz3j/bUqQfpzDcLCNfgKHL8GfbA4hveS5899eqoPeK/52R7wMz0wH3bKkKxn14xfdYXoIBLnTYtZLmxKssZkHWMWibxTaEm3lnu4L8Ra5vGJFnxIaC2qNIXWqKT9WVNoVSmSJnHLRFuh2WW/TcTB0sYsrjYlPZcswnNJ5zwQTo618IbpGvcvNDjWjolb+uz+7OfZhhYerh1+xYhbrCwN4/G2dE9KD8tPYf6Ip30SZoGKW4AIo+1LumdaGIlnmCb2TIF99mWAa8exe2Vh943HLbwv9yAduD/z8J7M8+aJEMu3Nk/KD8TV7hV/5kC+tvwQYs+1UrjsOK5h92cehiUtj8SfS3gOy2EaAXFhnSkeD+5h12KKk7Y9CXsPkuKeJ//Fz7PrxdMY4sdbPLhWmE+BdYtjmFZpcF2ODeH6bA8tzVnPASxe4XvMMbyf8TRIw67B/dOwtI3nU+JtaUg4488e2Gb7mSdZ3AlzeAzXLIpdw965pPtYPrX7pKWRPZ8wTdjGlBRH+6oWllNhnUx8wjzDsqVp/MuCEM1CnxPlVjAkTRR+4UscPzd8+Y0kARsvxOMCNm2ikAnvH+7LCjdTvDAskibxiiErvHYfK4xtKvLJMB62sHLLwgpt5gYFb5g2PA8ryMNnE8bfsH1hJcxk4sempIrG0jB+XYtb0v3CdCVsds94+seJh4+0tjCy3Sqn+D3TwghJcQ7Xk/I62P4s7L5J8SJ/23OMT5YPWA6fcV5MqDClhR8IQ/wZh2EiHeICxZ5rnnCF17bl8LysPBJ/LmE+YYrHizQLjyUvWL7nnhavOHZOHnjXwziF12UyoRPGx/I6YQnLNMPybDw+bAvTincvnh7x+xctP0JsG/ELSXoOYRqwzjFGmPfi5X8SWe9IiKUtE+EJw8B6GIY4lg84Lg17DkxJzykPFibuk3aN8D5p6WPPwtKE4ywONtmzt+3x5wChMLdjwusQ3jzPSIgymPn4Ntoyao/hE9vXv/71aK02cM3//e9/bpZZZvEdJZlWW221bsOxcVz8GNxACM/LL7/s/vznP0dHOnfHHXf4DqiTJ0/u+MTc9pL6T164g9jnbq7JZzjcOXAPaCtU3A9+8AM3xxxz+P0GnwQXWGCBjnvvt99+3YaxmnPOOd2hhx7q1lxzTbfooou6xx9/PNrTTlsh4y644AK34447+jBbWp5wwgnREc7tsssu/pgvv/yyY0iptkLQHXDAAe7CCy/sMtRcVrqx79NPP/XDBNo+3GK4nz0/hoQbOXKkj5d14gHSgHtyLun017/+tSMNuSZDlmVh8eIZ2HB1wCduG4YuDc4lPtyH50BHL671jW98w38KX2+99Xx4X3jhBd+hkzReZpll/CfaM88802244YYd17F4WvqeddZZvnMU53N9hg9rK8R9h6VzzjmnW9pyPp9ASYcwXdlu4YxvB+KICxPP8LrrrvNpyT3IF0mdnuxc8hxx5JPvUkst5U488UQ388wz+2f/i1/8wuf1pLCkhRG4JkMXLrHEEu7//u//fHh4luTF0047ze2www7+OAjPa6t0fZ7ZeOON/XoSdl/yFfcJz2fOubxz+++/v9tyyy3dscce6+/J8Gecy3Kle4TXNMgT//nPf/y5dAIL39WkMFieIa/897//9e8Y7y9uL/bM7TzmPFfKDhtSLSS8PtfmWVPGkJdIU/KTlUl2rbTnsv322/tyZ6GFFuryXHhPdt55Z3+cnUNYyFNc59///rf73e9+512FDj74YJ8/CAN5hjCF98nzHIFzCBPHWf6jAyHvmJVbuA2E8eEZEm7WecfIC3F41nTQf//9932ZaMcQLktj7k3+JO9zD4772te+5l0g7Hlx/7j7YRyL97vvvtuRFradPENneYbnszIF7Dksv/zybsiQIT4+PBPKkyOPPNKX5xZmroNrT5uYdFtttZWf0rCwxN+REDsGGDaX8HIsaU7Zb2UT+SF0FQnPA8LLeTvttFOi6xvMPvvs/v7kext+sBLx+/DMuQb3SRvSdL755vNlHPk3PuSiXc+eT5gmP/zhD338eR/JF5b3yOPU2byrxDEME+GhfLGyDTcejud58uwYXjGpvBWiGZgJZR4ttyT4cPMyGhScPfVnaxQzzTRTtNQu3BErzQSVo42qAGPHju3m25gEIoKC0qAiLqOQtPRt8VegV4EvKJXyVVdd1eH/LYQQQvQF6tLRU/QNbFgt49Fo6MEs6LQYCvLzzjtPVos+Ag1khq/DSpgEneewYkHWT1OEEEKIVkSiXFQNXxyw4BtYzdMElxGOHgFxYS9al1NOOcV/cuZzs/3JFsu4jdxgIznQUOstX7OEEEKIWiFRLnoEvnsho0ePjpa6gyU0dHfBR13iq+/w0EMP+aHx8KVnaETcynBVYcIHHNgf/nxECCGE6Cu0vE85lls6Oxl0fukt7hLh+Nt0iio6hmyjyBvOZnsWFm41DBoPDTT6EjC+NJ3kyDd6DkIIIfoyLS/KhRBCCCGEaHbkviKEEEIIIUTJSJQLIYQQQghRMhLlQgghhBBClIxEuRBCCCGEECUjUS6EEEIIIUTJSJQLIYQQQghRMhLlQgghhBBClIxEuRBCCCGEECUjUS6EEEIIIUTJSJQLIYQQQghRMhLlQgghhBBClIxEuRBCCCGEECUjUS6EEEIIIUTJzPTpZ//7KloWQgghhBBC1IiB/WeOliojS7kQQgghhBAlI1EuhBBCCCFEyUiUCyGEEEIIUTIS5UIIIYQQQpSMRLkQQgghhBAlI1EuhBBCCCFEyUiUCyGEEEIIUTIS5UIIIYQQQpSMRLkQQgghhBAlI1EuhBBCCCFEyUiUCyGEEEIIUTIS5UIIIYQQQpSMRLnoMf/612tuxowZ0ZpoRj6cOtVPQgghhGhOJMqbAATtbbfe3G26//57oyMqg+CafcAsfjrj9N9EW+vLv/890Y06YF+3ykrLupNPOiHaKpoN8sYiQ+f1E/lKCCGEEM3HTJ9+9r+vomVREliaEbZJtD2faCmb8BqH/PQwd+KvT/HLWXAO9OvXzy200MJ+OS8I8pE77+CeeXpMtCV/WJsZ4mVWf9KEtGk2ENlTpk7xy3nCiBDfZeSO0Zpzxx1/ojtg1CFNGTchhBCilRjYf+ZoqTKylDcBZYgjxCcinumiC8+PtuYjSZBfO/r6aKl38sTfH3c7/WA7t8ywxTrSZd4hs/uvDs3imvP888/6MGLxDsPI14qsMI4Ysb7bfY89ozXnTjj+WHf11b+P1oQQQgjRDMhS3oTggmIUsT5j+Z48aZJbeull3NyDBkVbk6nGsg6Ivx/tsYu74/bb/Pqqq63uRl93Q2FLezNBIwMxDsRnyy23duPHv+muuvIKv61I+tQLc0EBCyMgsAHRff4Fl/jlNC6++HfusEMPitacu+W2O91GG20crQkhhBCi1hSxlFctysPP/KH7A9ufHvOUW2zxxd1SSy3dxQrM8ew37NM7guPVV19x/Qf073ZOTwjDaAweNNgL1qx9IRw34e233QcfvO+WW34FH2a2vfXWeLfqKqt1HB+6FMCSSy7l5xz7yisvu0UXXaxjWyWKiHJzQQnJ49JQrSiPu0K8Mm58LkFuz55GA2k577zzZTYe0lw07Drx9DfC9AjTOyuPWVrE0yFMow8mf1qzfFkNFpa4+A7F+tsTPkhNTyMU5oj7u+5+oNR4CSGEEK1MQ0R5KBxh7HMv+46JoSUOQtGW5Ns6+xxzdjunFj6voVgJQYg89PAT3cIPoeBB/NF58Zyzz/DrBueb20Yo4o79xVFdjsWd45577uywtgLn7rffAW7kLj+MtiSTV5SHojEkS2TzjD6bNs29+967Hem+xfe2ciNHdg3TaqsPTxTb66+3Vkf8ieNWW2/rl9MgHXGVGH3t1V3cXYw0a22YBhYf3DcOHLV/l+vce9/Dbq1vre2XcUHZ+Dvr+WUgfBtvspm7+aYb3H77/ija2v4cbrnlr10aVOQV8t1hh//cbzNwDeEZkr/zNqrqgYUx6dla3gvTIg2eR/ilQ9ZyIYQQon6U4lN+1ZWXdxPXgO9xGnx6Tzqnnj6vScIwiQvOP6ebIIe859P4CAU5cC7iEPFYFttstbkPW5juCDS2hdPtkWgLoRFg8UfYIngr8fjjj/p7cR6iF6F88SW/7/BxJjxYvuNwHJNBY2Kdb7U3iLi3nY/l28DyzjlnnHVutMX5hpUJcs6hAbLAAgu62YIGH+Kcxk9ckMMLLzzv53xFKRMLY1Jj67XXxvn50EUW8fMsaOjus++PozXX1mDp3X0BhBBCiFahalGOBRwrm2ECFuGF6DIQUYg5QMRhcYxjYg0roIGQ64l4RcRwL65tIMoINzBH3Bnc/+dH/zJa6/TVBeKJ+wLXC+MWcuihR3RJD4PjuTZi0MCai+Wzp2C5JUxMSffuCQvMv0C01MlL/3wxWnLepznPlwyssFhwST9EL5Z1vhTwRcKeN+5OcTjOrPCITsQ7z+uxv4/xXzo4H5G64oor+2OAZ845Zvk988xTfb605845f/zTTX7KE3a+7JB/eXZmVW82eEdoVJE2edyIALcfI95wFEIIIUQ5VC3KEQD4SYfY539El1kyQxBCcRcArJom1rAChufdcUd3a20RuNc223Za6hEg/fu1W1anTJncYfVFdHH/NFFz6SUXehcIROkaa67lRSZCe8fv7xQd0S4I4+nBcaQF177wwsu6NAIeeeShaKlnEEem+L3TQMgyhY0jxLFtt8kEcRrDhi0TLVUGl4rPZ8zwjTObsI5vsUVnQyULc7WgQ2kowivB8yU/nX7Gb3MLVgOxyxcD+PVJp/p5s0E6mrvOqaee5ed5iDcwcGkRQgghRLnUdEhE/MCNuefOZ1mM+7Nussnm0VJtQLCGQt/E8D13d1qW4/7UEFrtEYW4QCDS8OFGCD311D98h8EsQv9ehNB6620QrTk3bdq0aKm1QXzj84w/NGlnE6OdHHnkodFRleGLQ1FhDXz9KNo3IfRN5wtEvCHZDJCue+3Znm9pIFbyJc8iyX1ICCGEEI2lZqIcK3BR8QPVnFOUXXfdI1pybvToP3jXkdA9Jck3+uhjjuvi+hIHtwg6zKURWsWT+HTap9FSa/OzQw/yaUV6mJsSU9joyQNfKIpSxKXDQKBaY4GvOM3YCZIw2jjxhLHSV41KVNPYEUIIIURtqZkoD63ARWC4wBAs0JVAVDMKCCN0MFX6HT1WRBPJWL3POus0vwyImqSGwXPPjnWrrLq690XG1QMhybGhbzjXSvMND33pARcB65AHST7bZRGGy0iK14CBA6Ml58aNeyVaSof4m+sJo52YmxITrkqXX/EHvy8P1VirbSzvvMTF7n77/cRvx7eckV+y4Pmaa0493UHSwsg7kLcPRvzZNqJhLIQQQohsqhblCA/GijY+/HBqR2XPnHWD49LEKx34ED2IGcZQDkc82WDDjaKlrjB+NaLEePCB+6OldH72syOjpc5OqfC9QGSH4L5A2BBAjK2NNR0B9Psrr42OaGf6jOnRUndwL0AoIegYBcQEKjDkoBEKOqaQcHtc7JGmti/+LLLOg3A0EcKFqOPY0df+oeOvkfFntswyncMv8qWhkvg0sUeDKO7HzLXPOft0v1wvV54ifu9pYpftuC1d/+c/+vU0Dj/s4A7XnHvvuSvaWlvSwgjk1bx9MML+DEW/WAghhBCiPlQ9Tnl8XG5AfDEyho3tHIKFmVEvIGmM8DjWQS/Jiod4RPwYCIukoeJCEIHxccuzzssTxjBOEA9XGnFBlZSWScTDG44ZngVW/iQXB8R32FCIgz913H0jPAc/70pjrlsYcV3ZZNPNXf/+A3wDID5uOfdae+11/fNG7DOUIuOpW2dL4mBgsbdjQxCtjORiY7CTXsOHrxntdf6HRUm+16HYJQ+HDbjwWll5LMwvfF2ptUtIVhiBdMrzHpC2m226YUfaJz1jIYQQQtSGUsYpB6voJ0+e7Och7777TrTUldAdxGBbmiBPYs4554yW0sFSixgOyTv6RxKE8czY9eIkxQ1xGgrynhCK2izSLNGEH4GXBGmF8I1zyCGdltU8Y64zKgj3wLLOOOM0WhC5jBWOW5B1wsXSi8sQIMhZN0EOLNsUHhty0YXn+/1cH2johOdZ5804CHlLS+bhOXatLGiMGQjjevhoZ4WRKS98sbHr8FySnrEQQgghGk9VlnKsbVOnTunmvoCIRpBg1UvaN2jQYD8PrYoIs+nTP3Pj33zTr8f/JMl1ksQ5LiGck2Y1TTqPbeZawHlJFkI7D7Fpv4PnpyzhWNqLLb54l1+12zlxSzljcyMeuQ73i/8W3s7Dih/+oj8NjiVt7LykdE4CVxV+lmPhDeHez4x92lulIf77e7tXSPxLSNKfJMPz4vdYbvkVfDxsv4na8LkTtyzC84ukY+ibXuQ8jrPwxdMEyz8NBcjzV80i1CqMrPNDrLCDM2O+FxliUgghhBDFaMhv9ntCXJQ345Bz1RAX5Yz33YqErhRGHleWVoW+EFjU4+5MzQLPi1FwQleluAuVEEIIIWpPae4rlcD6jP90CJ392FZpBJVmh86q1nHRIF5MlUbu6G1gjeVHPqHri/3Kvi8yccLbfh7+vr6Z4CuPBLkQQgjR3DRUlOPGEe/QiBsE2/KMoNLMMJRjvHMr8WIy15xWAmF+190PeB9qwFLeV+HPrnREbVb/7BEj1vcNKCY6dkqQCyGEEM1HQ91XsBinDS1Hp8ta+uI2GizlaWOs7//jUR2+vq0I7hGtHL9WAJ9yCP3MhRBCCFFfmt6nXAghhBBCiFanaX3KhRBCCCGEEN2RKBdCCCGEEKJkJMqFEEIIIYQoGYlyIYQQQgghSkaiXAghhBBCiJKRKBdCCCGEEKJkJMqFEEIIIYQoGYlyIYQQQgghSkaiXAghhBBCiJKRKBdCCCGEEKJkeu1v9m+79Wb31FP/iNY62fH7O7kVV1w5WhNFeeLvj7trrrnSHfLTw92SSy4Vbe3OxRf/zk2c8Ha01sn+Px7lFlpo4WitKx9OnerOOuu0aK2TOeec0x12+M+jNdHXOeP037iPP/44Wuvk0EOPcHMPGhStdSUtby08dBG3334/ida68/zzz7pL2vLyz4/+ZWq+Fc3Nv/71mrvqysvdFlts5db61trR1u5UW2dUkx9F74Ty4Po//zFa62T48DXdVltvG611p9q8dewvjnLLLru8G7nLD6MtlbH8HqfodUTjKPKb/V4rytdfby33zNNjorVOHvv7GInyKpgxY4Y7+aQT3Dlnn+HXb7ntTrfRRhv75TgcO++Q2aO1rrw94YPUiur+++9122y1ebTWyRbf28r98U83RWuiL1PrvLX7Hnu68y+4JFrrDpXpLiN3dKuutrobfd0NEua9jNHX/sHtt++P/PIZZ52b2QDb6QfbuTtuvy1a6+Te+x5OFfMIoFVWWjZa68oHkz91/fr1i9ZEK2DlQZzjjj8x03BUrR6x8yrl3ZC0MB7y08Pcib8+JVoTzUQRUV5z9xUKSTKaQaHGOi3QWoFVjIxMhdvWqOgySZAXByF0+GEHe0GOOKEgSRPk8O9/T/RzCqp4+mdZjt5/7z0/pxIMz8kS5ISNQmjUAfu62QfM4itWLFfkq2aBPI/FI2siHs0CaWfhKgJfUXiXeR71ApET5g0mIytvkV/Dc8jDsNhii/t5Gli/qBApT0buvENTPSeRDV/rTJBjRMgSNTxXBDkGgDCfMGVZ1ydPmuTnF1/y+27n5RXklJeUW5RhzZS/CAuNWcpT3mvCV893uxoocwgfZT8TZVY9w0h5ED7ja0df77cPG7aMn6fx0MNPdDkPbQKDBw/x8zTuuvsBX+ceduhBueMVDyN5H7Dmi95PTUU5YplC8pvfXDHa4vxnFiq8SpmzCFOmTvHzShWuqAwFM4L8qiuv8AUJhUSlhs1L/3zRzysVVHFefvmffj5knnn8vBLkp8023dBbBQgfULGecPyx3npVy4ZetViep0GTNTUDhJUKjrQrEiZEPKJi4++s59/lAQMHRnvqjzUAsQIVYfybb/p5njyKmOP6xO3ee+6KtopmBkGOkEHQvDJufKYRASwfLbXUMD/PywcfvO/n880/v58XhfKVxh7llpVhzYCV+3xdojwl7xM+ylrEeTOAAKfMIXwG5RZhxBDSCMaNe8XPl1t+BT/Piz3rSl/eaNhdfkV7XM4889SqGm1moJp33vn8XPRuairK77zzDj/fddc9/BwRwEtEhVfLz8LVikLRnZtvuqFDkJ9+xm9zWX/efe9dP19s8WKNoocfftDPs3zVQ54Z+7SvLMg/WD75XIwLAxZ6uOfudgtBmVgDMemrgYUTa0uZn7kp6KnEFhk6b5cKrpJlBSFDxYiIDz/7L7roYtFS/Znwdnu/BXzDi1C0MsU/GKgYRXNDY9wEeV6Xo7feGu/nRa2J5idcTZ434UsZBoS3zHIg5ILzz+ko92nUUF7Z1yW2WyOmLEg7tANfNrAEU+5T/ptVGENINQK2KOPHtzfuBw8a7Od5sLQza3klqA/ta93jjz8abc2P9e3Ka+wSzU2PRTkZkJYa08UXX+C3kTlYv/zyi/06HRBq+ZJXIwppIGBd4TOduUHY5yKEB/viYFVkX7if6/DJz9wp2BcWDuy3c5j4/AbEH2HEfQlDUkuf68TDyDrbCUtowYjfxya2A2GM74tblgkThRuVxYknnpK7wrBCoMjXD8JFoZO3oAJzd6EDF9Z7wocLwzbb7uC3jxnzlJ+XiTUQV1l1dT83yP8IYNJ24002i7aWAwW9PWcaCNZYqGRZuejC8zsqRlyOOB/yNqpqgVkqi96zaGVKviJvkkfN8lQ2vPeUUZQDlAeUC1Ye2PY4bA/feeD40A2AciReHofnWNkUL+s4n2vFSQqjnct2K5M4N7yPTVYuke7xfVZGG1zjwFH7+2UsjHmNPVaWFLUmFjUkGIQz/AIJ6623gZ83A3/5y61+jiHG0pAy1r5ITZky2c/LwvLn6qsP919BeD8p/1mmPIJaaoo0zOKd5ToXx9LumwVcab8XxenBB+738yLYV89GlsuijrS1kL+qdmqrqOkkmnvi+KTrFJ3aCjl/vbYWfuL++NTWwu44Jz61tVD9vK0w6nZemwjpOI7zuV+4zaYwXvE0aRNBfgq32RTeiyktjG0iys/Zb8cmpT1he3vCB36/nRNOY597ueP88BjCF26vNNn1kvalTdybc7hn0v6kiXNuue1O//zC7Y/9fYy/VtIza/REehOeeBjbKg4fxlrl+Z5MhI1nbHmDdCNsld4f9pP+LHMNziFe8ePqOVlY43m30sQ5TEn70iZ7T4u+D/Wakt5hJsoBy1/xcyy9bOIZJpUrYRw5JtzHNci3SWVd/DlY+RmfuKfdN+0+Ntk1yWvxfZb/bLJnxH3D7ZWmvHk+nHqS58N6xcqriy/5feKxjZ4oBwgPzzfcTnztmcfLs0ZPVmbFn5c9k0aE0eosnmHS/rSp2nLE4pW0L22yZxlqA03NNxWhR5by/gP6+5Y1k2Hr1pptyyx+va2CcUsvXRt3E2u95rWShJ/q+ETXlkj+kx3h4jMoYM2PQ+eNthfTL0+ePNn7BmJJ41MT1+EafE4LOwqxzPXbXki/fs89d3ofuLbCzncW4hzOZQrBupQURtLNXA5CH3q7j6Vz28vpw2stenqK23OxTkphSxrrVTWWXLNOEM4iVONyRHixjIQWfCxQJ5/0K7+MBb1sSG+z4htYCHH3IP2zOpE1CsJG5yDLG2ZZqfT+sN98de25F/XJ7SmvvTbOz/O+62CWbsv/eWkmn0wsxPZ+tgnkDtctyh7KCctfcRh9gXcdOJcyi+M5lutYmRW+86Qt51iZ9OGHU70vL1hZRznI+WEZgvXd3EjCMFLecE8mK5/A7kOZBpwTlkvkNSs3CS/7LP8Zo0e3W/G/v+NOfp6XvHk+pNo8T1lOulBGHn3McR39G5ZY4ht+XjaUA6Svr8tO/43/UkGZ9aM9dvHbeH5heVYGVmbFn9fVV//ezwl/vcNonXyTtEEW1fqhF61TQf3rWo8eiXLECJXA7nvs5dcpwFkPh+Xh8xjriMQin4DSsIIyqUJKgorDKjdcNKwTIy87Y2obaR157MWkEqTAoiKhYxjX4RrxSsMwX0QqJu6N7yNjiHIO51o4IPSRZLzkMIx77bWfX4YkQbvVVu1jp+J/HUK8zfVg2+3a3T1CXn21veAYuctuhQq3aj7NQbV+6CH2SbiZBG8cwvirE9obUfZeNBPmSlBto6qRPfxJS54170WRPFptZYqRoRmgUWFDnuGiQT4n/pSfu+3WPtoIpPnZWxlJeWVGBMpgrmNlVlJ6mngMyywr6xDO4ftGPjLhft75F3UJI+Uc50OSoF133fX9/NFHH/Jzg3CbAcN8/EPYT34g7xapS6rN89X4oSNurSy3PjpWFzSTz6/VfdSN63xrdd/hk7SlUdSsY11bY4e0DevuelFtJ19zq+RdK8LccxfXR+pf13rUpKPnLTff4OcmUBGZvOBUBkUq0zyYKMzb8euOO9o7qJ166lndCnJeGqs80jryvPHG69FS9ni2cczChyhmRJOsF9Q6LO633wHdjiPMVpkkCdr1N9jQz2++qd3CBIiZI4881C//+qRTE5+BxetbOeNjWMW9wPwL+HleXoj8RqsdhYeKNfTRxALVjGDJMSEUWhWbhQkT2/sDFLWs1KJRVRQTl0V9cautTC1vl82T/3jCz7FYxvMQ77IZJNLeQescC4isvOMfm4WPMrFSB8pHHmkX1Fi9QwODQWMfkgTtSiuv4ucIQsoq4zcnt38B+9nPjkwU3a+80v7Vcu21R/h5Xqq1JtoXl7xfUDCEIG4t/azcrdYvvV5QP/MFBShLyU9WD9LR2RoxzUQoyPN27u0p1XbyrcaQAPY1pwjVWuVF81K1KOclsc44FK7A8Iesm3sBQoz1Wg5fVFQUWkYfukh3EU+FgICCtJfchvGj8skryIEXEw45pPJnNut0s8aaneO7hyBEYejC3eNAuBH+HGOFKe46xCupUjcsXv37D/DzvNR7iKgkEGfbbPNdfw0qkLyjxDQaKnGrOIp+Xm8U9v4UtaxU07m3pzR6xIwyGh5J2LuZ5u6AewmkvYPWKKFcwAUgL9Y5FkFd6T21NE7LR5ZfktKSd9dcWF577VU/x13HGtxpYf5s2jQ/L9rYqtaaaHFIqjvihF8OKHuXGbaY7/jKZHWMrZvYLwPqPCzjhAkjEz/W4isKro+UrWy3UdSaAcKLhmi0IIdqGlP2bIsaEqr9mlPN6DCiualalPOSIHjD1p2tmyClkGX9nXfaLV61wCqDoqJwUEKmtQqByitN5NmLaSN+5MFeTAqRPELeCu2kMIQFeNon29CFBSsIjaQ0t5WeYp/mqhkiyix8RcD6FPrym2sU6RJa2ZoB+/VxmqWvGai2UWXveaMqROjpiBlFwzr62qv9fKmllvbzsklydyDPV2rgWhk5cmQxNwS7bpEGZZLoJoyWX9IacebC8ve299vcVgD3vUoUbWxZni/a2Cqa5ynf4pOJLMpj1mmMNPIdivPcs2P9nLI0XjdZHx1rFJaNfR3lOZCOJsgp+61OqRfkYeocnlsRqnWdM3fSom6h9s42a30jilO1KKcTDh17EJ5MrDPxsoN14mHK+j1tUYp2/LKXygojg5fOhtZK68gTvphFWstm4cMdJQ8U1mCfZ432yu10v2zHJBG6sFic0txWeop9mitSCBR1OTLwz7Qf1tA5zT7DM7Y6Y2dnjelKgW5fcviqk5dwSLn4cGxZhD78ea2TPN+ehrHoV6hGjLsLVJwWRp5jNRT92RSE72yR/M/z4zzes0rnkeYWN86rNfaemBtLCCIFeAfTwmllZJEO3Nb45xnnebdNdCCq4/Clzkgrp82FhYYQQ28CrjZ5ynUTPnmxPJ/0pTGNopZL0gyDQXzaZJPN/X4aSKxTF6Y9N/KuDcPLPC/kQcuPlcqD5yI3wqQvzebjv8GGG/l5GhZGJsKcB4xFdk6euIVfR3kGNnQj2yn7Lc+kEX7JzxvGECvzinbyNbfQop16r7nmSj9P66OWhIUxSxuI3kePfMoRulRkWAaBzE8hS4VYxNWjCEX9tTb89nf8nExPwQDMqdwIO1CJWSEcUu2LaRa+vC+mVXCIaqvkLYzWEsb6lxRGoLAizTmWOGW5rRhW8U+f/pmf58Eq7qKf5qrxQ6dQNf9MGnhhYWViLctihs8rIpnJ/NkrQf7FYmfn5bWscZ758B99TGVLn0Gjwu5lVto84Pdp5xX9lF+NZaWazr0IcQvj2Gfa37OicC4UaRBX+86ec077vSqN6MM7GP7BtR6d9yy+/PeB8oD8RXmAmLHnx3tucQ3h2Gp8Wk3o5vXXtrKNfGthJDyE0dwZwcqMOIQNqzHxIB0RXpUas/Yn2bCfTx6qyfPV9r2IU8QlivQj7UiPMA0rQd61/FiJlaJ3mDLE8g95mvKWe5JvVl1lNb89CZ6nhZHp87bnnodL2q5v58w+x5zR1mTIT+HXUVxsLC9bf4ksSzTxCb/kT436FBShWte5agwJvNvk0aLGvzxpIXofPRLlVpGNGNH+KRKRwYtU9LNpXqoRhXyKpaAh0+NLh08fc9YRe7QyqcT426Fd336WQYscfEES+QMy8YOMOBQE9tMfKm3Ayhuel2Z5xc2ESokw2TkWRgQ2BRPpGoYxjrmw8GLncVuxwjnJ0pVGtZ/mirockU4UqkC84+nI84CsAsw+WUPeijX8mkK+SOrAlgS/ZiecRc4Ba7xB3jxNhcW9gDxTybKC5SxMOyPclmTJtp/BMJEXgWcSnpfWSISwIVTNyAB27byWSqOaypT8RhnA86tkTLAOjoCoLFKJ5mXttdf18ba8P++Q2f0zQAxRFtiwgfgt27Oz58yxwLn2nGxKwp4z9wHKrvAcLI1JkE4mqi2MhCceRsrQtHIv/OFWHreVZZZpL48ff/wRP8+DCc+i1sRq+15AWBdYOWZ1T1JDyjDfd6AczwPXI+8C9Vylsp8vFJa3zO+deoVwcj4uIlmNl/ArBcfnaeiQHtRlwDnhCEJxiA/5ycq4eJlj+TTLGGEde428X9VDrJ4t6vJU1A+dxqx93S5i0IFqO7SL5mamTz/zg9YXgoxEy5WCBxcNG0KJ1vYDf7vP/f7KawtZabKwewEVENZThGqlYZvC83jRb28ruAjbu+++47bccmu3yaabewFFgUHHFvzeDxh1iD+ez68ff/yxX06CCj+06nAvWuOVPqnt+P2duoi2MIwsM3JH3jCG6ct+PvVRkDGecFKBEN4LWLcKnLGF0wrX8DwqfiptXEkqicHwPCp+Kg7cncIwJMF5iFwT8mnQMLA8EI8bkFfs72gMTZgnTWiMWeWRN00A6yCddW+55a+5z4EwjPG8YSTdy6xoac8a7DwEUaW0ZHgxKq7wXmlizJhzzjk73NKS4kZZYB3l7Ppxks4zqBQRdAi/0P0t6xzgvlTk8ZGS0s6jkUNFb4IkHs74eZaXOT7reVdDeC+WcdNCgJInEZW4FfDesc/eEYYOnK3tnErvTPi8DK5z8kknRGvJJJV1ecOIkYb8zfOnT088/e19Q8CnWcnD+4Glf568D/Z8aShUGoUmPM/es6z7GPEwUh6fddZp0VonPAPKb46NnwNYTK//8x/9sqVjnPh5ViYD48mnGQXC81imrqHhTPqTl6lvdh7ZPmRvSPx+vJfWdyaeN4z4OZRB1mcgq+7gvDz1KJDv7d3LCmNYT4TEz4lD+Yfxh3H9wzTJOo991Kk0qP74p5uire0kncc2+xqelD/zhjFPHhXlMrD/zNFSZaoS5WVhBVC8wu3rWOWWp7ESYgImLnzSqLYQwMJBwU8P/2aFihSLEWSJhDKxQh/yiIzejFXkRZ9FWmWaRCgW8pQpNO6xLkKz5pHegpU9WG1xT8iLiWyETx7jjz3jPIaEECtTsxrnzQCGMYwxNIjwWW9GrCFV9FmXCXUW0CcuL2mGhCSob4499iifx0iXakYUK2LsEuXSsqLcKlwEifkn42fI596+mCnDlnY1Lzbnb7bphr5QzyPyrAKwT9NQKf2toKISDd2a+CyYZtUpA6u881b2ZRBadRn7vpXyPFbCcJxw/oRLvq5k/cMaa0PlgYnsrMoUcY01jrIE8jbyqxWSohOeGVZa0jHt60QlTDDnKfOS6gygE2zWeSbKwrKOUYCayRjEO2OuZc3aeAgbss1q0UUgM3JZvByp9J5Tt4UuR3ypIq9VarBT1+DTT12at95OK+uSrPKi+WhZUW6iME5fs5zzUlsBALyYZ7ZVOkUrN6DQtE41ldLRKqo4WVZJczmK02yWcwQXrkP49TVTYyGEL0V0/uNHWK2U38OKO06W2EjLW5UqUxNqvDeMUpRXKODSwJCg1b5rfRlzzcDnlrKG958/gVbzroXGiEoCyKyJcbIs52ZISKKI5bTe0Eing3kzlwcWRgaDaNYvS/HOyUYlQ1WaHskyJIRfZPmyTR+APMaV8KteSN6v3KJcWlaUUwmHLUXoi5bysDDgpTQ/xWpBFD3dJjYqWY8oGOJUsh5RCIWd4ww6fcoPTgAiC5/oOJXyluXbOKutPjxTNCO66BDaV7+wlUEofGg0nXjiKT2y7FqeqfSsEYXWIc6oVGdUmx9F7yRu8TYYwCIrj6bpkUpuUpzHyGFF6r9qyzrRHLSsKBftIHTpYS5RK4ToDSB0ERYICDWEhBB9CYlyIYQQQgghSqaIKO/ROOVCCCGEEEKIniNRLoQQQgghRMlIlAshhBBCCFEyEuVCCCGEEEKUjES5EEIIIYQQJSNRLoQQQgghRMlIlAshhBBCCFEyEuVCCCGEEEKUzExftREtCyGEEEIIIUpAlnIhhBBCCCFKRqJcCCGEEEKIkpEoF0IIIYQQomQkyoUQQgghhCgZiXIhhBBCCCFKRqJcCCGEEEKIkpEoF0IIIYQQomQkyoUQQgghhCgZiXIhhBBCCCFKRqJcCCGEEEKIkpEoF0IIIYQQomQkyoUQQgghhCgZiXIhhBBCCCFKRqJcCCGEEEKIkpEoF0IIIYQQomQkyoUQQgghhCgZiXIhhBBCCCFKRqJcCCGEEEKIkpEoF0IIIYQQomQkyoUQQgghhCgZiXIhhBBCCCFKZqav2oiWhRBCiJZli2t3iZZamzt2uTZa6qTV4t4X4phGUtxFayBLuRBCCCGEECUjUS6EEEIIIUTJSJQLIYQQQghRMhLlQgghhBBClIxEuRBCCCGEECXTkqOvfPpw3+iBPft67T2wFd/WxOIrhKgNGn2lddDoK6IVkaVcCCGEEEKIkpGlvBcjS3lrI0u5ELWlEZbUJWdf1C08+wJuxfmXc5/9Z7p7fep498KUV9yULz6Kjqg/jbAib7DgWj6OWXwwbbL747jborXa0mhL+U7DtnLzDhwSrXXGLSkd/vra/e5fn74VrdUeWcpbF1nKhRBCiBpw1Jqj3G+3OtkdvuGBbtNlN3LbrbSlXz5t4196sd5KIESJY9a07uJrRUf3fohLUtyS0oFGmRDVIFEuhBBC9JCDVt3TjVjyW+7z/37h7n75fnf6A+f5+UfTP3bzzzmfO2Tt/aIjW4un337WxzWcXnr3Fb9v6vQP/bwV+P3To33cbnruL9GWdrCKW7zf+/j9aKsQ1SFRLoQQQvSQc5+5wgu2fW891C8/+M4Tfn7cfaf6/YsPaS1LuTH5syk+ruG0xJDF/b6/vf6In7cCT09+0ccNd6QQ3FQs3jP++3m0VYjqkCgXQgghasDlL/6xm+94PX2Ly+T5917yXwKYh+B7PdvXZ3VvTm4Xq0KI/EiUCyGEEHUCkQqt5tqA4LYvAiFbLr+Zn9/96v1+LoTIj0R5Fcz44kt3/1PvutF3v+mOvWisn257eIJ7Z9L06IjW4YkXJnXEMW0iHVqFtLglpYMQQmSx2pAV3I4rb+OXb3nxDj9vZRiJZK7+c3o/+r+MlygXoigS5QVBeB/x2zFu28MecPuf/Hf32+te9tOuxz7iRv7iEff8v1qnYwt88OHnHXFMm15+s3FDfdWbtLglpYMQQqSBID/624d6V44/PPWnPiFSd/hm+1eBv/zzLj8XQhRDorwgb7/3mbvqjtfdL/dZyb1ywzbuk4dG+jnrz7wyxV1607joyNbimhNH+LiG0xmHrO73DV+uc+zW3o7F7Zlrtoy2tLPVekM79h2887LRViGE6E5ckNdrrO5mgjjTmZXRZ+596+FoqxCiCBLlBVnrm/N4EX7Yrsu7Befp77cxP2DHZfwygr0v8OEn/3GHnTPGL2+85oJ+LoQQfR1cOPqaIIetl93czx/616MN/VGSEK2ERHkVmBjvC4xYeT5vNWYe8siz7Z2WsJb3m3VmvyyEEH0ZOnXys6C+Jsj5MdJqi6zslxm3WwhRHRLlNeIPf223kJtLR6sw9xz/55YcOrufG3R0Peva9mGwdtxoMT8XQoi+DO4bPxz+g2jN+WV+hx5O5296crS3tdhhuXZ3P34k1KpDQArRCCTKawAjc+DKseoyg90Pv/uNaGvr8vjzH3j/eXyrQ7EuhOg5M2bMcI899pgbN672/VPuueceN3HixGitOjif64iuzP5/A/3Y3FnTxI/eiY7u/Qyeda5oqW15wNw+flc/++doS+th8f30P9O6PMswHdjGPo4RohokynsIQyNuMupeL8hH/3pEn3DluOyW1/x89y2W9HMhRDII7JlmmqnLdP7550d7k5kwYYJbd9113dJLLx1t6TmE44gjjnCbbrqpGzVqVLS1Ok444QR/nX322cdNnTo12ioYr3vU3UdnTqf8I/vZ9yZCv/HD/3aij18rW8ktvvzZM3yWYTqwjX0cI0Q1SJT3gEtuHueHRjRB3hd8zfkqcMejE9sE+Te8W4sQohhvv/12tFQ9WKtN5FcCQX7QQQe5008/3a+vscYafl4tI0aM8PPLLrvMbbbZZv76Qggheo5EeZUgyM1lpa8Icrj2zjf8fJfNl/BzIUQ6/fr1c1999ZWfDj/88GhrNsOGDXOvvvqqt5inMX16/h+V3XnnnV5Aw6OPPuqOPvpov1wtu+22m78OPPXUU+7ss8/2y0IIIXqGRHkVmCCHY/de0U3//Ev3rwmfdkwMF9iKEDeGfNxi3YX90JBC5AWXDdwnmPCVvummm9w222zjXSBYNli24/Crvvrqq/1xrIfH5QX3CrueTdw/DA8T9zK4J9u4L8sci3X52Wef9fvDMLKNdeJhcanWckwY7LqIaO6dBOEfP358tNa+blP83sR/++2398tXXXWVW2eddfxyT+E6d999t18+5phj/L2FEEL0jJm+woTTYnz68C7RUu1BmK6661+itWT40Q4/m6k3s693rZ/XM74hZ1zzT/erS59rWPziNDK+9pzpzHri/qtEW9vhF/v80ZMfCdUTi28rgKjFqgrDhw/vWDYQeJtssokXpOZmkcR5551XyCcasRj3zb7xxhvdKaec0iUMbNtuu+28AD/wwAOjrV2xY8IwJsXlpJNOSrRG23lYzE877bRoaycIehPQRrx4poMl/txpxO+NsN999919OB966CFvua8lNFxuvfXWws+lLLa4tjFlZdkw0kucVot7X4hjGklxF62BLOUF6T/bzF6UZk3LLd7ZG7u3w/CHxrBF5vDxa+WfBVl8B885q4/rFuss7NfDdGAb+0R+EJwIN0DE7r333t4FYuutt/bbzNKK77MdB4hMjjPXDwRzEausuYIYXG/zzTd3l1xySbSlXWxvsMEGfvm+++7zc8KFIObcuNvJUUcd1S0uY8eO9dcGLMdmVS8CYeB+ZoFOYrHFFvPh4Z4G6zatvnrXIVlffLG9wxkuJ7UW5EAjBZ577jk/F0IIUT0S5QXBdxwrcdbUSh0gw9FkLH6tPMKMxY2hHomruemEcWYb+0R+Fl54Ybfggp2NueOOO867QCCawTo/hsdh3cXqy3GM+GGErht54B4mom+55RYvTp9//nm/zj0QloMGDfLriFfA+ksnSqzbgOuHCVCODeNy7rnnupVXXtn99Kc/jbY498Yb7X0visB1CSvCOw32Y2UPGwqs28TXhiTC8NaSgQMH+rn5rAshhKgeiXIhREPBCo34rsRKK60ULbV3mDSmTSs+BjBuFoBlG99tG5YQq3cIVvTQCo04x+UEFxCs/XGIi4UtDOM777TOeNRCCCEag0S5EKKhmHW8Elhf7Uc3oTvIfPPNFy11gs86lm0T33FoBJh1GYu2+YGb24rBSCU0BnBHYcK1BWu67YuDaLcwhj/lyRvHWmCNBTp1xn/qM9dc7a50SWGvBdb4CC33QgghqkMdPXsxje7oWTZ9Nb6tAMKRToeIWEQuFuollljC7bvvvl4gs42OgriPxDs8IvjCjpV33XVXh7uJEY7XnVakYSHnpzxGUudE64zJfcyVxTp+hp0o84aRxsTo0aP99gcffLAjrtYYGDlypHd9AXOV+fDDDzvcQUzsLrLIIl3CigAfPHhwtOa8dd/OYShF+xIRdgwNt9eCMAy491h6CSGEqA5ZyoUQdeeJJ57wghwQpqzjd20Wa+Zx9xDEK5jYhWuuuaabIA+xc5LAN906lkKa/zUQHsS4CfJQpIewnSkMI+N2WxiJI/uYwrjattD33LaF/tm2LT48ItdHCFt8QxHfv3/nPxP40Y/FGb/8Wv7ohxFsgDDsuOOOflkIIUT1yFLei5GlvLVpFUs5QpBp8uTJ0RbnhgwZ4n2wwx/kICaxvOJqgRUagYlF/eWXX3YDBgzosCgD1wt9uHEd4Yc6XCO0BsePw7qLxXqFFVbo4mJixzGyCx1JEbNTpkxxTz75pD926NChHdfh2LQwMvxieBxk/QTI0sHunYaljV3b4B7PPPOM++yzz/zIK9YYCOMdDguJRf3UU0/NbNgkEV6PZTrq0lgA3HzCZyOEEKI6JMp7MRLlrU2riPIimLsHgg8LL9Zp3FyaSfT1hjDGCd1tsGzT2KgWG5scklyAQnAZ4lh82/HljzcqhBBCdDLz8W1Ey00BFq/33nvPW6nCCUvR17/+9eiodrDYvPnmm92OnX3aQ9ERrc2kmdd0c8wxh/vPW8X/dNgbeeuLb/ap52vxLZL32U6e6K2cddZZHRZYxuz+85//7OOz8cYb+23NQG8IY5xll13Wi2ms6viz9ySs//nPf/zQkowfv8MOO0RbkxkzZow7+OCD3d/+9jf3/vvv+/vG87IQQogILOXNxOGHH47lvtvUVvlFR3TCtqRj06Ybb7wxOrMrScdmTUlw7aRj06ZaxIe0SiItDdOmJGoRH0g6Nm2qZ3zKyCu1ik+RvJJ2z95Cm9DzaR9OY8eOjfY2B4Sn2cOYxvTp06OlntHWAIyWsrn77ru75M+99967ZmEQQohWQx09hRBNA50x+UlPODWbWwjhafYwplEr95G8Pul0pg3/0EqHVP7ayhcdIYQQXWk6n3IbkizOq6++2m3s37ADU8gnD42MllqbE29fyP/Fr6/4WM+xfvvQcn3l+Vp8i+T9ww8/3OcJIZoJftZkI9kAHU75E6p8zIUQohN19OzFqKNna9MXO3qK1kXCXAghspH7ihBCiLrDKC1yZWk9GI2I0X1s0vMUonokyoUQQjQECfPW44ILLvDDbdqkZylE9UiUCyGEaBgS5q2F/U0WeK5Ff0wlhOhEolwIUXPoiDrTTDNp0pQ4hb7lgLA7++yzozXRW4j/hZbRdoQQ1SNRLoQQonQ++uijaEk0K/GvGZMmTYqW2kd+io8SJYQohkS5EEIIISoSHynn9ddfj5ac23rrraMlIUS1SJTXiBlffOn+NeFTP7UqFsf7n3rXPf+vD92Hn/wn2tPahPFmzrrIBosZo61q0pQ08Yv+kOHDh3u/ctG7ePHFF/0cQc6Pv4QQPUOivEac/Pvn3aq7/sU9+dLkaEtrgSCdb5M/+Thue9gDbt297nSLbnmDO/aisS0rUonXGdf8s0u8mbM++u43o6OEEEV47LHH3LrrrhuttQtyhtJbeOGFoy2it7DIIot4Qa4flglRG/TzoBpw28MT3K7HPuJ23+Ib7rwj1oy21p9G/UzniRcmuU1G3etWXWaw23e7YW6Fb8zlJn34ubvlgbfdVXe87n65z0rusF2Xj46uH43+edCBp/3Dx2+LdRd2O2+6uBvQbxY39tWp7vZHJrpnXpnibj5jQ7fR8AWio2uPfh4kWg0JciGESEeW8h6CGweCHMF62sGrR1tbi0ef+8DPD91lOTeyTZyuuOTcXoz+av9V/PZfXfpcS1rLeZ7XnDjCXfHLddxW6w31cabxQToAAl0IkQ8JciGEyEaivAfgU33Q6U/65ct+sbbrN+vMfrnVmGPA16OlvgXPEzEef67LLT6Xn388rW/41AvRUyTIhRCiMhLlVYJl+JcXje1wY1hy6OxepLdiR8Bvr97uonHWtS95X2rr9Ej8AfeVVm2QJPG3Me/6+dD5Bvi5ECIdCXIhhMiHRHmV/OGvr3f4U5tf8SPPvu87Av77g+l+vVWgwXHR0d/yDZD9T/57R6dH87duhD95s4B//WHnjPHuSjtutFi0VQiRxLPPPitBLoQQOVFHzyrASowopWMnfsdmJbYOn89cs6UXsvWmUR0fLV4I0e+NWNgNW2QO996UGe6BMe+5Ox6d2LAOro3u6BnHOrzCKzds4xacp79frhfq6Cl6Owjw7bff3i83gyCf+JMR0VJrs/DvHvFzxbc1sfiK1kOW8oLgooIgh8kff+GHQmRYQKbromHyfnvdS34dEdcK4LYC+M1jFcfPet9th7nrTlrPW8qxmNPhtZUJR6B59PLN6y7IhWgF5ptvPv+nRyZZyIUQIhuJ8oJMaRPiBlbi3173csfEOiBSWf/gw8/9em/mnUnTvdsKYjTJ+r9lm0CH8e9M8/NWJBTko389wo8+I4SoDD+UYQxrJglyIYTIRqK8IAjTTx4amTgxfB7gvsI6FuXeDhZhrOEIc9x2QujQeslN4/zyYgsO9PNWIy7IZSEXQgghRD2QKBcV2Xubpfwct52dj3nY/+WSH+vwZ0vEOj7lrWg9xiXHfMgXGNLPXXjjqx2uSjbxJUEIIYQQoqdIlBekFX+SkwXxZXQZrP8H77yse3fyDP+zIFx0WOfrQCP/YtooiHfokhN3VbJp+ud9Kz8IIYQQoj5o9JVeTNmjkTSavhpfIURt0GgkrYlGXxGtgizlQgghhOgxXx+2drTU+syy4LLRkhC1Q6JcCCGEqBNz/ODn3rI53/F/jra0FgjxeX5+VXscDznVzxc45S9u9q0Oio5oHWZdZbOOuM7/i0s64jpg4z2jI4ToGRLlQgghRB3ot8733Rzrf9f9vy8+d5POOjDa2jogUhHisw5dwv33g3fdtCcfdJ+/9qKbeY653Jyb7ejm2uPE6MjeD42MefY5piOuX0x4w335yUc+rnNv+6OWbISIxiNRLoQQQtQY3Bvm3mEfvzzl6jPd//vkfb/cSvRbaR0/n/7CU+7947/vPrryWDf57B+7SZee5Lf3X2ktP28FPn9ljBfhU649z8d10m92d+8exfDHf/X7+6+6rp8L0RMkyoUQQoga8rU55nOD9z3BfW3W2bxo+2LsXdGe1mKWuYf4+Rf/etHPjf++PtZ/HSD+reJ7/d9xj3sRPuOxrm5I0+68ws+/Pu8Cfi5ET5AoF0IIIWrIXLsc6UUarhyf/Ok30dbWY8aLT/n5HBtt611ZAB9z4o8gx83jf++87Le3Kl//xip+TlyF6CkS5UIIIUSNoNNf/28O964OUy8/3m+zzp4mXFuFz+69wvuR41eNv7V19uyI/+hzoiNbE76IzLV1eyfPaY+15tcQ0VgkyoUQQogagJWYTn+4bky+4jct6UceQkdW8xsnztb5ERDqA9be3C+3IgjyeQ49z38RwaeeBooQPaUlfx4khBBCxKnnz2UQafMdfZkXo7gyzHh5bLTHuVmXWMaP2oF4+9/USe7Lqe/XVcRhsYZ6/0yH4QCJL37zoZsOfuTzHn6ud2Gh02e9feobFV8jLsinXnhotKcxWHxF6yFLuRBCCNFD8C1GoPrlNrHGUIg2IcgBtw7W+6++vl/vzSC8iS8W8rjfPH7k0597wi/POqzd57pVKFuQi9ZGolwIIYToIYw4glU4aUK8wcd3Xe/XP7rxYr/em0F42wgrSb7y/ZZZ2c/5KtAq4J40/wnXSJCLuiH3FSGEEH2CRrk3xKGjJxZyBHkjhkdslDsHPwcauMYG3o/8i7de80Mjfn2hxd2siy3thSui/b3jdq27b30j4hu65BCvaU/8LdrTyRfjxjb0+YrWQ5ZyIYQQQhSGnwXhT44bC645dHJFpCPI8av/4PSDWqaz68zzLeoFOTAP3ZNsajVXHdF4ZCkXQgjRJ6inJRVf4zQB6v2v20Sd/6lOA0RqIyzH8fji2vG1AXP45UbF02iUpZxnmMWX77/VkHHZZSlvXSTKhRBC9Anq7c7RLDRCpDYTfTW+ovWQ+4oQQgghhBAlI1EuhBBCCCFEyUiUCyGEEEIIUTIS5UIIIYQQQpSMRLkQQgghhBAlI1EuhBBCCCFEyUiUCyGEEEIIUTIap1wIIYQQQoiSkaVcCCGEEEKIkpEoF0IIIYQQomQkyoUQQgghhCgZiXIhhBBCCCFKRqJcCCGEEEKIUnHu/wM/TbISVIW++QAAAABJRU5ErkJggg==)"
      ],
      "metadata": {
        "id": "32F12TQIggjN"
      }
    },
    {
      "cell_type": "code",
      "source": [
        "a = np.arange(16).reshape(4,4)\n",
        "print(a)"
      ],
      "metadata": {
        "colab": {
          "base_uri": "https://localhost:8080/"
        },
        "id": "jLT95hKOKNPD",
        "outputId": "a04bc4f8-b3ff-43bc-bbd4-b774e5ff5fe1"
      },
      "execution_count": null,
      "outputs": [
        {
          "output_type": "stream",
          "name": "stdout",
          "text": [
            "[[ 0  1  2  3]\n",
            " [ 4  5  6  7]\n",
            " [ 8  9 10 11]\n",
            " [12 13 14 15]]\n"
          ]
        }
      ]
    },
    {
      "cell_type": "code",
      "source": [
        "# By default it takes Vertical split based on rows\n",
        "b = np.split(a,4)\n",
        "b"
      ],
      "metadata": {
        "colab": {
          "base_uri": "https://localhost:8080/"
        },
        "id": "QP3HJk0wKRt7",
        "outputId": "b1c4b1ae-b6ce-47cd-8a44-1aa9094ea8c2"
      },
      "execution_count": null,
      "outputs": [
        {
          "output_type": "execute_result",
          "data": {
            "text/plain": [
              "[array([[0, 1, 2, 3]]),\n",
              " array([[4, 5, 6, 7]]),\n",
              " array([[ 8,  9, 10, 11]]),\n",
              " array([[12, 13, 14, 15]])]"
            ]
          },
          "metadata": {},
          "execution_count": 653
        }
      ]
    },
    {
      "cell_type": "code",
      "source": [
        "b = np.hsplit(a, [1,2])\n",
        "b"
      ],
      "metadata": {
        "colab": {
          "base_uri": "https://localhost:8080/"
        },
        "id": "FfIB1-fuKjDT",
        "outputId": "bc79d912-50bb-4cad-df1c-8f100a2eab63"
      },
      "execution_count": null,
      "outputs": [
        {
          "output_type": "execute_result",
          "data": {
            "text/plain": [
              "[array([[ 0],\n",
              "        [ 4],\n",
              "        [ 8],\n",
              "        [12]]),\n",
              " array([[ 1],\n",
              "        [ 5],\n",
              "        [ 9],\n",
              "        [13]]),\n",
              " array([[ 2,  3],\n",
              "        [ 6,  7],\n",
              "        [10, 11],\n",
              "        [14, 15]])]"
            ]
          },
          "metadata": {},
          "execution_count": 654
        }
      ]
    },
    {
      "cell_type": "markdown",
      "source": [
        "## <font color=\"orange\">**11.4) Merging**</font>\n",
        "\n",
        "- `np.vstack((array_1, array_2,...))`\n",
        "- `np.hstack((array_1, array_2,...))`\n",
        "- `np.concatenate((array_1,array_2,...), axis = 0)` - Vertically concatenation\n",
        "- `np.concatenate((array_1,array_2,...), axis = 1)` - Horizontal concatenation"
      ],
      "metadata": {
        "id": "_PZMuTtGLfLH"
      }
    },
    {
      "cell_type": "code",
      "source": [
        "'''\n",
        "# Stacking\n",
        "1. vstack() ---> Row wise\n",
        "2. hstack() ---> Col wise\n",
        "'''"
      ],
      "metadata": {
        "id": "VVF3eRhQLeof",
        "colab": {
          "base_uri": "https://localhost:8080/",
          "height": 36
        },
        "outputId": "68393fa0-c93e-4353-850b-5c4e209aeef9"
      },
      "execution_count": null,
      "outputs": [
        {
          "output_type": "execute_result",
          "data": {
            "text/plain": [
              "'\\n# Stacking\\n1. vstack() ---> Row wise\\n2. hstack() ---> Col wise\\n'"
            ],
            "application/vnd.google.colaboratory.intrinsic+json": {
              "type": "string"
            }
          },
          "metadata": {},
          "execution_count": 655
        }
      ]
    },
    {
      "cell_type": "markdown",
      "source": [
        "### <font color=\"morange\">**11.4.1) V Stack**</font>\n",
        "\n",
        "\n"
      ],
      "metadata": {
        "id": "KLd_-5Qinbf-"
      }
    },
    {
      "cell_type": "markdown",
      "source": [
        "![image.png](data:image/png;base64,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)"
      ],
      "metadata": {
        "id": "DnlFvq1GnDV_"
      }
    },
    {
      "cell_type": "code",
      "source": [
        "# Creating two arrays\n",
        "a = np.arange(5)\n",
        "b = np.arange(5,10)\n",
        "print(a)\n",
        "print(b)"
      ],
      "metadata": {
        "colab": {
          "base_uri": "https://localhost:8080/"
        },
        "id": "yastVUsfTVnC",
        "outputId": "4e6345a3-f1ac-4899-88b0-5d3d3e0fa121"
      },
      "execution_count": null,
      "outputs": [
        {
          "output_type": "stream",
          "name": "stdout",
          "text": [
            "[0 1 2 3 4]\n",
            "[5 6 7 8 9]\n"
          ]
        }
      ]
    },
    {
      "cell_type": "code",
      "source": [
        "# Vertical stack\n",
        "vertical = np.vstack((a,b))\n",
        "vertical"
      ],
      "metadata": {
        "colab": {
          "base_uri": "https://localhost:8080/"
        },
        "id": "wcBj2BUTTZnx",
        "outputId": "771f3c6b-0d1e-412e-df58-51905cc9e966"
      },
      "execution_count": null,
      "outputs": [
        {
          "output_type": "execute_result",
          "data": {
            "text/plain": [
              "array([[0, 1, 2, 3, 4],\n",
              "       [5, 6, 7, 8, 9]])"
            ]
          },
          "metadata": {},
          "execution_count": 657
        }
      ]
    },
    {
      "cell_type": "code",
      "source": [
        "vertical = np.vstack((b,a))\n",
        "vertical"
      ],
      "metadata": {
        "colab": {
          "base_uri": "https://localhost:8080/"
        },
        "id": "d-9F4-iLT5Ic",
        "outputId": "bf0d86f2-9806-4360-f57d-f47c0237e524"
      },
      "execution_count": null,
      "outputs": [
        {
          "output_type": "execute_result",
          "data": {
            "text/plain": [
              "array([[5, 6, 7, 8, 9],\n",
              "       [0, 1, 2, 3, 4]])"
            ]
          },
          "metadata": {},
          "execution_count": 658
        }
      ]
    },
    {
      "cell_type": "code",
      "source": [
        "vertical = np.vstack((b,a,b))\n",
        "vertical"
      ],
      "metadata": {
        "colab": {
          "base_uri": "https://localhost:8080/"
        },
        "id": "CoIMqUuqkyvt",
        "outputId": "ed8209b6-2d4e-4acc-e29d-0cf6041ff579"
      },
      "execution_count": null,
      "outputs": [
        {
          "output_type": "execute_result",
          "data": {
            "text/plain": [
              "array([[5, 6, 7, 8, 9],\n",
              "       [0, 1, 2, 3, 4],\n",
              "       [5, 6, 7, 8, 9]])"
            ]
          },
          "metadata": {},
          "execution_count": 659
        }
      ]
    },
    {
      "cell_type": "markdown",
      "source": [
        "### <font color=\"morange\">**11.4.2) H Stack**</font>\n",
        "\n"
      ],
      "metadata": {
        "id": "-Cs29aA3njSd"
      }
    },
    {
      "cell_type": "markdown",
      "source": [
        "![image.png](data:image/png;base64,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)"
      ],
      "metadata": {
        "id": "e9iy8Ks5nVT-"
      }
    },
    {
      "cell_type": "code",
      "source": [
        "# Creating an array\n",
        "arr1 = a.reshape(5,1)\n",
        "arr2 = b.reshape(5,1)\n",
        "print(arr1)\n",
        "print(arr2)"
      ],
      "metadata": {
        "colab": {
          "base_uri": "https://localhost:8080/"
        },
        "id": "lo3moGFQmKhh",
        "outputId": "872282e1-ba65-4ef0-a57b-55695ab915de"
      },
      "execution_count": null,
      "outputs": [
        {
          "output_type": "stream",
          "name": "stdout",
          "text": [
            "[[0]\n",
            " [1]\n",
            " [2]\n",
            " [3]\n",
            " [4]]\n",
            "[[5]\n",
            " [6]\n",
            " [7]\n",
            " [8]\n",
            " [9]]\n"
          ]
        }
      ]
    },
    {
      "cell_type": "code",
      "source": [
        "# Horizontal stack\n",
        "hprizontal = np.hstack((arr1, arr2, arr1))\n",
        "hprizontal"
      ],
      "metadata": {
        "colab": {
          "base_uri": "https://localhost:8080/"
        },
        "id": "l2fQwi5ZmW6A",
        "outputId": "934b92fb-6896-454e-de1d-09bd0afd2922"
      },
      "execution_count": null,
      "outputs": [
        {
          "output_type": "execute_result",
          "data": {
            "text/plain": [
              "array([[0, 5, 0],\n",
              "       [1, 6, 1],\n",
              "       [2, 7, 2],\n",
              "       [3, 8, 3],\n",
              "       [4, 9, 4]])"
            ]
          },
          "metadata": {},
          "execution_count": 661
        }
      ]
    },
    {
      "cell_type": "markdown",
      "source": [
        "### <font color=\"morange\">**11.4.3) Concatenation**</font>\n",
        "\n"
      ],
      "metadata": {
        "id": "v3su-QhLnqda"
      }
    },
    {
      "cell_type": "code",
      "source": [
        "'''\n",
        "# Concatenation\n",
        "\n",
        "axis = 0 ---> Concat operation is performed Vertically\n",
        "axis = 1 ---> Concat operation is performed Horizontally\n",
        "\n",
        "'''"
      ],
      "metadata": {
        "id": "Xg2-YjZ5T-D2",
        "colab": {
          "base_uri": "https://localhost:8080/"
        },
        "outputId": "6f19c0aa-2d34-49d1-a9ad-a43be6449f84"
      },
      "execution_count": null,
      "outputs": [
        {
          "output_type": "execute_result",
          "data": {
            "text/plain": [
              "'\\n# Concatenation\\n\\naxis = 0 ---> Concat operation is performed Vertically\\naxis = 1 ---> Concat operation is performed Horizontally\\n\\n'"
            ],
            "application/vnd.google.colaboratory.intrinsic+json": {
              "type": "string"
            }
          },
          "metadata": {},
          "execution_count": 662
        }
      ]
    },
    {
      "cell_type": "code",
      "source": [
        "a = np.array([[2,4]])\n",
        "print(a)"
      ],
      "metadata": {
        "colab": {
          "base_uri": "https://localhost:8080/"
        },
        "id": "asND1USlVJr_",
        "outputId": "b11ccf16-5284-4fc5-c594-44c48504e0da"
      },
      "execution_count": null,
      "outputs": [
        {
          "output_type": "stream",
          "name": "stdout",
          "text": [
            "[[2 4]]\n"
          ]
        }
      ]
    },
    {
      "cell_type": "code",
      "source": [
        "np.concatenate((a,a), axis = 0)"
      ],
      "metadata": {
        "colab": {
          "base_uri": "https://localhost:8080/"
        },
        "id": "nQb5D5QXVP8t",
        "outputId": "b67912c6-95fe-4150-f355-2d34304fe3d7"
      },
      "execution_count": null,
      "outputs": [
        {
          "output_type": "execute_result",
          "data": {
            "text/plain": [
              "array([[2, 4],\n",
              "       [2, 4]])"
            ]
          },
          "metadata": {},
          "execution_count": 664
        }
      ]
    },
    {
      "cell_type": "code",
      "source": [
        "np.concatenate((a,a), axis = 1)"
      ],
      "metadata": {
        "colab": {
          "base_uri": "https://localhost:8080/"
        },
        "id": "yBEW1nr4VY9h",
        "outputId": "9bf952e8-b5b9-4f16-8d33-afd677c0b2da"
      },
      "execution_count": null,
      "outputs": [
        {
          "output_type": "execute_result",
          "data": {
            "text/plain": [
              "array([[2, 4, 2, 4]])"
            ]
          },
          "metadata": {},
          "execution_count": 665
        }
      ]
    },
    {
      "cell_type": "markdown",
      "source": [
        "# <font color=\"red\">**12) Argument based function**</font>\n",
        "\n"
      ],
      "metadata": {
        "id": "vdJolstTWCNa"
      }
    },
    {
      "cell_type": "markdown",
      "source": [
        "- `np.argwhere(array_name)` - Get the index of the non zero elemant\n",
        "- `np.argmin(array_name)` - Get the index of the min value of an array\n",
        "- `np.argmax(array_name)` - Get the index of the max value of an array\n",
        "- `np.argsort(array_name)` - Returns the index that would sort the original array"
      ],
      "metadata": {
        "id": "SkQZ7hKlSLXt"
      }
    },
    {
      "cell_type": "code",
      "source": [
        "# For 1D array\n",
        "a = np.array([2, 0, 5, 4, 9, 4])\n",
        "a"
      ],
      "metadata": {
        "colab": {
          "base_uri": "https://localhost:8080/"
        },
        "id": "R_u2AlJ3WJSm",
        "outputId": "92deaaf2-6ae3-4c75-d231-f33f506fe5eb"
      },
      "execution_count": null,
      "outputs": [
        {
          "output_type": "execute_result",
          "data": {
            "text/plain": [
              "array([2, 0, 5, 4, 9, 4])"
            ]
          },
          "metadata": {},
          "execution_count": 666
        }
      ]
    },
    {
      "cell_type": "code",
      "source": [
        "# Get the index of the non zero elemant\n",
        "ans = np.argwhere(a)\n",
        "print(ans)"
      ],
      "metadata": {
        "colab": {
          "base_uri": "https://localhost:8080/"
        },
        "id": "-CL0zPU_WopA",
        "outputId": "02f1f63b-9038-4c65-dada-b78eda150a51"
      },
      "execution_count": null,
      "outputs": [
        {
          "output_type": "stream",
          "name": "stdout",
          "text": [
            "[[0]\n",
            " [2]\n",
            " [3]\n",
            " [4]\n",
            " [5]]\n"
          ]
        }
      ]
    },
    {
      "cell_type": "code",
      "source": [
        "# For 2D array:\n",
        "ddarray = np.arange(9).reshape(3,3)\n",
        "ddarray"
      ],
      "metadata": {
        "colab": {
          "base_uri": "https://localhost:8080/"
        },
        "id": "96HpvvVxXvx9",
        "outputId": "847a7a7b-fda1-4c81-fce7-7f5ec9b27ffe"
      },
      "execution_count": null,
      "outputs": [
        {
          "output_type": "execute_result",
          "data": {
            "text/plain": [
              "array([[0, 1, 2],\n",
              "       [3, 4, 5],\n",
              "       [6, 7, 8]])"
            ]
          },
          "metadata": {},
          "execution_count": 668
        }
      ]
    },
    {
      "cell_type": "code",
      "source": [
        "ans = np.argwhere(ddarray)\n",
        "ans"
      ],
      "metadata": {
        "colab": {
          "base_uri": "https://localhost:8080/"
        },
        "id": "LOpw687fYVhE",
        "outputId": "dd794f23-448d-457b-9ab3-68961ae31981"
      },
      "execution_count": null,
      "outputs": [
        {
          "output_type": "execute_result",
          "data": {
            "text/plain": [
              "array([[0, 1],\n",
              "       [0, 2],\n",
              "       [1, 0],\n",
              "       [1, 1],\n",
              "       [1, 2],\n",
              "       [2, 0],\n",
              "       [2, 1],\n",
              "       [2, 2]])"
            ]
          },
          "metadata": {},
          "execution_count": 669
        }
      ]
    },
    {
      "cell_type": "code",
      "source": [
        "# Get the index of the min value of an array\n",
        "min = np.argmin(a)\n",
        "print(min)"
      ],
      "metadata": {
        "colab": {
          "base_uri": "https://localhost:8080/"
        },
        "id": "OsXpez5sW7Gj",
        "outputId": "1405e9f2-766a-452a-a510-473196ee6d47"
      },
      "execution_count": null,
      "outputs": [
        {
          "output_type": "stream",
          "name": "stdout",
          "text": [
            "1\n"
          ]
        }
      ]
    },
    {
      "cell_type": "code",
      "source": [
        "min = np.argmin(ddarray)\n",
        "min"
      ],
      "metadata": {
        "colab": {
          "base_uri": "https://localhost:8080/"
        },
        "id": "JdGpQZemXSvF",
        "outputId": "7d36b376-51aa-4217-f6b6-9925ed98f90d"
      },
      "execution_count": null,
      "outputs": [
        {
          "output_type": "execute_result",
          "data": {
            "text/plain": [
              "0"
            ]
          },
          "metadata": {},
          "execution_count": 671
        }
      ]
    },
    {
      "cell_type": "code",
      "source": [
        "# Get the index of the max value of an array\n",
        "max = np.argmax(a)\n",
        "print(max)"
      ],
      "metadata": {
        "colab": {
          "base_uri": "https://localhost:8080/"
        },
        "id": "M-wnNLIQY8aA",
        "outputId": "94ec194b-8932-45f3-8c5d-762e81d8ac6e"
      },
      "execution_count": null,
      "outputs": [
        {
          "output_type": "stream",
          "name": "stdout",
          "text": [
            "4\n"
          ]
        }
      ]
    },
    {
      "cell_type": "code",
      "source": [
        "# Argsort: Returns the index that would sort the original array:\n",
        "a = np.array([2, 0, 5, 4, 9, 4])\n",
        "a"
      ],
      "metadata": {
        "colab": {
          "base_uri": "https://localhost:8080/"
        },
        "id": "D0SnkDsWZM6v",
        "outputId": "5b314818-bdea-4f3d-f94a-d28259a73e9f"
      },
      "execution_count": null,
      "outputs": [
        {
          "output_type": "execute_result",
          "data": {
            "text/plain": [
              "array([2, 0, 5, 4, 9, 4])"
            ]
          },
          "metadata": {},
          "execution_count": 673
        }
      ]
    },
    {
      "cell_type": "code",
      "source": [
        "index = np.argsort(a)\n",
        "index"
      ],
      "metadata": {
        "colab": {
          "base_uri": "https://localhost:8080/"
        },
        "id": "KPPRA3wIZgys",
        "outputId": "d889ce5c-f0ad-4f3e-fa06-73fa042a5f68"
      },
      "execution_count": null,
      "outputs": [
        {
          "output_type": "execute_result",
          "data": {
            "text/plain": [
              "array([1, 0, 3, 5, 2, 4])"
            ]
          },
          "metadata": {},
          "execution_count": 674
        }
      ]
    },
    {
      "cell_type": "code",
      "source": [
        "# Uing the index lets sort the array a\n",
        "sorted_a = [a[elem] for elem in index]\n",
        "sorted_a"
      ],
      "metadata": {
        "colab": {
          "base_uri": "https://localhost:8080/"
        },
        "id": "15m3L6-jRLEk",
        "outputId": "ebdef81d-0299-4b64-e0f2-f7c6f296edb9"
      },
      "execution_count": null,
      "outputs": [
        {
          "output_type": "execute_result",
          "data": {
            "text/plain": [
              "[0, 2, 4, 4, 5, 9]"
            ]
          },
          "metadata": {},
          "execution_count": 675
        }
      ]
    },
    {
      "cell_type": "markdown",
      "source": [
        "# <font color=\"red\">**13) Universal Functions**</font>"
      ],
      "metadata": {
        "id": "ABh0lNlHaKS8"
      }
    },
    {
      "cell_type": "markdown",
      "source": [
        "## <font color=\"orange\">**13.1) Aggregate**</font>\n",
        "\n",
        "**For 1D:**\n",
        "\n",
        "- `np.sum(array_name)`\n",
        "- `np.mean(array_name)`\n",
        "- `np.min(array_name)`\n",
        "\n",
        "**For 2D:**\n",
        "\n",
        "- `np.sum(array_name, axis=0)` -->  Vertical axis ---> (Row-wise colapsing) ---> Column wise operation\n",
        "- `np.mean(array_name, axis=1)` --> Horizontal axis ---> (Column-wise colapsing) ---> Row wise operation"
      ],
      "metadata": {
        "id": "MKj4TPjSavga"
      }
    },
    {
      "cell_type": "code",
      "source": [
        "# For 1D:\n",
        "a = np.array([2, 0, 5, 4, 9, 4])\n",
        "a"
      ],
      "metadata": {
        "colab": {
          "base_uri": "https://localhost:8080/"
        },
        "id": "LvjlQTJpZqrs",
        "outputId": "ed0aaffc-20cb-4da4-e676-45ac204c52e6"
      },
      "execution_count": null,
      "outputs": [
        {
          "output_type": "execute_result",
          "data": {
            "text/plain": [
              "array([2, 0, 5, 4, 9, 4])"
            ]
          },
          "metadata": {},
          "execution_count": 676
        }
      ]
    },
    {
      "cell_type": "code",
      "source": [
        "# Sum of all the elements of array\n",
        "np.sum(a)"
      ],
      "metadata": {
        "colab": {
          "base_uri": "https://localhost:8080/"
        },
        "id": "HTQG5GOMaJu1",
        "outputId": "8c70c9e3-d670-40de-c3b7-6db9c890b00b"
      },
      "execution_count": null,
      "outputs": [
        {
          "output_type": "execute_result",
          "data": {
            "text/plain": [
              "24"
            ]
          },
          "metadata": {},
          "execution_count": 677
        }
      ]
    },
    {
      "cell_type": "code",
      "source": [
        "# Mean\n",
        "np.mean(a)"
      ],
      "metadata": {
        "colab": {
          "base_uri": "https://localhost:8080/"
        },
        "id": "7-EegkBpdCOU",
        "outputId": "07cefbff-8c45-4cd3-9d2a-f750573a0a48"
      },
      "execution_count": null,
      "outputs": [
        {
          "output_type": "execute_result",
          "data": {
            "text/plain": [
              "4.0"
            ]
          },
          "metadata": {},
          "execution_count": 678
        }
      ]
    },
    {
      "cell_type": "code",
      "source": [
        "# Min\n",
        "np.min(a)"
      ],
      "metadata": {
        "colab": {
          "base_uri": "https://localhost:8080/"
        },
        "id": "ESxcCOGFd9HX",
        "outputId": "94699c9f-31b8-4c4c-fcdf-3c5cf4089a21"
      },
      "execution_count": null,
      "outputs": [
        {
          "output_type": "execute_result",
          "data": {
            "text/plain": [
              "0"
            ]
          },
          "metadata": {},
          "execution_count": 679
        }
      ]
    },
    {
      "cell_type": "code",
      "source": [
        "'''\n",
        "axis = 0 ---> Vertical axis ---> (Row-wise colapsing) ---> Column wise operation\n",
        "axis = 1 ---> Horizontal axis ---> (Column-wise colapsing) ---> Row wise operation\n",
        "'''"
      ],
      "metadata": {
        "id": "daLIEL_te-WO",
        "colab": {
          "base_uri": "https://localhost:8080/"
        },
        "outputId": "361014f6-dcd6-4d81-d373-dd3d41909ae6"
      },
      "execution_count": null,
      "outputs": [
        {
          "output_type": "execute_result",
          "data": {
            "text/plain": [
              "'\\naxis = 0 ---> Vertical axis ---> (Row-wise colapsing) ---> Column wise operation\\naxis = 1 ---> Horizontal axis ---> (Column-wise colapsing) ---> Row wise operation\\n'"
            ],
            "application/vnd.google.colaboratory.intrinsic+json": {
              "type": "string"
            }
          },
          "metadata": {},
          "execution_count": 680
        }
      ]
    },
    {
      "cell_type": "code",
      "source": [
        "# For 2D:\n",
        "b = np.arange(12).reshape(3,4)\n",
        "print(b)"
      ],
      "metadata": {
        "colab": {
          "base_uri": "https://localhost:8080/"
        },
        "id": "yyMu4HiNeFuG",
        "outputId": "776f81c4-6504-444b-9c6f-97b6c5c06c3d"
      },
      "execution_count": null,
      "outputs": [
        {
          "output_type": "stream",
          "name": "stdout",
          "text": [
            "[[ 0  1  2  3]\n",
            " [ 4  5  6  7]\n",
            " [ 8  9 10 11]]\n"
          ]
        }
      ]
    },
    {
      "cell_type": "code",
      "source": [
        "np.sum(b)"
      ],
      "metadata": {
        "colab": {
          "base_uri": "https://localhost:8080/"
        },
        "id": "kbJncrNteQ8J",
        "outputId": "793d6035-0b79-4512-b03d-233ee128572c"
      },
      "execution_count": null,
      "outputs": [
        {
          "output_type": "execute_result",
          "data": {
            "text/plain": [
              "66"
            ]
          },
          "metadata": {},
          "execution_count": 682
        }
      ]
    },
    {
      "cell_type": "code",
      "source": [
        "# Column wise sum:\n",
        "np.sum(b, axis = 0)"
      ],
      "metadata": {
        "colab": {
          "base_uri": "https://localhost:8080/"
        },
        "id": "mWng2XVmeYOz",
        "outputId": "4ca675d7-2700-489f-cd5e-783f32a1d9b2"
      },
      "execution_count": null,
      "outputs": [
        {
          "output_type": "execute_result",
          "data": {
            "text/plain": [
              "array([12, 15, 18, 21])"
            ]
          },
          "metadata": {},
          "execution_count": 683
        }
      ]
    },
    {
      "cell_type": "code",
      "source": [
        "# Row wise sum:\n",
        "np.sum(b, axis = 1)"
      ],
      "metadata": {
        "colab": {
          "base_uri": "https://localhost:8080/"
        },
        "id": "KYnt_tA-e1NH",
        "outputId": "9266ebda-052e-40bb-a027-97a8d2698d8b"
      },
      "execution_count": null,
      "outputs": [
        {
          "output_type": "execute_result",
          "data": {
            "text/plain": [
              "array([ 6, 22, 38])"
            ]
          },
          "metadata": {},
          "execution_count": 684
        }
      ]
    },
    {
      "cell_type": "markdown",
      "source": [
        "## <font color=\"orange\">**13.2) Logical**</font>\n",
        "\n",
        "- `np.any(array_1 > array_2)` - Checks any\n",
        "- `np.all(array_1 > array_2)` - Checks all\n",
        "- `np.where(aarray_name > condition, do this, else do this)`"
      ],
      "metadata": {
        "id": "OWCUyAgTflEK"
      }
    },
    {
      "cell_type": "code",
      "source": [
        "a = np.array([2, 2, 5, 4, 9, 4])\n",
        "a"
      ],
      "metadata": {
        "colab": {
          "base_uri": "https://localhost:8080/"
        },
        "id": "R4WmcCeWfXLj",
        "outputId": "645a6fb6-732e-4bb9-f1f4-fc5f8c7ada16"
      },
      "execution_count": null,
      "outputs": [
        {
          "output_type": "execute_result",
          "data": {
            "text/plain": [
              "array([2, 2, 5, 4, 9, 4])"
            ]
          },
          "metadata": {},
          "execution_count": 685
        }
      ]
    },
    {
      "cell_type": "code",
      "source": [
        "b = np.array([5, 1, 1, 1, 1, 1])\n",
        "b"
      ],
      "metadata": {
        "colab": {
          "base_uri": "https://localhost:8080/"
        },
        "id": "dpDRb7YNfknd",
        "outputId": "f7836701-1549-4c74-d0bf-d135190ecd5a"
      },
      "execution_count": null,
      "outputs": [
        {
          "output_type": "execute_result",
          "data": {
            "text/plain": [
              "array([5, 1, 1, 1, 1, 1])"
            ]
          },
          "metadata": {},
          "execution_count": 686
        }
      ]
    },
    {
      "cell_type": "code",
      "source": [
        "a > b"
      ],
      "metadata": {
        "colab": {
          "base_uri": "https://localhost:8080/"
        },
        "id": "8WMFovNVlX_t",
        "outputId": "51de7423-2439-41f6-b4e5-e312d31dad41"
      },
      "execution_count": null,
      "outputs": [
        {
          "output_type": "execute_result",
          "data": {
            "text/plain": [
              "array([False,  True,  True,  True,  True,  True])"
            ]
          },
          "metadata": {},
          "execution_count": 687
        }
      ]
    },
    {
      "cell_type": "code",
      "source": [
        "np.any(a > b)"
      ],
      "metadata": {
        "colab": {
          "base_uri": "https://localhost:8080/"
        },
        "id": "QPghK0tjlObz",
        "outputId": "5eb420d2-c5c7-4d73-ca2b-003b2104efc3"
      },
      "execution_count": null,
      "outputs": [
        {
          "output_type": "execute_result",
          "data": {
            "text/plain": [
              "True"
            ]
          },
          "metadata": {},
          "execution_count": 688
        }
      ]
    },
    {
      "cell_type": "code",
      "source": [
        "np.all(a > b)"
      ],
      "metadata": {
        "colab": {
          "base_uri": "https://localhost:8080/"
        },
        "id": "8ybKsSjslQ4K",
        "outputId": "bfd2235a-8f51-4654-edb9-b148fa794732"
      },
      "execution_count": null,
      "outputs": [
        {
          "output_type": "execute_result",
          "data": {
            "text/plain": [
              "False"
            ]
          },
          "metadata": {},
          "execution_count": 689
        }
      ]
    },
    {
      "cell_type": "code",
      "source": [
        "# np.where(condition, x, y)\n",
        "a = np.array([2, 2, 5, 4, 9, 4])\n",
        "a"
      ],
      "metadata": {
        "colab": {
          "base_uri": "https://localhost:8080/"
        },
        "id": "g22FhU1XlcR6",
        "outputId": "63666421-22be-4a35-e84f-bb60fafc7929"
      },
      "execution_count": null,
      "outputs": [
        {
          "output_type": "execute_result",
          "data": {
            "text/plain": [
              "array([2, 2, 5, 4, 9, 4])"
            ]
          },
          "metadata": {},
          "execution_count": 690
        }
      ]
    },
    {
      "cell_type": "code",
      "source": [
        "np.where(a > 2, -1, 1)"
      ],
      "metadata": {
        "colab": {
          "base_uri": "https://localhost:8080/"
        },
        "id": "x7J4IkU9lxyy",
        "outputId": "ea4b1051-4825-4055-f3dc-f7508a568e13"
      },
      "execution_count": null,
      "outputs": [
        {
          "output_type": "execute_result",
          "data": {
            "text/plain": [
              "array([ 1,  1, -1, -1, -1, -1])"
            ]
          },
          "metadata": {},
          "execution_count": 691
        }
      ]
    },
    {
      "cell_type": "markdown",
      "source": [
        "# <font color=\"red\">**14) Copying array**</font>"
      ],
      "metadata": {
        "id": "cvxoLk_5mb3f"
      }
    },
    {
      "cell_type": "code",
      "source": [
        "'''\n",
        "## Shallow copy:\n",
        "\n",
        "#For checking:\n",
        "np.shares_memory(a,b) = True\n",
        "\n",
        "SAR - For Remenbering\n",
        "1) Slicing\n",
        "2) Asigning\n",
        "3) Reshaping\n",
        "\n",
        "#Syntax for creatng Shallow copy:\n",
        "b = a.view()\n",
        "\n",
        "\n",
        "## Deep copy:\n",
        "\n",
        "#For checking:\n",
        "np.shares_memory(a,b) = False\n",
        "\n",
        "MA - For Remenbering\n",
        "1) Masking\n",
        "2) Arithmetic operations\n",
        "\n",
        "#Syntax for creatng Deep copy:\n",
        "b = a.copy()\n",
        "'''"
      ],
      "metadata": {
        "id": "ue_5mXAIl6s9",
        "colab": {
          "base_uri": "https://localhost:8080/",
          "height": 70
        },
        "outputId": "447bd285-46b5-4e24-aa19-66804e78939c"
      },
      "execution_count": null,
      "outputs": [
        {
          "output_type": "execute_result",
          "data": {
            "text/plain": [
              "'\\n## Shallow copy:\\n\\n#For checking:\\nnp.shares_memory(a,b) = True\\n\\nSAR - For Remenbering\\n1) Slicing\\n2) Asigning\\n3) Reshaping\\n\\n#Syntax for creatng Shallow copy:\\nb = a.view()\\n\\n\\n## Deep copy:\\n\\n#For checking:\\nnp.shares_memory(a,b) = False\\n\\nMA - For Remenbering\\n1) Masking\\n2) Arithmetic operations\\n\\n#Syntax for creatng Deep copy:\\nb = a.copy()\\n'"
            ],
            "application/vnd.google.colaboratory.intrinsic+json": {
              "type": "string"
            }
          },
          "metadata": {},
          "execution_count": 692
        }
      ]
    },
    {
      "cell_type": "markdown",
      "source": [
        "## <font color=\"orange\">**14.1) Shallow copy**</font>"
      ],
      "metadata": {
        "id": "xWHpnb9nLSY2"
      }
    },
    {
      "cell_type": "markdown",
      "source": [
        "#### <font color=\"morange\">**14.1.1) Slicing**</font>"
      ],
      "metadata": {
        "id": "l1svkVzeLVlu"
      }
    },
    {
      "cell_type": "code",
      "source": [
        "# Creating array\n",
        "array_1 = np.array([5,4,78,4,55,422,4550])\n",
        "id(array_1)"
      ],
      "metadata": {
        "colab": {
          "base_uri": "https://localhost:8080/"
        },
        "id": "OM-fhLoULbPV",
        "outputId": "82f20b51-2aa6-4116-e9f4-31a644e9bcd3"
      },
      "execution_count": null,
      "outputs": [
        {
          "output_type": "execute_result",
          "data": {
            "text/plain": [
              "133898851200592"
            ]
          },
          "metadata": {},
          "execution_count": 706
        }
      ]
    },
    {
      "cell_type": "code",
      "source": [
        "# Slicing\n",
        "sliced = array_1[:5]\n",
        "id(sliced)"
      ],
      "metadata": {
        "colab": {
          "base_uri": "https://localhost:8080/"
        },
        "id": "MfgEqK8D23IE",
        "outputId": "302460df-9cbf-4e8c-9029-10bd1c77da86"
      },
      "execution_count": null,
      "outputs": [
        {
          "output_type": "execute_result",
          "data": {
            "text/plain": [
              "133898844054960"
            ]
          },
          "metadata": {},
          "execution_count": 708
        }
      ]
    },
    {
      "cell_type": "code",
      "source": [
        "np.shares_memory(array_1, sliced)"
      ],
      "metadata": {
        "colab": {
          "base_uri": "https://localhost:8080/"
        },
        "id": "NHZ7W33nLHpu",
        "outputId": "7d0a57c4-d53a-4db9-8bdf-71b98189c697"
      },
      "execution_count": null,
      "outputs": [
        {
          "output_type": "execute_result",
          "data": {
            "text/plain": [
              "True"
            ]
          },
          "metadata": {},
          "execution_count": 709
        }
      ]
    },
    {
      "cell_type": "code",
      "source": [
        "# If array_1[0] is changed, sliced also changing\n",
        "array_1[0] = 0\n",
        "array_1, sliced"
      ],
      "metadata": {
        "colab": {
          "base_uri": "https://localhost:8080/"
        },
        "id": "0V_Yl929N-h3",
        "outputId": "d1096ddb-dd52-4250-d0cc-4f07da8ae5e9"
      },
      "execution_count": null,
      "outputs": [
        {
          "output_type": "execute_result",
          "data": {
            "text/plain": [
              "(array([   0,    4,   78,    4,   55,  422, 4550]),\n",
              " array([ 0,  4, 78,  4, 55]))"
            ]
          },
          "metadata": {},
          "execution_count": 710
        }
      ]
    },
    {
      "cell_type": "markdown",
      "source": [
        "#### <font color=\"morange\">**14.1.2) Assigning**</font>"
      ],
      "metadata": {
        "id": "0R0Gux-3M3I4"
      }
    },
    {
      "cell_type": "code",
      "source": [
        "# Creating array\n",
        "array = np.array([1,2,3,4,5,6])\n",
        "id(array)"
      ],
      "metadata": {
        "colab": {
          "base_uri": "https://localhost:8080/"
        },
        "id": "qpu5udPYLfu-",
        "outputId": "5e728c2f-1d7b-428b-c639-aefe78217da8"
      },
      "execution_count": null,
      "outputs": [
        {
          "output_type": "execute_result",
          "data": {
            "text/plain": [
              "133898851287472"
            ]
          },
          "metadata": {},
          "execution_count": 715
        }
      ]
    },
    {
      "cell_type": "code",
      "source": [
        "# Assigning\n",
        "new_array = array\n",
        "id(new_array)"
      ],
      "metadata": {
        "colab": {
          "base_uri": "https://localhost:8080/"
        },
        "id": "byieV2oZLfpl",
        "outputId": "5536fb1c-8f41-4961-8857-9be0ce7a3579"
      },
      "execution_count": null,
      "outputs": [
        {
          "output_type": "execute_result",
          "data": {
            "text/plain": [
              "133898851287472"
            ]
          },
          "metadata": {},
          "execution_count": 716
        }
      ]
    },
    {
      "cell_type": "code",
      "source": [
        "np.shares_memory(array, new_array)"
      ],
      "metadata": {
        "colab": {
          "base_uri": "https://localhost:8080/"
        },
        "id": "5zuVkVn6PR11",
        "outputId": "230814b6-876c-4825-8b79-686f94e667c4"
      },
      "execution_count": null,
      "outputs": [
        {
          "output_type": "execute_result",
          "data": {
            "text/plain": [
              "True"
            ]
          },
          "metadata": {},
          "execution_count": 717
        }
      ]
    },
    {
      "cell_type": "code",
      "source": [
        "# If array_1[0] is changed, new_array also changing\n",
        "array[0] = 0\n",
        "array, new_array"
      ],
      "metadata": {
        "colab": {
          "base_uri": "https://localhost:8080/"
        },
        "id": "WzaYM82YPqKA",
        "outputId": "7e72e583-505f-4b70-d43a-e0a45296392e"
      },
      "execution_count": null,
      "outputs": [
        {
          "output_type": "execute_result",
          "data": {
            "text/plain": [
              "(array([0, 2, 3, 4, 5, 6]), array([0, 2, 3, 4, 5, 6]))"
            ]
          },
          "metadata": {},
          "execution_count": 718
        }
      ]
    },
    {
      "cell_type": "markdown",
      "source": [
        "#### <font color=\"morange\">**14.1.3) Reshaping**</font>"
      ],
      "metadata": {
        "id": "hdwB6GYFV8JL"
      }
    },
    {
      "cell_type": "code",
      "source": [
        "# Creating array\n",
        "array_2 = np.arange(9)\n",
        "print(array_2)\n",
        "print(id(array_2))\n",
        "print()\n",
        "\n",
        "# Reshaping array\n",
        "reshaped = array_2.reshape(3,-1)\n",
        "print(reshaped)\n",
        "print(id(reshaped))"
      ],
      "metadata": {
        "colab": {
          "base_uri": "https://localhost:8080/"
        },
        "id": "Ow-EuJrsPqFH",
        "outputId": "d48d446e-22e2-4427-d780-5f5e34b61326"
      },
      "execution_count": null,
      "outputs": [
        {
          "output_type": "stream",
          "name": "stdout",
          "text": [
            "[0 1 2 3 4 5 6 7 8]\n",
            "133898829128176\n",
            "\n",
            "[[0 1 2]\n",
            " [3 4 5]\n",
            " [6 7 8]]\n",
            "133898829137072\n"
          ]
        }
      ]
    },
    {
      "cell_type": "code",
      "source": [
        "np.shares_memory(array_2, reshaped)"
      ],
      "metadata": {
        "colab": {
          "base_uri": "https://localhost:8080/"
        },
        "id": "602oiMAOWAi0",
        "outputId": "75555778-cc5e-4afd-97e6-21797e39f227"
      },
      "execution_count": null,
      "outputs": [
        {
          "output_type": "execute_result",
          "data": {
            "text/plain": [
              "True"
            ]
          },
          "metadata": {},
          "execution_count": 727
        }
      ]
    },
    {
      "cell_type": "code",
      "source": [
        "# Shares memory is proved\n",
        "array_2[0] = 100\n",
        "array_2, reshaped"
      ],
      "metadata": {
        "colab": {
          "base_uri": "https://localhost:8080/"
        },
        "id": "x5iGohfUXCaq",
        "outputId": "c36faa43-f39c-4aac-e531-93c67d2416d7"
      },
      "execution_count": null,
      "outputs": [
        {
          "output_type": "execute_result",
          "data": {
            "text/plain": [
              "(array([100,   1,   2,   3,   4,   5,   6,   7,   8]),\n",
              " array([[100,   1,   2],\n",
              "        [  3,   4,   5],\n",
              "        [  6,   7,   8]]))"
            ]
          },
          "metadata": {},
          "execution_count": 728
        }
      ]
    },
    {
      "cell_type": "markdown",
      "source": [
        "## <font color=\"orange\">**14.2) Deep copy**</font>"
      ],
      "metadata": {
        "id": "7p7gMiGGX5tJ"
      }
    },
    {
      "cell_type": "markdown",
      "source": [
        "#### <font color=\"morange\">**14.2.1) Masking**</font>"
      ],
      "metadata": {
        "id": "LFxEuVLpX_4K"
      }
    },
    {
      "cell_type": "code",
      "source": [
        "ary = np.arange(6)\n",
        "print(ary)\n",
        "print(id(ary))"
      ],
      "metadata": {
        "colab": {
          "base_uri": "https://localhost:8080/"
        },
        "id": "DwJRf-imXerF",
        "outputId": "cc3fe4e4-fd4e-4e31-a570-9cf1e669360d"
      },
      "execution_count": null,
      "outputs": [
        {
          "output_type": "stream",
          "name": "stdout",
          "text": [
            "[0 1 2 3 4 5]\n",
            "133898829255696\n"
          ]
        }
      ]
    },
    {
      "cell_type": "code",
      "source": [
        "result = ary[ary > 2]\n",
        "print(result)\n",
        "id(result)"
      ],
      "metadata": {
        "colab": {
          "base_uri": "https://localhost:8080/"
        },
        "id": "5rBuzs8bYKCT",
        "outputId": "2d6aff0c-c0a1-4209-9fbf-ebf36dce4fa6"
      },
      "execution_count": null,
      "outputs": [
        {
          "output_type": "stream",
          "name": "stdout",
          "text": [
            "[3 4 5]\n"
          ]
        },
        {
          "output_type": "execute_result",
          "data": {
            "text/plain": [
              "133898828890256"
            ]
          },
          "metadata": {},
          "execution_count": 738
        }
      ]
    },
    {
      "cell_type": "code",
      "source": [
        "np.shares_memory(ary, result)"
      ],
      "metadata": {
        "colab": {
          "base_uri": "https://localhost:8080/"
        },
        "id": "duBilf8zYJ8x",
        "outputId": "670b28cd-996d-4989-bc7a-9b995d53ed2f"
      },
      "execution_count": null,
      "outputs": [
        {
          "output_type": "execute_result",
          "data": {
            "text/plain": [
              "False"
            ]
          },
          "metadata": {},
          "execution_count": 739
        }
      ]
    },
    {
      "cell_type": "code",
      "source": [
        "# The result does not change\n",
        "ary[2] = 3\n",
        "ary, result"
      ],
      "metadata": {
        "colab": {
          "base_uri": "https://localhost:8080/"
        },
        "id": "JeMQUAhbZVAx",
        "outputId": "f01bdf0b-15cd-49dd-9c65-7b4417cd937c"
      },
      "execution_count": null,
      "outputs": [
        {
          "output_type": "execute_result",
          "data": {
            "text/plain": [
              "(array([0, 1, 3, 3, 4, 5]), array([3, 4, 5]))"
            ]
          },
          "metadata": {},
          "execution_count": 741
        }
      ]
    },
    {
      "cell_type": "markdown",
      "source": [
        "#### <font color=\"morange\">**14.2.2) Arithmetic Operations**</font>"
      ],
      "metadata": {
        "id": "53Cvm1jwaE-C"
      }
    },
    {
      "cell_type": "code",
      "source": [
        "ay = np.arange(7)\n",
        "print(ay)\n",
        "print(id(ay))"
      ],
      "metadata": {
        "colab": {
          "base_uri": "https://localhost:8080/"
        },
        "id": "yTKHNGceZpsX",
        "outputId": "dfb3e82f-3aae-4796-ebe7-c789360b811e"
      },
      "execution_count": null,
      "outputs": [
        {
          "output_type": "stream",
          "name": "stdout",
          "text": [
            "[0 1 2 3 4 5 6]\n",
            "133898831212592\n"
          ]
        }
      ]
    },
    {
      "cell_type": "code",
      "source": [
        "result = ay + 2\n",
        "print(result)\n",
        "print(id(result))"
      ],
      "metadata": {
        "colab": {
          "base_uri": "https://localhost:8080/"
        },
        "id": "c-Ch8DS9ah9G",
        "outputId": "b2b3170f-fd17-4940-e0c0-d63d70ed9fdc"
      },
      "execution_count": null,
      "outputs": [
        {
          "output_type": "stream",
          "name": "stdout",
          "text": [
            "[2 3 4 5 6 7 8]\n",
            "133898831315952\n"
          ]
        }
      ]
    },
    {
      "cell_type": "code",
      "source": [
        "np.shares_memory(ay, result)"
      ],
      "metadata": {
        "colab": {
          "base_uri": "https://localhost:8080/"
        },
        "id": "T6dpxqO_a4ey",
        "outputId": "13549fdc-a243-466c-c730-0bafc4bd313e"
      },
      "execution_count": null,
      "outputs": [
        {
          "output_type": "execute_result",
          "data": {
            "text/plain": [
              "False"
            ]
          },
          "metadata": {},
          "execution_count": 754
        }
      ]
    },
    {
      "cell_type": "markdown",
      "source": [
        "# <font color=\"red\">**15) Misc**</font>"
      ],
      "metadata": {
        "id": "l5ySZQ-hufVI"
      }
    },
    {
      "cell_type": "code",
      "source": [
        "# Changing the datatype of -an array:\n",
        "'''\n",
        "arr.astype(\"int\")\n",
        "'''"
      ],
      "metadata": {
        "id": "1g0d97I4uj4A"
      },
      "execution_count": null,
      "outputs": []
    },
    {
      "cell_type": "markdown",
      "source": [
        "- `np.unique(array_name)`- Unique elements\n",
        "- `unique_elements, counts = np.unique(array_name, return_counts=True)` - Unique values and counts"
      ],
      "metadata": {
        "id": "ASaqMiK96C4I"
      }
    },
    {
      "cell_type": "code",
      "source": [
        "protein = [4, 3, 4, 4, 2, 2, 2, 3, 2, 3, 1, 6, 1, 3, 1, 2, 2, 1, 1, 3, 3, 2, 2, 2, 2, 1, 3, 3, 3, 1, 2, 1, 3, 3, 3, 1, 3, 1, 2, 3, 2, 4, 2, 4, 4, 4, 3, 2, 2, 3, 3, 3, 3, 3, 1, 2, 4, 5, 3, 3, 2, 1, 2, 2, 3, 3, 2, 6, 2, 2, 3, 3, 2, 1, 3, 3, 2]"
      ],
      "metadata": {
        "id": "csJZOo7R4yIz"
      },
      "execution_count": null,
      "outputs": []
    },
    {
      "cell_type": "code",
      "source": [
        "protein = np.array(protein)"
      ],
      "metadata": {
        "id": "9SC1BxrY5el-"
      },
      "execution_count": null,
      "outputs": []
    },
    {
      "cell_type": "code",
      "source": [
        "unique_elements = np.unique(protein)\n",
        "unique_elements"
      ],
      "metadata": {
        "colab": {
          "base_uri": "https://localhost:8080/"
        },
        "id": "tHJuQ3nc5nDS",
        "outputId": "f5a69f7c-417b-4422-f923-35c61cf8944b"
      },
      "execution_count": null,
      "outputs": [
        {
          "output_type": "execute_result",
          "data": {
            "text/plain": [
              "array([1, 2, 3, 4, 5, 6])"
            ]
          },
          "metadata": {},
          "execution_count": 230
        }
      ]
    },
    {
      "cell_type": "code",
      "source": [
        "unique_elements, counts = np.unique(protein, return_counts = True)"
      ],
      "metadata": {
        "id": "XJuJb-4q5tzo"
      },
      "execution_count": null,
      "outputs": []
    },
    {
      "cell_type": "code",
      "source": [
        "unique_elements"
      ],
      "metadata": {
        "colab": {
          "base_uri": "https://localhost:8080/"
        },
        "id": "zuN5mmqx58fS",
        "outputId": "16e16e92-daec-4e10-8b02-cc0067f67a80"
      },
      "execution_count": null,
      "outputs": [
        {
          "output_type": "execute_result",
          "data": {
            "text/plain": [
              "array([1, 2, 3, 4, 5, 6])"
            ]
          },
          "metadata": {},
          "execution_count": 232
        }
      ]
    },
    {
      "cell_type": "code",
      "source": [
        "counts"
      ],
      "metadata": {
        "colab": {
          "base_uri": "https://localhost:8080/"
        },
        "id": "NIYiVP7l59_j",
        "outputId": "f1e6d931-f8fc-4f20-9c73-87eaf0130504"
      },
      "execution_count": null,
      "outputs": [
        {
          "output_type": "execute_result",
          "data": {
            "text/plain": [
              "array([13, 25, 28,  8,  1,  2])"
            ]
          },
          "metadata": {},
          "execution_count": 233
        }
      ]
    },
    {
      "cell_type": "markdown",
      "source": [
        "\n",
        "\n",
        "---\n",
        "\n",
        "\n",
        "\n",
        "---\n",
        "\n"
      ],
      "metadata": {
        "id": "Oi7MWsd6qQUl"
      }
    },
    {
      "cell_type": "markdown",
      "source": [
        "By\n",
        "\n",
        "SANKARAN MEENAKSHI SUNDARAM\n",
        "\n",
        "MS in Computer Science: Artificial Intelligence and Machine Learning\n",
        "\n",
        "Scaler neovarsity, a constituent member college of woolf"
      ],
      "metadata": {
        "id": "AA6-A0UKqdLN"
      }
    }
  ]
}